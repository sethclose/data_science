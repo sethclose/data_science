{
 "cells": [
  {
   "cell_type": "markdown",
   "id": "0a906f34-fc0d-4859-beec-286359e0967b",
   "metadata": {},
   "source": [
    "# **Markdown**"
   ]
  },
  {
   "cell_type": "markdown",
   "id": "8eb2e2ce-a41d-49ff-874f-eeb8951da44e",
   "metadata": {},
   "source": [
    "#### Author:  Seth Close"
   ]
  },
  {
   "cell_type": "markdown",
   "id": "342e6d2c-91a8-4186-8e87-3f768f5018ef",
   "metadata": {},
   "source": [
    "#### 30 DEC 2023"
   ]
  },
  {
   "cell_type": "raw",
   "id": "2ecf7929-5a8a-4b23-abce-0a0ab39c1a3d",
   "metadata": {},
   "source": [
    "Heading\t# H1\n",
    "## H2\n",
    "### H3\n",
    "\n",
    "Bold\t**bold text**\n",
    "Italic\t*italicized text*\n",
    "\n",
    "Blockquote\t> blockquote\n",
    "\n",
    "Ordered List\t\n",
    "1. First item\n",
    "2. Second item\n",
    "3. Third item\n",
    "\n",
    "Unordered List\t\n",
    "- First item\n",
    "- Second item\n",
    "- Third item\n",
    "\n",
    "Code\t`code`\n",
    "\n",
    "Horizontal Rule\t---\n",
    "\n",
    "Link\t[title](https://www.example.com)\n",
    "\n",
    "Image\t![alt text](image.jpg)\n",
    "\n",
    "Table\t| Syntax | Description |\n",
    "| ----------- | ----------- |\n",
    "| Header | Title |\n",
    "| Paragraph | Text |\n",
    "\n",
    "Fenced Code Block\t```\n",
    "{\n",
    "  \"firstName\": \"John\",\n",
    "  \"lastName\": \"Smith\",\n",
    "  \"age\": 25\n",
    "}\n",
    "```\n",
    "\n",
    "Footnote\tHere's a sentence with a footnote. [^1]\n",
    "\n",
    "[^1]: This is the footnote.\n",
    "\n",
    "Heading ID\t### My Great Heading {#custom-id}\n",
    "\n",
    "Definition List\tterm\n",
    ": definition\n",
    "\n",
    "Strikethrough\t~~The world is flat.~~\n",
    "\n",
    "Task List\t- [x] Write the press release\n",
    "- [ ] Update the website\n",
    "- [ ] Contact the media\n",
    "\n",
    "Emoji\n",
    "(see also Copying and Pasting Emoji)\tThat is so funny! :joy:\n",
    "\n",
    "Highlight\tI need to highlight these ==very important words==.\n",
    "\n",
    "Subscript\tH~2~O\n",
    "\n",
    "Superscript\tX^2^"
   ]
  }
 ],
 "metadata": {
  "kernelspec": {
   "display_name": "Python 3 (ipykernel)",
   "language": "python",
   "name": "python3"
  },
  "language_info": {
   "codemirror_mode": {
    "name": "ipython",
    "version": 3
   },
   "file_extension": ".py",
   "mimetype": "text/x-python",
   "name": "python",
   "nbconvert_exporter": "python",
   "pygments_lexer": "ipython3",
   "version": "3.9.2"
  }
 },
 "nbformat": 4,
 "nbformat_minor": 5
}
