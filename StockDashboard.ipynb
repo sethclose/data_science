{
 "cells": [
  {
   "cell_type": "markdown",
   "id": "047ac96f-7107-4652-a227-6ac427423d71",
   "metadata": {},
   "source": [
    "## **Stock Dashboard**"
   ]
  },
  {
   "cell_type": "code",
   "execution_count": 3,
   "id": "bea3d7ef-b434-49ed-ad6c-6625e199fe12",
   "metadata": {},
   "outputs": [
    {
     "name": "stdout",
     "output_type": "stream",
     "text": [
      "Imports Successful\n"
     ]
    }
   ],
   "source": [
    "import yfinance as yf\n",
    "import pandas as pd\n",
    "import numpy as np\n",
    "import requests as rq\n",
    "from bs4 import BeautifulSoup as bs\n",
    "import plotly.graph_objects as go\n",
    "from plotly.subplots import make_subplots\n",
    "print(\"Imports Successful\")"
   ]
  },
  {
   "cell_type": "markdown",
   "id": "65f3bbbf-ab53-400e-b26e-ca8c2d048fe6",
   "metadata": {},
   "source": [
    "#### **Tesla Stock Data**"
   ]
  },
  {
   "cell_type": "code",
   "execution_count": 73,
   "id": "6f2f5348-247b-47d0-a54d-28697e7c6128",
   "metadata": {},
   "outputs": [
    {
     "data": {
      "text/html": [
       "<div>\n",
       "<style scoped>\n",
       "    .dataframe tbody tr th:only-of-type {\n",
       "        vertical-align: middle;\n",
       "    }\n",
       "\n",
       "    .dataframe tbody tr th {\n",
       "        vertical-align: top;\n",
       "    }\n",
       "\n",
       "    .dataframe thead th {\n",
       "        text-align: right;\n",
       "    }\n",
       "</style>\n",
       "<table border=\"1\" class=\"dataframe\">\n",
       "  <thead>\n",
       "    <tr style=\"text-align: right;\">\n",
       "      <th></th>\n",
       "      <th>Date</th>\n",
       "      <th>Price</th>\n",
       "    </tr>\n",
       "  </thead>\n",
       "  <tbody>\n",
       "    <tr>\n",
       "      <th>0</th>\n",
       "      <td>2010-06-29</td>\n",
       "      <td>1.592667</td>\n",
       "    </tr>\n",
       "    <tr>\n",
       "      <th>1</th>\n",
       "      <td>2010-06-30</td>\n",
       "      <td>1.588667</td>\n",
       "    </tr>\n",
       "    <tr>\n",
       "      <th>2</th>\n",
       "      <td>2010-07-01</td>\n",
       "      <td>1.464000</td>\n",
       "    </tr>\n",
       "    <tr>\n",
       "      <th>3</th>\n",
       "      <td>2010-07-02</td>\n",
       "      <td>1.280000</td>\n",
       "    </tr>\n",
       "    <tr>\n",
       "      <th>4</th>\n",
       "      <td>2010-07-06</td>\n",
       "      <td>1.074000</td>\n",
       "    </tr>\n",
       "  </tbody>\n",
       "</table>\n",
       "</div>"
      ],
      "text/plain": [
       "         Date     Price\n",
       "0  2010-06-29  1.592667\n",
       "1  2010-06-30  1.588667\n",
       "2  2010-07-01  1.464000\n",
       "3  2010-07-02  1.280000\n",
       "4  2010-07-06  1.074000"
      ]
     },
     "execution_count": 73,
     "metadata": {},
     "output_type": "execute_result"
    }
   ],
   "source": [
    "tesla = yf.Ticker(\"TSLA\")\n",
    "tesla_stock = tesla.history(period=\"max\")\n",
    "tesla_stock.reset_index(inplace=True)\n",
    "tesla_stock = tesla_stock[['Date', 'Close']]\n",
    "tesla_stock = tesla_stock.rename(columns={\"Close\": \"Price\"})\n",
    "tesla_stock['Date'] = pd.to_datetime(tesla_stock['Date']).dt.date\n",
    "tesla_stock.head()"
   ]
  },
  {
   "cell_type": "markdown",
   "id": "f2814dec-43a3-4dd5-896d-48df5b53ab51",
   "metadata": {},
   "source": [
    "#### **Tesla Revenue Data**"
   ]
  },
  {
   "cell_type": "code",
   "execution_count": 46,
   "id": "cfd746b2-01d0-4d2d-8597-16ecc3b7176e",
   "metadata": {},
   "outputs": [
    {
     "name": "stdout",
     "output_type": "stream",
     "text": [
      "\n",
      "<!DOCTYPE html>\n",
      "<!--[if lt IE ... ... ... OF TOTAL: 64779\n"
     ]
    }
   ],
   "source": [
    "## Download Data\n",
    "url = \"https://cf-courses-data.s3.us.cloud-object-storage.appdomain.cloud/IBMDeveloperSkillsNetwork-PY0220EN-SkillsNetwork/labs/project/revenue.htm\"\n",
    "tesla_data  = rq.get(url).text\n",
    "print(tesla_data[:30], '... ... ... OF TOTAL:', len(tesla_data))"
   ]
  },
  {
   "cell_type": "code",
   "execution_count": 47,
   "id": "df94255f-7776-4cb1-b974-f462ad0d71b5",
   "metadata": {},
   "outputs": [
    {
     "data": {
      "text/plain": [
       "'Tesla Revenue 2010-2022 | TSLA | MacroTrends'"
      ]
     },
     "execution_count": 47,
     "metadata": {},
     "output_type": "execute_result"
    }
   ],
   "source": [
    "# Parse HTML\n",
    "tesla_soup = bs(tesla_data, \"html.parser\")\n",
    "tesla_soup.title.string"
   ]
  },
  {
   "cell_type": "code",
   "execution_count": 48,
   "id": "83df48b1-5788-4c4c-96fb-9e18e28d3d36",
   "metadata": {},
   "outputs": [],
   "source": [
    "# Create List of Table Rows\n",
    "#table_bs = bs(data, \"html.parser\")\n",
    "tesla_rows = tesla_soup.find_all('tr') # List"
   ]
  },
  {
   "cell_type": "code",
   "execution_count": 49,
   "id": "a51c9a00-c878-40ac-9a22-0d008bfdb26c",
   "metadata": {},
   "outputs": [],
   "source": [
    "# Create a Zero Numpy Array for Data\n",
    "tesla_num_rows = 14\n",
    "tesla_array = np.zeros(shape=(tesla_num_rows, 2), dtype=object)"
   ]
  },
  {
   "cell_type": "code",
   "execution_count": 50,
   "id": "80ab4e74-aaec-41ea-8249-1efea73a2c49",
   "metadata": {},
   "outputs": [],
   "source": [
    "# Populate Numpy Array with Table Data\n",
    "for i, row in enumerate(tesla_rows):\n",
    "    if i < tesla_num_rows:\n",
    "        cells = row.find_all('td')\n",
    "        for j, cell in enumerate(cells):\n",
    "            tesla_array[i-1,j] = cell.string "
   ]
  },
  {
   "cell_type": "code",
   "execution_count": 79,
   "id": "b2ecc0d8-7409-4602-abf9-bfa93a322420",
   "metadata": {},
   "outputs": [
    {
     "data": {
      "text/html": [
       "<div>\n",
       "<style scoped>\n",
       "    .dataframe tbody tr th:only-of-type {\n",
       "        vertical-align: middle;\n",
       "    }\n",
       "\n",
       "    .dataframe tbody tr th {\n",
       "        vertical-align: top;\n",
       "    }\n",
       "\n",
       "    .dataframe thead th {\n",
       "        text-align: right;\n",
       "    }\n",
       "</style>\n",
       "<table border=\"1\" class=\"dataframe\">\n",
       "  <thead>\n",
       "    <tr style=\"text-align: right;\">\n",
       "      <th></th>\n",
       "      <th>Year</th>\n",
       "      <th>Revenue</th>\n",
       "    </tr>\n",
       "  </thead>\n",
       "  <tbody>\n",
       "    <tr>\n",
       "      <th>0</th>\n",
       "      <td>2009</td>\n",
       "      <td>112</td>\n",
       "    </tr>\n",
       "    <tr>\n",
       "      <th>1</th>\n",
       "      <td>2010</td>\n",
       "      <td>117</td>\n",
       "    </tr>\n",
       "    <tr>\n",
       "      <th>2</th>\n",
       "      <td>2011</td>\n",
       "      <td>204</td>\n",
       "    </tr>\n",
       "    <tr>\n",
       "      <th>3</th>\n",
       "      <td>2012</td>\n",
       "      <td>413</td>\n",
       "    </tr>\n",
       "    <tr>\n",
       "      <th>4</th>\n",
       "      <td>2013</td>\n",
       "      <td>2013</td>\n",
       "    </tr>\n",
       "  </tbody>\n",
       "</table>\n",
       "</div>"
      ],
      "text/plain": [
       "   Year  Revenue\n",
       "0  2009      112\n",
       "1  2010      117\n",
       "2  2011      204\n",
       "3  2012      413\n",
       "4  2013     2013"
      ]
     },
     "execution_count": 79,
     "metadata": {},
     "output_type": "execute_result"
    }
   ],
   "source": [
    "# Create DataFrame and Clean Data\n",
    "tesla_revenue = pd.DataFrame(tesla_array[:], \n",
    "                  columns=['Year','Revenue'])\n",
    "tesla_revenue = tesla_revenue.astype({\"Year\":str,\"Revenue\":str})\n",
    "tesla_revenue = tesla_revenue.drop(tesla_revenue.index[13])                  # Remove that last None row\n",
    "tesla_revenue.Revenue = tesla_revenue.Revenue.apply(lambda s: s.replace(\",\",\"\")) # Remove Volume Commas\n",
    "tesla_revenue.Revenue = tesla_revenue.Revenue.apply(lambda s: s.replace(\"$\",\"\")) # Remove Volume $\n",
    "tesla_revenue = tesla_revenue.astype({\"Year\":int,\"Revenue\":int})   # Convert Volume to Integer\n",
    "tesla_revenue = tesla_revenue.reindex(index=tesla_revenue.index[::-1])\n",
    "tesla_revenue = tesla_revenue.reset_index()\n",
    "tesla_revenue.drop(['index'], inplace=True, axis=1)\n",
    "tesla_revenue.head()"
   ]
  },
  {
   "cell_type": "markdown",
   "id": "f73b5487-878b-4279-a094-81ac320ed055",
   "metadata": {},
   "source": [
    "#### **GameStop Stock Data**"
   ]
  },
  {
   "cell_type": "code",
   "execution_count": 72,
   "id": "ad87a97e-96ad-41f4-b147-5acb982124a2",
   "metadata": {},
   "outputs": [
    {
     "data": {
      "text/html": [
       "<div>\n",
       "<style scoped>\n",
       "    .dataframe tbody tr th:only-of-type {\n",
       "        vertical-align: middle;\n",
       "    }\n",
       "\n",
       "    .dataframe tbody tr th {\n",
       "        vertical-align: top;\n",
       "    }\n",
       "\n",
       "    .dataframe thead th {\n",
       "        text-align: right;\n",
       "    }\n",
       "</style>\n",
       "<table border=\"1\" class=\"dataframe\">\n",
       "  <thead>\n",
       "    <tr style=\"text-align: right;\">\n",
       "      <th></th>\n",
       "      <th>Date</th>\n",
       "      <th>Price</th>\n",
       "    </tr>\n",
       "  </thead>\n",
       "  <tbody>\n",
       "    <tr>\n",
       "      <th>0</th>\n",
       "      <td>2002-02-13</td>\n",
       "      <td>1.691666</td>\n",
       "    </tr>\n",
       "    <tr>\n",
       "      <th>1</th>\n",
       "      <td>2002-02-14</td>\n",
       "      <td>1.683251</td>\n",
       "    </tr>\n",
       "    <tr>\n",
       "      <th>2</th>\n",
       "      <td>2002-02-15</td>\n",
       "      <td>1.674834</td>\n",
       "    </tr>\n",
       "    <tr>\n",
       "      <th>3</th>\n",
       "      <td>2002-02-19</td>\n",
       "      <td>1.607504</td>\n",
       "    </tr>\n",
       "    <tr>\n",
       "      <th>4</th>\n",
       "      <td>2002-02-20</td>\n",
       "      <td>1.662210</td>\n",
       "    </tr>\n",
       "  </tbody>\n",
       "</table>\n",
       "</div>"
      ],
      "text/plain": [
       "         Date     Price\n",
       "0  2002-02-13  1.691666\n",
       "1  2002-02-14  1.683251\n",
       "2  2002-02-15  1.674834\n",
       "3  2002-02-19  1.607504\n",
       "4  2002-02-20  1.662210"
      ]
     },
     "execution_count": 72,
     "metadata": {},
     "output_type": "execute_result"
    }
   ],
   "source": [
    "gamestop = yf.Ticker(\"GME\")\n",
    "gamestop_stock = gamestop.history(period=\"max\")\n",
    "gamestop_stock.reset_index(inplace=True)\n",
    "gamestop_stock = gamestop_stock[['Date', 'Close']]\n",
    "gamestop_stock = gamestop_stock.rename(columns={\"Close\": \"Price\"})\n",
    "gamestop_stock['Date'] = pd.to_datetime(gamestop_stock['Date']).dt.date\n",
    "gamestop_stock.head()"
   ]
  },
  {
   "cell_type": "markdown",
   "id": "22c1581a-a997-4355-bd59-29eedfefd485",
   "metadata": {},
   "source": [
    "#### **GameStop Revenue Data**"
   ]
  },
  {
   "cell_type": "code",
   "execution_count": 12,
   "id": "aa16fe66-a302-4a8c-aaa1-da538c404f82",
   "metadata": {},
   "outputs": [
    {
     "name": "stdout",
     "output_type": "stream",
     "text": [
      "<!DOCTYPE html>\n",
      "<!-- saved fro ... ... ... OF TOTAL: 88703\n"
     ]
    }
   ],
   "source": [
    "## Download Data\n",
    "url = \" https://cf-courses-data.s3.us.cloud-object-storage.appdomain.cloud/IBMDeveloperSkillsNetwork-PY0220EN-SkillsNetwork/labs/project/stock.html\"\n",
    "gamestop_data  = rq.get(url).text\n",
    "print(gamestop_data[:30], '... ... ... OF TOTAL:', len(gamestop_data))"
   ]
  },
  {
   "cell_type": "code",
   "execution_count": 13,
   "id": "f1447b33-e8d5-44cd-b08c-9d5c36ad0ae6",
   "metadata": {},
   "outputs": [
    {
     "data": {
      "text/plain": [
       "'GameStop Revenue 2006-2020 | GME | MacroTrends'"
      ]
     },
     "execution_count": 13,
     "metadata": {},
     "output_type": "execute_result"
    }
   ],
   "source": [
    "# Parse HTML\n",
    "gamestop_soup = bs(gamestop_data, \"html.parser\")\n",
    "gamestop_soup.title.string"
   ]
  },
  {
   "cell_type": "code",
   "execution_count": 14,
   "id": "c5c6f997-1934-410d-bdef-ecb61e93dff8",
   "metadata": {},
   "outputs": [],
   "source": [
    "# Create List of Table Rows\n",
    "gamestop_rows = gamestop_soup.find_all('tr') # List"
   ]
  },
  {
   "cell_type": "code",
   "execution_count": 15,
   "id": "d9038c68-4c63-4ca1-8966-3ebb3e54f271",
   "metadata": {},
   "outputs": [],
   "source": [
    "# Create a Zero Numpy Array for Data\n",
    "gamestop_num_rows = 17\n",
    "gamestop_array = np.zeros(shape=(gamestop_num_rows, 2), dtype=object)"
   ]
  },
  {
   "cell_type": "code",
   "execution_count": 16,
   "id": "09a22f24-604f-4dd7-b805-cb438e717519",
   "metadata": {},
   "outputs": [],
   "source": [
    "# Populate Numpy Array with Table Data\n",
    "for i, row in enumerate(gamestop_rows):\n",
    "    if i < gamestop_num_rows:\n",
    "        cells = row.find_all('td')\n",
    "        for j, cell in enumerate(cells):\n",
    "            gamestop_array[i-1,j] = cell.string "
   ]
  },
  {
   "cell_type": "code",
   "execution_count": 77,
   "id": "25b0b49f-d7ea-49a6-a7cc-22548831d6f2",
   "metadata": {},
   "outputs": [
    {
     "data": {
      "text/html": [
       "<div>\n",
       "<style scoped>\n",
       "    .dataframe tbody tr th:only-of-type {\n",
       "        vertical-align: middle;\n",
       "    }\n",
       "\n",
       "    .dataframe tbody tr th {\n",
       "        vertical-align: top;\n",
       "    }\n",
       "\n",
       "    .dataframe thead th {\n",
       "        text-align: right;\n",
       "    }\n",
       "</style>\n",
       "<table border=\"1\" class=\"dataframe\">\n",
       "  <thead>\n",
       "    <tr style=\"text-align: right;\">\n",
       "      <th></th>\n",
       "      <th>Year</th>\n",
       "      <th>Revenue</th>\n",
       "    </tr>\n",
       "  </thead>\n",
       "  <tbody>\n",
       "    <tr>\n",
       "      <th>0</th>\n",
       "      <td>2005</td>\n",
       "      <td>1843</td>\n",
       "    </tr>\n",
       "    <tr>\n",
       "      <th>1</th>\n",
       "      <td>2006</td>\n",
       "      <td>3092</td>\n",
       "    </tr>\n",
       "    <tr>\n",
       "      <th>2</th>\n",
       "      <td>2007</td>\n",
       "      <td>5319</td>\n",
       "    </tr>\n",
       "    <tr>\n",
       "      <th>3</th>\n",
       "      <td>2008</td>\n",
       "      <td>7094</td>\n",
       "    </tr>\n",
       "    <tr>\n",
       "      <th>4</th>\n",
       "      <td>2009</td>\n",
       "      <td>8806</td>\n",
       "    </tr>\n",
       "  </tbody>\n",
       "</table>\n",
       "</div>"
      ],
      "text/plain": [
       "   Year  Revenue\n",
       "0  2005     1843\n",
       "1  2006     3092\n",
       "2  2007     5319\n",
       "3  2008     7094\n",
       "4  2009     8806"
      ]
     },
     "execution_count": 77,
     "metadata": {},
     "output_type": "execute_result"
    }
   ],
   "source": [
    "# Create DataFrame and Clean Data\n",
    "gamestop_revenue = pd.DataFrame(gamestop_array[:], \n",
    "                           columns=['Year','Revenue'])\n",
    "gamestop_revenue = gamestop_revenue.astype({\"Year\":str,\"Revenue\":str})\n",
    "gamestop_revenue = gamestop_revenue.drop(gamestop_revenue.index[16])       # Remove that last None row\n",
    "gamestop_revenue.Revenue = gamestop_revenue.Revenue.apply(lambda s: s.replace(\",\",\"\")) # Remove Volume Commas\n",
    "gamestop_revenue.Revenue = gamestop_revenue.Revenue.apply(lambda s: s.replace(\"$\",\"\")) # Remove Volume $\n",
    "gamestop_revenue = gamestop_revenue.astype({\"Year\":int,\"Revenue\":int})   # Convert Volume to Integer\n",
    "gamestop_revenue = gamestop_revenue.reindex(index=gamestop_revenue.index[::-1])\n",
    "gamestop_revenue = gamestop_revenue.reset_index()\n",
    "gamestop_revenue.drop(['index'], inplace=True, axis=1)\n",
    "gamestop_revenue.head()"
   ]
  },
  {
   "cell_type": "markdown",
   "id": "14ecd670-2c87-4def-8abc-f2e069e5cde9",
   "metadata": {},
   "source": [
    "#### **Graphing Stock and Revenue**"
   ]
  },
  {
   "cell_type": "code",
   "execution_count": 32,
   "id": "30338061-b770-4fe5-bd38-5f78959abe64",
   "metadata": {},
   "outputs": [],
   "source": [
    "import matplotlib.pyplot as plt\n",
    "import matplotlib.colors as mcolors"
   ]
  },
  {
   "cell_type": "code",
   "execution_count": 59,
   "id": "2aa7a51d-69b0-4bf7-a80a-385d2371a408",
   "metadata": {},
   "outputs": [
    {
     "data": {
      "image/png": "[encoded data removed]",
      "text/plain": [
       "<Figure size 640x480 with 1 Axes>"
      ]
     },
     "metadata": {},
     "output_type": "display_data"
    }
   ],
   "source": [
    "# Plot Stock Closing Prices\n",
    "plt.plot(tesla_stock.Date,  tesla_stock.Price, color=\"r\", linestyle=\"-\", linewidth=3)\n",
    "plt.plot(gamestop_stock.Date,  gamestop_stock.Price, color=\"b\", linestyle=\"-\", linewidth=3)\n",
    "plt.title(\"Stock\")\n",
    "plt.xlabel(\"Year\")\n",
    "plt.ylabel(\"Price\")\n",
    "plt.grid(True)\n",
    "classes = ['Tesla','Gamestop']\n",
    "colors = ['red', 'blue']\n",
    "recs = []\n",
    "for i in range(0,len(colors)):\n",
    "    recs.append(plt.Rectangle((0,0),1,1,fc=colors[i]))\n",
    "plt.legend(recs,classes,loc=2)\n",
    "plt.show()"
   ]
  },
  {
   "cell_type": "code",
   "execution_count": 57,
   "id": "158ee8a3-0810-468a-bff6-ee1b42f4bea4",
   "metadata": {},
   "outputs": [
    {
     "data": {
      "image/png": "[encoded data removed]",
      "text/plain": [
       "<Figure size 640x480 with 1 Axes>"
      ]
     },
     "metadata": {},
     "output_type": "display_data"
    }
   ],
   "source": [
    "# Plot Revenue\n",
    "plt.plot(tesla_revenue.Year,  tesla_revenue.Revenue, color=\"m\", linestyle=\"-\", linewidth=3)\n",
    "plt.plot(gamestop_revenue.Year,  gamestop_revenue.Revenue, color=\"g\", linestyle=\"-\", linewidth=3)\n",
    "plt.title(\"Revenue\")\n",
    "plt.xlabel(\"Year\")\n",
    "plt.ylabel(\"Million\")\n",
    "plt.grid(True)\n",
    "classes = ['Tesla','Gamestop']\n",
    "colors = ['purple', 'green']\n",
    "recs = []\n",
    "for i in range(0,len(colors)):\n",
    "    recs.append(plt.Rectangle((0,0),1,1,fc=colors[i]))\n",
    "plt.legend(recs,classes,loc=2)\n",
    "plt.show()"
   ]
  }
 ],
 "metadata": {
  "kernelspec": {
   "display_name": "Python 3 (ipykernel)",
   "language": "python",
   "name": "python3"
  },
  "language_info": {
   "codemirror_mode": {
    "name": "ipython",
    "version": 3
   },
   "file_extension": ".py",
   "mimetype": "text/x-python",
   "name": "python",
   "nbconvert_exporter": "python",
   "pygments_lexer": "ipython3",
   "version": "3.9.2"
  }
 },
 "nbformat": 4,
 "nbformat_minor": 5
}
