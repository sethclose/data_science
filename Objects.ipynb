{
 "cells": [
  {
   "cell_type": "markdown",
   "id": "8468e925-5e8d-44ad-baa9-e39965b6353a",
   "metadata": {},
   "source": [
    "# **Objects**"
   ]
  },
  {
   "cell_type": "markdown",
   "id": "88ade723-803c-494a-89e1-14c0e5975ec0",
   "metadata": {},
   "source": [
    "#### Author:  Seth Close"
   ]
  },
  {
   "cell_type": "markdown",
   "id": "552b7ebe-4079-41f0-b9af-df725a41f49b",
   "metadata": {},
   "source": [
    "#### 30 DEC 2023"
   ]
  },
  {
   "cell_type": "code",
   "execution_count": 4,
   "id": "af62ed2a-e851-411b-a193-49091937aa29",
   "metadata": {},
   "outputs": [],
   "source": [
    "#dir(my_rectangle)"
   ]
  },
  {
   "cell_type": "code",
   "execution_count": 5,
   "id": "3e5b5e12-d6d5-4e77-97b7-ad3f2c05af31",
   "metadata": {},
   "outputs": [],
   "source": [
    "import matplotlib.pyplot as plt\n",
    "%matplotlib inline  "
   ]
  },
  {
   "cell_type": "code",
   "execution_count": 6,
   "id": "a98015a1-7cd4-409a-b272-970d55598f9f",
   "metadata": {},
   "outputs": [],
   "source": [
    "class Circle(object):\n",
    "    \n",
    "    # Constructor\n",
    "    def __init__(self, radius=3, color='blue'):\n",
    "        self.radius = radius\n",
    "        self.color = color \n",
    "    \n",
    "    # Method\n",
    "    def add_radius(self, r):\n",
    "        self.radius += r\n",
    "        return(self.radius)\n",
    "    \n",
    "    # Method\n",
    "    def drawCircle(self):\n",
    "        plt.gca().add_patch(plt.Circle((0, 0), radius=self.radius, fc=self.color))\n",
    "        plt.axis('scaled')\n",
    "        plt.show()  "
   ]
  },
  {
   "cell_type": "code",
   "execution_count": 7,
   "id": "46ae6da4-570a-4e33-b9e9-d41c4756a2bd",
   "metadata": {},
   "outputs": [
    {
     "data": {
      "image/png": "[encoded data removed]",
      "text/plain": [
       "<Figure size 640x480 with 1 Axes>"
      ]
     },
     "metadata": {},
     "output_type": "display_data"
    }
   ],
   "source": [
    "my_circle = Circle()\n",
    "my_circle.drawCircle()"
   ]
  },
  {
   "cell_type": "code",
   "execution_count": 8,
   "id": "cefeffb8-91ca-4bd4-b5ad-608982963371",
   "metadata": {},
   "outputs": [],
   "source": [
    "class Rectangle:\n",
    "    name = 'rectangle'\n",
    "    def __init__(self, w=1, h=1, c=\"black\"):\n",
    "        self.width = w\n",
    "        self.height = h\n",
    "        self.color = c\n",
    "    def print_attributes(self):\n",
    "        print(f\"There's a {self.color} {self.name} that's {self.width} by {self.height}.\")\n",
    "    def add_width(self,n):\n",
    "        self.width += n\n",
    "    def add_height(self,n):\n",
    "        self.height += n\n",
    "    def draw_rectangle(self):\n",
    "        plt.gca().add_patch(plt.Rectangle((0, 0), self.width, self.height ,fc=self.color))\n",
    "        plt.axis('scaled')\n",
    "        plt.show()        "
   ]
  },
  {
   "cell_type": "code",
   "execution_count": 9,
   "id": "3993cce4-c44f-439f-bb6a-f530db1363d6",
   "metadata": {},
   "outputs": [
    {
     "name": "stdout",
     "output_type": "stream",
     "text": [
      "There's a green rectangle that's 5 by 3.\n",
      "There's a green rectangle that's 6 by 3.\n",
      "There's a black rectangle that's 1 by 1.\n"
     ]
    }
   ],
   "source": [
    "my_rectangle = Rectangle(5,3,\"green\")\n",
    "my_rectangle.print_attributes()\n",
    "my_rectangle.add_width(1)\n",
    "my_rectangle.print_attributes()\n",
    "\n",
    "your_rectangle = Rectangle()\n",
    "your_rectangle.print_attributes()"
   ]
  },
  {
   "cell_type": "code",
   "execution_count": 10,
   "id": "9d13ac6e-fe2b-4694-aeb7-85897862c72e",
   "metadata": {},
   "outputs": [
    {
     "data": {
      "image/png": "[encoded data removed]",
      "text/plain": [
       "<Figure size 640x480 with 1 Axes>"
      ]
     },
     "metadata": {},
     "output_type": "display_data"
    }
   ],
   "source": [
    "my_rectangle.draw_rectangle()"
   ]
  },
  {
   "cell_type": "code",
   "execution_count": 11,
   "id": "a93bdc12-0666-478b-af79-81c9ff27b4f4",
   "metadata": {},
   "outputs": [],
   "source": [
    "class TextAnalysis:\n",
    "    \n",
    "    def __init__ (self, text):\n",
    "        self.formatted_text = text.replace('.','').replace('!','').replace('?','').replace(',','').lower()\n",
    "        self.word_list = self.formatted_text.split(' ')\n",
    "        \n",
    "    def frequency_all(self):        \n",
    "        frequency_map = {}\n",
    "        for word in set(self.word_list): # use set to remove duplicates in list\n",
    "            frequency_map[word] = self.word_list.count(word)\n",
    "        return frequency_map\n",
    "    \n",
    "    def frequency_of(self, word):\n",
    "        frequency_dict = self.frequency_all()\n",
    "        if word in frequency_dict:\n",
    "            return frequency_dict[word]\n",
    "        else:\n",
    "            return 0"
   ]
  },
  {
   "cell_type": "code",
   "execution_count": 12,
   "id": "210ebe61-e072-406c-8f5c-2d328d3179c5",
   "metadata": {},
   "outputs": [
    {
     "name": "stdout",
     "output_type": "stream",
     "text": [
      "Lorem ipsum dolor! diam amet, consetetur Lorem magna. sed diam nonumy eirmod tempor. diam et labore? et diam magna. et diam amet.\n"
     ]
    }
   ],
   "source": [
    "string = \"Lorem ipsum dolor! diam amet, consetetur Lorem magna. sed diam nonumy eirmod tempor.\"\n",
    "string += \" diam et labore? et diam magna. et diam amet.\"\n",
    "print(string)"
   ]
  },
  {
   "cell_type": "code",
   "execution_count": 13,
   "id": "fddc86c3-c42d-4889-a35e-e9f7f3be3ae5",
   "metadata": {},
   "outputs": [],
   "source": [
    "analysis = TextAnalysis(string)"
   ]
  },
  {
   "cell_type": "code",
   "execution_count": 14,
   "id": "da8a48b6-2bee-4d7b-8c34-ccaa02ff6f88",
   "metadata": {},
   "outputs": [
    {
     "data": {
      "text/plain": [
       "{'ipsum': 1,\n",
       " 'diam': 5,\n",
       " 'tempor': 1,\n",
       " 'dolor': 1,\n",
       " 'nonumy': 1,\n",
       " 'labore': 1,\n",
       " 'sed': 1,\n",
       " 'eirmod': 1,\n",
       " 'lorem': 2,\n",
       " 'amet': 2,\n",
       " 'consetetur': 1,\n",
       " 'magna': 2,\n",
       " 'et': 3}"
      ]
     },
     "execution_count": 14,
     "metadata": {},
     "output_type": "execute_result"
    }
   ],
   "source": [
    "analysis.frequency_all()"
   ]
  },
  {
   "cell_type": "code",
   "execution_count": 15,
   "id": "ee1f542a-807b-4767-8fc2-2e3956711966",
   "metadata": {},
   "outputs": [
    {
     "name": "stdout",
     "output_type": "stream",
     "text": [
      "The word \"diam\" appears 5 time(s).\n"
     ]
    }
   ],
   "source": [
    "word = 'diam'\n",
    "print(f'The word \"{word}\" appears {analysis.frequency_of(word)} time(s).')"
   ]
  }
 ],
 "metadata": {
  "kernelspec": {
   "display_name": "Python 3 (ipykernel)",
   "language": "python",
   "name": "python3"
  },
  "language_info": {
   "codemirror_mode": {
    "name": "ipython",
    "version": 3
   },
   "file_extension": ".py",
   "mimetype": "text/x-python",
   "name": "python",
   "nbconvert_exporter": "python",
   "pygments_lexer": "ipython3",
   "version": "3.9.2"
  }
 },
 "nbformat": 4,
 "nbformat_minor": 5
}
