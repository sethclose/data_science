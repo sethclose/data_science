{
 "cells": [
  {
   "cell_type": "markdown",
   "id": "0a906f34-fc0d-4859-beec-286359e0967b",
   "metadata": {},
   "source": [
    "# **Lists**"
   ]
  },
  {
   "cell_type": "markdown",
   "id": "8eb2e2ce-a41d-49ff-874f-eeb8951da44e",
   "metadata": {},
   "source": [
    "#### Author:  Seth Close"
   ]
  },
  {
   "cell_type": "markdown",
   "id": "342e6d2c-91a8-4186-8e87-3f768f5018ef",
   "metadata": {},
   "source": [
    "#### 30 DEC 2023"
   ]
  },
  {
   "cell_type": "markdown",
   "id": "b54eb11e-940f-45fa-abe8-dfd57ebc4e80",
   "metadata": {},
   "source": [
    "| Function | Description |\n",
    "| ----------- | ----------- |\n",
    "| len() | Number of items |\n",
    "| max() | Largest item |\n",
    "| min() | Smallest item |\n",
    "| sum() | Sum of all items |\n",
    "| del() | Deletes instance from list |\n",
    "| tuple() | Converts to tuple |"
   ]
  },
  {
   "cell_type": "code",
   "execution_count": 1,
   "id": "49f90f6d-d947-4503-a84a-56f39c2410ab",
   "metadata": {},
   "outputs": [],
   "source": [
    "fruits = [\"apple\", \"banana\", \"orange\"]"
   ]
  },
  {
   "cell_type": "code",
   "execution_count": 2,
   "id": "b9e027d2-227a-459d-9fb9-7155cbfbd4d6",
   "metadata": {},
   "outputs": [
    {
     "data": {
      "text/plain": [
       "3"
      ]
     },
     "execution_count": 2,
     "metadata": {},
     "output_type": "execute_result"
    }
   ],
   "source": [
    "len(fruits) "
   ]
  },
  {
   "cell_type": "code",
   "execution_count": 3,
   "id": "32502124-8f19-4918-9125-2d74573412d7",
   "metadata": {},
   "outputs": [
    {
     "data": {
      "text/plain": [
       "'orange'"
      ]
     },
     "execution_count": 3,
     "metadata": {},
     "output_type": "execute_result"
    }
   ],
   "source": [
    "max(fruits)"
   ]
  },
  {
   "cell_type": "code",
   "execution_count": 4,
   "id": "8000dc23-2049-4ba9-b0fe-8cf1aa38b94f",
   "metadata": {},
   "outputs": [
    {
     "data": {
      "text/plain": [
       "'apple'"
      ]
     },
     "execution_count": 4,
     "metadata": {},
     "output_type": "execute_result"
    }
   ],
   "source": [
    "min(fruits)"
   ]
  },
  {
   "cell_type": "code",
   "execution_count": 17,
   "id": "4c61620d-988f-4485-a6a1-634f379f5a75",
   "metadata": {},
   "outputs": [],
   "source": [
    "numbers = [1, 2, 5, 3, 4, 2, 5, 2]"
   ]
  },
  {
   "cell_type": "code",
   "execution_count": 18,
   "id": "b71e541a-ea13-4b32-9ff6-f60b47d212e5",
   "metadata": {},
   "outputs": [
    {
     "data": {
      "text/plain": [
       "24"
      ]
     },
     "execution_count": 18,
     "metadata": {},
     "output_type": "execute_result"
    }
   ],
   "source": [
    "sum(numbers)"
   ]
  },
  {
   "cell_type": "code",
   "execution_count": 19,
   "id": "8667ef2a-1a58-4d31-b1c1-c99fb9cdea94",
   "metadata": {},
   "outputs": [
    {
     "data": {
      "text/plain": [
       "(1, 2, 5, 3, 4, 2, 5, 2)"
      ]
     },
     "execution_count": 19,
     "metadata": {},
     "output_type": "execute_result"
    }
   ],
   "source": [
    "tuple(numbers)"
   ]
  },
  {
   "cell_type": "code",
   "execution_count": 50,
   "id": "1d53df7f-6610-4dd1-9ca7-9d19399a0237",
   "metadata": {},
   "outputs": [],
   "source": [
    "del numbers[3]"
   ]
  },
  {
   "cell_type": "code",
   "execution_count": 51,
   "id": "0c53b210-fe35-4f9a-b7d6-a486372fa248",
   "metadata": {},
   "outputs": [
    {
     "data": {
      "text/plain": [
       "[1, 2, 5, 4, 2, 5, 2]"
      ]
     },
     "execution_count": 51,
     "metadata": {},
     "output_type": "execute_result"
    }
   ],
   "source": [
    "numbers"
   ]
  },
  {
   "cell_type": "markdown",
   "id": "b9db2a2b-a3de-46b5-88a2-c4ffd7bc0e2b",
   "metadata": {},
   "source": [
    "| Function | Description |\n",
    "| ----------- | ----------- |\n",
    "| del | Deletes instance(s) from list |"
   ]
  },
  {
   "cell_type": "markdown",
   "id": "84ab4936-dc41-458c-a59f-fd72447bfd9f",
   "metadata": {},
   "source": [
    "| Method | Description |\n",
    "| ----------- | ----------- |\n",
    "| append() | Adds arg to end of list |\n",
    "| copy() | Makes a copy/clone of list |\n",
    "| count() | Number of instances of arg|\n",
    "| extend() | Appends an arg list \n",
    "| index() | Returns index of first instance of arg |\n",
    "| insert() | Inserts arg2 at arg1 index |\n",
    "| pop() | Removes instance at arg index |\n",
    "| remove() | Removes first instance of arg from list |\n",
    "| reverse() | Reverses order of list|\n",
    "| sort() | Sorts list |"
   ]
  },
  {
   "cell_type": "code",
   "execution_count": 74,
   "id": "68294507-49a3-499b-ba44-532ca23a0da6",
   "metadata": {},
   "outputs": [
    {
     "data": {
      "text/plain": [
       "['a', 'b', 'b', 'c', 'd', 'c', 'e', 'b']"
      ]
     },
     "execution_count": 74,
     "metadata": {},
     "output_type": "execute_result"
    }
   ],
   "source": [
    "chars = ['a', 'b', 'b', 'c', 'd', 'c', 'e', 'b']\n",
    "chars"
   ]
  },
  {
   "cell_type": "code",
   "execution_count": 65,
   "id": "310ac0b7-734d-4efd-bc3f-018f3a2462f7",
   "metadata": {},
   "outputs": [
    {
     "data": {
      "text/plain": [
       "3"
      ]
     },
     "execution_count": 65,
     "metadata": {},
     "output_type": "execute_result"
    }
   ],
   "source": [
    "chars.index('c')"
   ]
  },
  {
   "cell_type": "code",
   "execution_count": 37,
   "id": "65aaa3b8-2fb9-4e79-87bd-5b7435ad6c6f",
   "metadata": {},
   "outputs": [
    {
     "data": {
      "text/plain": [
       "3"
      ]
     },
     "execution_count": 37,
     "metadata": {},
     "output_type": "execute_result"
    }
   ],
   "source": [
    "chars.count('b')"
   ]
  },
  {
   "cell_type": "code",
   "execution_count": 75,
   "id": "9aaca9db-e999-47c8-998e-e6f9845bd18c",
   "metadata": {},
   "outputs": [
    {
     "data": {
      "text/plain": [
       "['a', 'b', 'b', 'c', 'd', 'c', 'e', 'b', 'f']"
      ]
     },
     "execution_count": 75,
     "metadata": {},
     "output_type": "execute_result"
    }
   ],
   "source": [
    "chars.append('f')\n",
    "chars"
   ]
  },
  {
   "cell_type": "code",
   "execution_count": 76,
   "id": "ef994f65-e433-442e-bc90-d7c87aad384f",
   "metadata": {},
   "outputs": [
    {
     "data": {
      "text/plain": [
       "['a', 'b', 'b', 'c', 'd', 'c', 'e', 'b']"
      ]
     },
     "execution_count": 76,
     "metadata": {},
     "output_type": "execute_result"
    }
   ],
   "source": [
    "chars.remove('f')\n",
    "chars"
   ]
  },
  {
   "cell_type": "code",
   "execution_count": 77,
   "id": "c4a1acb6-6951-427e-b083-e52c37ed8268",
   "metadata": {},
   "outputs": [
    {
     "data": {
      "text/plain": [
       "['a', 'b', 'c', 'd', 'c', 'e', 'b']"
      ]
     },
     "execution_count": 77,
     "metadata": {},
     "output_type": "execute_result"
    }
   ],
   "source": [
    "chars.remove('b')\n",
    "chars"
   ]
  },
  {
   "cell_type": "code",
   "execution_count": 47,
   "id": "85513566-cfad-4444-a011-8d231ef39aa7",
   "metadata": {},
   "outputs": [
    {
     "data": {
      "text/plain": [
       "['a', 'b', 'c', 'd', 'c', 'e', 'b']"
      ]
     },
     "execution_count": 47,
     "metadata": {},
     "output_type": "execute_result"
    }
   ],
   "source": [
    "chars_copy = chars.copy()\n",
    "chars_copy"
   ]
  },
  {
   "cell_type": "code",
   "execution_count": 48,
   "id": "e9904159-6b08-4c53-9bb6-a9d122da3d8d",
   "metadata": {},
   "outputs": [
    {
     "data": {
      "text/plain": [
       "['a', 'b', 'c', 'd', 'c', 'e', 'f']"
      ]
     },
     "execution_count": 48,
     "metadata": {},
     "output_type": "execute_result"
    }
   ],
   "source": [
    "chars_copy[6] = 'f'\n",
    "chars_copy"
   ]
  },
  {
   "cell_type": "code",
   "execution_count": 79,
   "id": "ce99d8f5-292b-4703-be58-523c3a02b2e2",
   "metadata": {},
   "outputs": [
    {
     "data": {
      "text/plain": [
       "['a', 'b', 'c', 'd', 'c', 'e', 'b', 'x', 'y', 'z']"
      ]
     },
     "execution_count": 79,
     "metadata": {},
     "output_type": "execute_result"
    }
   ],
   "source": [
    "chars"
   ]
  },
  {
   "cell_type": "code",
   "execution_count": 78,
   "id": "0648bf3a-1d56-4b02-abe3-934fcdabad70",
   "metadata": {},
   "outputs": [
    {
     "data": {
      "text/plain": [
       "['a', 'b', 'c', 'd', 'c', 'e', 'b', 'x', 'y', 'z']"
      ]
     },
     "execution_count": 78,
     "metadata": {},
     "output_type": "execute_result"
    }
   ],
   "source": [
    "more_chars = ['x', 'y', 'z'] \n",
    "chars.extend(more_chars) \n",
    "chars"
   ]
  },
  {
   "cell_type": "code",
   "execution_count": 73,
   "id": "f4ac41f5-9e71-41d1-b5c7-3c503cfbf8c6",
   "metadata": {},
   "outputs": [
    {
     "data": {
      "text/plain": [
       "['a', 'b', 'c', 'd', 'c', 'e', 'b', 'f', 'v', 'x', 'v', 'y', 'z']"
      ]
     },
     "execution_count": 73,
     "metadata": {},
     "output_type": "execute_result"
    }
   ],
   "source": [
    "chars.insert(8,'v')\n",
    "chars"
   ]
  },
  {
   "cell_type": "code",
   "execution_count": 80,
   "id": "218eb826-73d3-44d0-9b57-eff8e3ff9470",
   "metadata": {},
   "outputs": [
    {
     "data": {
      "text/plain": [
       "['a', 'b', 'c', 'd', 'c', 'e', 'x', 'y', 'z']"
      ]
     },
     "execution_count": 80,
     "metadata": {},
     "output_type": "execute_result"
    }
   ],
   "source": [
    "chars.pop(6)\n",
    "chars"
   ]
  },
  {
   "cell_type": "code",
   "execution_count": 81,
   "id": "8eb69b5e-6de9-473b-80d1-29817d1dde57",
   "metadata": {},
   "outputs": [
    {
     "data": {
      "text/plain": [
       "['z', 'y', 'x', 'e', 'c', 'd', 'c', 'b', 'a']"
      ]
     },
     "execution_count": 81,
     "metadata": {},
     "output_type": "execute_result"
    }
   ],
   "source": [
    "chars.reverse()\n",
    "chars"
   ]
  },
  {
   "cell_type": "code",
   "execution_count": 82,
   "id": "13a7f918-5be2-4f61-b222-4169508af7e4",
   "metadata": {},
   "outputs": [
    {
     "data": {
      "text/plain": [
       "['a', 'b', 'c', 'c', 'd', 'e', 'x', 'y', 'z']"
      ]
     },
     "execution_count": 82,
     "metadata": {},
     "output_type": "execute_result"
    }
   ],
   "source": [
    "chars.sort()\n",
    "chars"
   ]
  },
  {
   "cell_type": "code",
   "execution_count": 83,
   "id": "13c14c6a-8956-4f9a-a357-29eb98597c16",
   "metadata": {},
   "outputs": [
    {
     "data": {
      "text/plain": [
       "['z', 'y', 'x', 'e', 'd', 'c', 'c', 'b', 'a']"
      ]
     },
     "execution_count": 83,
     "metadata": {},
     "output_type": "execute_result"
    }
   ],
   "source": [
    "chars.sort(reverse=True)\n",
    "chars"
   ]
  },
  {
   "cell_type": "code",
   "execution_count": null,
   "id": "a6e361dd-9e32-42cb-98b8-57df79797c68",
   "metadata": {},
   "outputs": [],
   "source": [
    "my_list = [10, 20, 30, 40, 50] \n",
    "my_list[1] = 25 # Modifying the second element \n",
    "print(my_list) "
   ]
  },
  {
   "cell_type": "code",
   "execution_count": null,
   "id": "787ec8ea-2bb3-4c09-b736-bda11a9efdb6",
   "metadata": {},
   "outputs": [],
   "source": [
    "my_list = [10, 20, 30, 40, 50] \n",
    "removed_element = my_list.pop(2) # Removes and returns the element at index 2 \n",
    "print(removed_element) \n",
    "print(my_list) "
   ]
  },
  {
   "cell_type": "code",
   "execution_count": null,
   "id": "88f87f9f-f5ac-4c68-b17c-be47534e78b4",
   "metadata": {},
   "outputs": [],
   "source": [
    "my_list = [10, 20, 30, 40, 50] \n",
    "removed_element = my_list.pop() # Removes and returns the last element \n",
    "print(removed_element) \n",
    "print(my_list) \n",
    "# Output: [10, 20, 30, 40]"
   ]
  },
  {
   "cell_type": "code",
   "execution_count": null,
   "id": "c39d19c6-66e1-4309-b97c-db532cc5ece5",
   "metadata": {},
   "outputs": [],
   "source": [
    "my_list = [10, 20, 30, 40, 50] \n",
    "my_list.remove(30) # Removes the element 30 \n",
    "print(my_list) \n",
    "# Output: [10, 20, 40, 50]"
   ]
  },
  {
   "cell_type": "code",
   "execution_count": null,
   "id": "6deadc96-c559-41d3-a2f0-f96f193eb21c",
   "metadata": {},
   "outputs": [],
   "source": [
    "my_list = [1, 2, 3, 4, 5] \n",
    "my_list.reverse() \n",
    "print(my_list) \n",
    "# Output: [5, 4, 3, 2, 1]"
   ]
  },
  {
   "cell_type": "code",
   "execution_count": null,
   "id": "f2140035-4e46-4516-89dc-fccfacbabcf1",
   "metadata": {},
   "outputs": [],
   "source": [
    "my_list = [1, 2, 3, 4, 5] \n",
    "print(my_list[1:4]) \n",
    "# Output: [2, 3, 4] (elements from index 1 to 3)\n",
    "print(my_list[:3]) \n",
    "# Output: [1, 2, 3] (elements from the beginning up to index 2) \n",
    "print(my_list[2:]) \n",
    "# Output: [3, 4, 5] (elements from index 2 to the end) \n",
    "print(my_list[::2]) \n",
    "# Output: [1, 3, 5] (every second element)"
   ]
  },
  {
   "cell_type": "code",
   "execution_count": 2,
   "id": "9bb60e59-1b28-41cd-801f-929ab3c76429",
   "metadata": {},
   "outputs": [
    {
     "name": "stdout",
     "output_type": "stream",
     "text": [
      "[1, 2, 5, 8, 9]\n",
      "[9, 8, 5, 2, 1]\n"
     ]
    }
   ],
   "source": [
    "my_list = [5, 2, 8, 1, 9] \n",
    "my_list.sort() \n",
    "print(my_list) \n",
    "# Output: [1, 2, 5, 8, 9] \n",
    "my_list = [5, 2, 8, 1, 9] \n",
    "my_list.sort(reverse=True) \n",
    "print(my_list) \n",
    "# Output: [9, 8, 5, 2, 1]"
   ]
  }
 ],
 "metadata": {
  "kernelspec": {
   "display_name": "Python 3 (ipykernel)",
   "language": "python",
   "name": "python3"
  },
  "language_info": {
   "codemirror_mode": {
    "name": "ipython",
    "version": 3
   },
   "file_extension": ".py",
   "mimetype": "text/x-python",
   "name": "python",
   "nbconvert_exporter": "python",
   "pygments_lexer": "ipython3",
   "version": "3.9.2"
  }
 },
 "nbformat": 4,
 "nbformat_minor": 5
}
