{
 "cells": [
  {
   "cell_type": "markdown",
   "id": "0a906f34-fc0d-4859-beec-286359e0967b",
   "metadata": {},
   "source": [
    "# **Dicts** "
   ]
  },
  {
   "cell_type": "markdown",
   "id": "8eb2e2ce-a41d-49ff-874f-eeb8951da44e",
   "metadata": {},
   "source": [
    "#### Author:  Seth Close"
   ]
  },
  {
   "cell_type": "markdown",
   "id": "342e6d2c-91a8-4186-8e87-3f768f5018ef",
   "metadata": {},
   "source": [
    "#### 30 DEC 2023"
   ]
  },
  {
   "cell_type": "markdown",
   "id": "c05b48bc-d1ff-4af3-a149-d086db9444ae",
   "metadata": {},
   "source": [
    "| Function | Description |\n",
    "| ----------- | ----------- |\n",
    "del dict[key]\n",
    "|.append() | adds a new element? |\n",
    "|.update() | adds new elements? |\n",
    "|.remove() | just removes |\n",
    "|.pop() | removes and returns |\n",
    "|.clear() | removes all elements from a dict? |\n",
    "|.copy() | makes a clone/shallow copy of  dict  |\n",
    "| dict() | converts list to a dict? | \n",
    "|.keys() | returns the keys of a dict  | \n",
    "|.values() | returns the values of a dict | \n",
    "|.items() | returns the keys, values of a dict | "
   ]
  }
 ],
 "metadata": {
  "kernelspec": {
   "display_name": "Python 3 (ipykernel)",
   "language": "python",
   "name": "python3"
  },
  "language_info": {
   "codemirror_mode": {
    "name": "ipython",
    "version": 3
   },
   "file_extension": ".py",
   "mimetype": "text/x-python",
   "name": "python",
   "nbconvert_exporter": "python",
   "pygments_lexer": "ipython3",
   "version": "3.9.2"
  }
 },
 "nbformat": 4,
 "nbformat_minor": 5
}
