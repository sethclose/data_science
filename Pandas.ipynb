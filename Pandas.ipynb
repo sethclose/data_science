{
 "cells": [
  {
   "cell_type": "markdown",
   "id": "8468e925-5e8d-44ad-baa9-e39965b6353a",
   "metadata": {},
   "source": [
    "# **Pandas**"
   ]
  },
  {
   "cell_type": "markdown",
   "id": "cb016251-733d-41c4-a3ff-3348371fafbe",
   "metadata": {},
   "source": [
    "|  |\n",
    "| ------:| \n",
    "| **pandas is a fast, powerful, flexible and easy to use**   | \n",
    "| **open source data analysis and manipulation tool** |\n",
    "| **built on top of the Python programming language.**    |\n",
    "\n",
    "[pandas documentation](https://pandas.pydata.org/docs/index.html)"
   ]
  },
  {
   "cell_type": "markdown",
   "id": "4b0b1053-9a08-4ce3-b6d7-d443af622506",
   "metadata": {},
   "source": [
    "![](./images/pandas.jpg)"
   ]
  },
  {
   "cell_type": "markdown",
   "id": "88ade723-803c-494a-89e1-14c0e5975ec0",
   "metadata": {
    "jp-MarkdownHeadingCollapsed": true
   },
   "source": [
    "#### Author:  Seth Close"
   ]
  },
  {
   "cell_type": "markdown",
   "id": "552b7ebe-4079-41f0-b9af-df725a41f49b",
   "metadata": {},
   "source": [
    "#### 31 DEC 2023"
   ]
  },
  {
   "cell_type": "code",
   "execution_count": 156,
   "id": "dca4d5dc-1e12-4e8a-bd91-f222a4d63242",
   "metadata": {},
   "outputs": [],
   "source": [
    "import pandas as pd"
   ]
  },
  {
   "cell_type": "markdown",
   "id": "f137b6a5-dd3d-4e63-b230-1a16bc48b75c",
   "metadata": {},
   "source": [
    "### **DataFrames**"
   ]
  },
  {
   "cell_type": "markdown",
   "id": "7c44f23a-81a0-41ae-9f82-25698ca08497",
   "metadata": {},
   "source": [
    "| code | description |\n",
    "| ----- | ----- |\n",
    "| .DataFrame(`<dict>` | creates a DataFrame from a dictionary |\n",
    "| .head(`<num_rows>`) | first five rows (and column names) |\n",
    "| .unique() | no duplicates |\n",
    "| .read_csv(`<file_name or url>`) | reads a csv file |\n",
    "| .read_excel(`<file_name or url>`) | reads an xlsx file |\n",
    "| .to_csv(`<file_name>`) | creates a csv file |\n",
    "| .iloc[x,y] | value in row x, col y |\n",
    "| .iloc[x] | values in row x |\n",
    "| .iloc[x].`<column>` | value in row x, `<column>` |\n",
    "| df[`[<column>]`] | creates a dataframe of that `<column>` |\n",
    "| df[`[<column1>, <column2>]`] | creates a dataframe of those `<column>` |\n",
    "| df[`<column>`] == '`column_value`' | column of bool values |\n",
    "| df[df[`<column>`] == '`column_value`'] | dataframe where bool is True |"
   ]
  },
  {
   "cell_type": "markdown",
   "id": "560dbd05-e028-4a41-8686-c1bda1f406ae",
   "metadata": {},
   "source": [
    "##### **Attributes and Methods**\n",
    "\n",
    "| att/meth | description |\n",
    "| ----- | ----- |\n",
    "| shape | Returns the dimensions (number of rows and columns) of the DataFrame. |\n",
    "| info() | Provides a summary of the DataFrame, including data types and non-null counts. |\n",
    "| describe() | Generates summary statistics for numerical columns. |\n",
    "| head(), tail() | Displays the first or last n rows of the DataFrame. |\n",
    "| mean(), sum(), min(), max() | Calculate summary statistics for columns. |\n",
    "| sort_values() | Sort the DataFrame by one or more columns. |\n",
    "| groupby() | Group data based on specific columns for aggregation. |\n",
    "| fillna(), drop(), rename() | Handle missing values, drop columns, or rename columns. |\n",
    "| apply() | Apply a function to each element, row, or column of the DataFrame. |\n",
    "| set_index(`<column_name>`) | sets this column as the index, replacing the numbers for use with loc? | "
   ]
  },
  {
   "cell_type": "code",
   "execution_count": 157,
   "id": "1294cfef-c3d0-4e84-9e69-951c0de2bd01",
   "metadata": {},
   "outputs": [
    {
     "name": "stdout",
     "output_type": "stream",
     "text": [
      "      Name  Age           City\n",
      "0    Alice   25       New York\n",
      "1      Bob   30  San Francisco\n",
      "2  Charlie   35    Los Angeles\n",
      "3    David   28        Chicago\n"
     ]
    }
   ],
   "source": [
    "# Creating a DataFrame from a dictionary\n",
    "data = {'Name': ['Alice', 'Bob', 'Charlie', 'David'],\n",
    "        'Age': [25, 30, 35, 28],\n",
    "        'City': ['New York', 'San Francisco', 'Los Angeles', 'Chicago']}\n",
    "df = pd.DataFrame(data)\n",
    "print(df)"
   ]
  },
  {
   "cell_type": "code",
   "execution_count": 158,
   "id": "c57f728e-60d5-42c0-aa65-750c67e94ad2",
   "metadata": {},
   "outputs": [
    {
     "name": "stdout",
     "output_type": "stream",
     "text": [
      "0      Alice\n",
      "1        Bob\n",
      "2    Charlie\n",
      "3      David\n",
      "Name: Name, dtype: object\n"
     ]
    }
   ],
   "source": [
    "print(df['Name'])  # Access the 'Name' column"
   ]
  },
  {
   "cell_type": "code",
   "execution_count": 159,
   "id": "befac554-4af1-45e5-909c-5a1c928a16e6",
   "metadata": {},
   "outputs": [
    {
     "name": "stdout",
     "output_type": "stream",
     "text": [
      "Name        Charlie\n",
      "Age              35\n",
      "City    Los Angeles\n",
      "Name: 2, dtype: object\n"
     ]
    }
   ],
   "source": [
    "print(df.iloc[2])   # Access the third row by position"
   ]
  },
  {
   "cell_type": "code",
   "execution_count": 160,
   "id": "a1230fec-a170-480c-9017-f8d078abda63",
   "metadata": {},
   "outputs": [
    {
     "name": "stdout",
     "output_type": "stream",
     "text": [
      "Name              Bob\n",
      "Age                30\n",
      "City    San Francisco\n",
      "Name: 1, dtype: object\n"
     ]
    }
   ],
   "source": [
    "print(df.loc[1])    # Access the second row by label"
   ]
  },
  {
   "cell_type": "code",
   "execution_count": 161,
   "id": "03dff3c5-11d2-48ca-8cf9-b60b54630d23",
   "metadata": {},
   "outputs": [
    {
     "data": {
      "text/plain": [
       "array([25, 30, 35, 28])"
      ]
     },
     "execution_count": 161,
     "metadata": {},
     "output_type": "execute_result"
    }
   ],
   "source": [
    "# Finding Unique Elements:\n",
    "unique_dates = df['Age'].unique()\n",
    "unique_dates"
   ]
  },
  {
   "cell_type": "code",
   "execution_count": 162,
   "id": "c6a44a4a-9094-4ae6-9d11-c8716b183bf1",
   "metadata": {},
   "outputs": [
    {
     "data": {
      "text/html": [
       "<div>\n",
       "<style scoped>\n",
       "    .dataframe tbody tr th:only-of-type {\n",
       "        vertical-align: middle;\n",
       "    }\n",
       "\n",
       "    .dataframe tbody tr th {\n",
       "        vertical-align: top;\n",
       "    }\n",
       "\n",
       "    .dataframe thead th {\n",
       "        text-align: right;\n",
       "    }\n",
       "</style>\n",
       "<table border=\"1\" class=\"dataframe\">\n",
       "  <thead>\n",
       "    <tr style=\"text-align: right;\">\n",
       "      <th></th>\n",
       "      <th>Name</th>\n",
       "      <th>Age</th>\n",
       "      <th>City</th>\n",
       "    </tr>\n",
       "  </thead>\n",
       "  <tbody>\n",
       "    <tr>\n",
       "      <th>1</th>\n",
       "      <td>Bob</td>\n",
       "      <td>30</td>\n",
       "      <td>San Francisco</td>\n",
       "    </tr>\n",
       "    <tr>\n",
       "      <th>2</th>\n",
       "      <td>Charlie</td>\n",
       "      <td>35</td>\n",
       "      <td>Los Angeles</td>\n",
       "    </tr>\n",
       "    <tr>\n",
       "      <th>3</th>\n",
       "      <td>David</td>\n",
       "      <td>28</td>\n",
       "      <td>Chicago</td>\n",
       "    </tr>\n",
       "  </tbody>\n",
       "</table>\n",
       "</div>"
      ],
      "text/plain": [
       "      Name  Age           City\n",
       "1      Bob   30  San Francisco\n",
       "2  Charlie   35    Los Angeles\n",
       "3    David   28        Chicago"
      ]
     },
     "execution_count": 162,
     "metadata": {},
     "output_type": "execute_result"
    }
   ],
   "source": [
    "# Conditional Filtering:\n",
    "# You can filter data in a DataFrame based on conditions using inequality operators.\n",
    "high_above_102 = df[df['Age'] > 25]\n",
    "high_above_102"
   ]
  },
  {
   "cell_type": "code",
   "execution_count": 163,
   "id": "308a8f2a-6890-407d-b389-2c2eca4f7ab3",
   "metadata": {},
   "outputs": [],
   "source": [
    "# Saving DataFrames:\n",
    "# To save a DataFrame to a CSV file, use the to_csv method and specify the filename with a “.csv” extension.Pandas provides other functions for saving DataFrames in different formats.\n",
    "df.to_csv('trading_data.csv', index=False)"
   ]
  },
  {
   "cell_type": "markdown",
   "id": "7baaf6ec-a254-4064-9bd2-001837a71d84",
   "metadata": {},
   "source": [
    "##### Own Example"
   ]
  },
  {
   "cell_type": "code",
   "execution_count": 164,
   "id": "027501e9-3fec-44d1-9230-20c092c82c3a",
   "metadata": {},
   "outputs": [],
   "source": [
    "df = pd.read_csv(\"csv/people.csv\")"
   ]
  },
  {
   "cell_type": "code",
   "execution_count": 165,
   "id": "2ca6a34e-b0ce-4270-9edb-b32b94b27d2c",
   "metadata": {},
   "outputs": [
    {
     "data": {
      "text/html": [
       "<div>\n",
       "<style scoped>\n",
       "    .dataframe tbody tr th:only-of-type {\n",
       "        vertical-align: middle;\n",
       "    }\n",
       "\n",
       "    .dataframe tbody tr th {\n",
       "        vertical-align: top;\n",
       "    }\n",
       "\n",
       "    .dataframe thead th {\n",
       "        text-align: right;\n",
       "    }\n",
       "</style>\n",
       "<table border=\"1\" class=\"dataframe\">\n",
       "  <thead>\n",
       "    <tr style=\"text-align: right;\">\n",
       "      <th></th>\n",
       "      <th>Name</th>\n",
       "      <th>Age</th>\n",
       "      <th>Job</th>\n",
       "    </tr>\n",
       "  </thead>\n",
       "  <tbody>\n",
       "    <tr>\n",
       "      <th>0</th>\n",
       "      <td>seth</td>\n",
       "      <td>51</td>\n",
       "      <td>Engineer</td>\n",
       "    </tr>\n",
       "    <tr>\n",
       "      <th>1</th>\n",
       "      <td>nora</td>\n",
       "      <td>43</td>\n",
       "      <td>Banker</td>\n",
       "    </tr>\n",
       "    <tr>\n",
       "      <th>2</th>\n",
       "      <td>amir</td>\n",
       "      <td>15</td>\n",
       "      <td>Engineer</td>\n",
       "    </tr>\n",
       "  </tbody>\n",
       "</table>\n",
       "</div>"
      ],
      "text/plain": [
       "   Name  Age       Job\n",
       "0  seth   51  Engineer\n",
       "1  nora   43    Banker\n",
       "2  amir   15  Engineer"
      ]
     },
     "execution_count": 165,
     "metadata": {},
     "output_type": "execute_result"
    }
   ],
   "source": [
    "df.head(5)"
   ]
  },
  {
   "cell_type": "code",
   "execution_count": 166,
   "id": "2a5885a7-4a1a-43ed-ad5b-a3f0b5ee4864",
   "metadata": {},
   "outputs": [
    {
     "name": "stdout",
     "output_type": "stream",
     "text": [
      "43\n"
     ]
    }
   ],
   "source": [
    "print(df.iloc[1,1])"
   ]
  },
  {
   "cell_type": "code",
   "execution_count": 167,
   "id": "d2b92bbf-9f36-47cf-97e5-deea7a3527a9",
   "metadata": {},
   "outputs": [
    {
     "name": "stdout",
     "output_type": "stream",
     "text": [
      "   Name\n",
      "0  seth\n",
      "1  nora\n",
      "2  amir\n"
     ]
    }
   ],
   "source": [
    "names = df[['Name']]\n",
    "print(names)"
   ]
  },
  {
   "cell_type": "code",
   "execution_count": 168,
   "id": "787a5a4b-1cdc-41cf-ab7f-a317886d798f",
   "metadata": {},
   "outputs": [
    {
     "name": "stdout",
     "output_type": "stream",
     "text": [
      "Name      nora\n",
      "Age         43\n",
      "Job     Banker\n",
      "Name: 1, dtype: object\n"
     ]
    }
   ],
   "source": [
    "print(df.iloc[1])"
   ]
  },
  {
   "cell_type": "code",
   "execution_count": 169,
   "id": "a7e58bf5-0a8b-41fa-b7dc-2907bfecdb78",
   "metadata": {},
   "outputs": [
    {
     "name": "stdout",
     "output_type": "stream",
     "text": [
      "   Name       Job\n",
      "0  seth  Engineer\n",
      "1  nora    Banker\n",
      "2  amir  Engineer\n"
     ]
    }
   ],
   "source": [
    "names_jobs = df[['Name','Job']]\n",
    "print(names_jobs)"
   ]
  },
  {
   "cell_type": "code",
   "execution_count": 170,
   "id": "80f10a24-0855-4465-a8b8-525a3c2b2c65",
   "metadata": {},
   "outputs": [
    {
     "name": "stdout",
     "output_type": "stream",
     "text": [
      "Name        seth\n",
      "Job     Engineer\n",
      "Name: 0, dtype: object\n"
     ]
    }
   ],
   "source": [
    "print(names_jobs.iloc[0])"
   ]
  },
  {
   "cell_type": "code",
   "execution_count": 171,
   "id": "e12771d2-ebaa-42ae-9c3b-c5610de2f498",
   "metadata": {},
   "outputs": [
    {
     "name": "stdout",
     "output_type": "stream",
     "text": [
      "Engineer\n"
     ]
    }
   ],
   "source": [
    "print(names_jobs.iloc[0].Job)"
   ]
  },
  {
   "cell_type": "code",
   "execution_count": 172,
   "id": "616c7094-848c-491a-ac09-fc4141d4065d",
   "metadata": {},
   "outputs": [
    {
     "name": "stdout",
     "output_type": "stream",
     "text": [
      "43\n"
     ]
    }
   ],
   "source": [
    "print(df.iloc[1,1])"
   ]
  },
  {
   "cell_type": "code",
   "execution_count": 173,
   "id": "20140930-cade-4276-9df0-35cafa151550",
   "metadata": {},
   "outputs": [
    {
     "name": "stdout",
     "output_type": "stream",
     "text": [
      "['seth' 'nora' 'amir']\n",
      "seth\n",
      "nora\n",
      "amir\n"
     ]
    }
   ],
   "source": [
    "column = df['Name'].unique()\n",
    "print(column)\n",
    "for value in column:\n",
    "    print(value)\n"
   ]
  },
  {
   "cell_type": "code",
   "execution_count": 174,
   "id": "5e12f504-5a02-42f4-9adb-111995c40985",
   "metadata": {},
   "outputs": [
    {
     "data": {
      "text/plain": [
       "0     True\n",
       "1    False\n",
       "2     True\n",
       "Name: Job, dtype: bool"
      ]
     },
     "execution_count": 174,
     "metadata": {},
     "output_type": "execute_result"
    }
   ],
   "source": [
    "df['Job'] == 'Engineer'"
   ]
  },
  {
   "cell_type": "code",
   "execution_count": 175,
   "id": "6e23647b-4b29-4045-942d-b8152a526f28",
   "metadata": {},
   "outputs": [
    {
     "data": {
      "text/html": [
       "<div>\n",
       "<style scoped>\n",
       "    .dataframe tbody tr th:only-of-type {\n",
       "        vertical-align: middle;\n",
       "    }\n",
       "\n",
       "    .dataframe tbody tr th {\n",
       "        vertical-align: top;\n",
       "    }\n",
       "\n",
       "    .dataframe thead th {\n",
       "        text-align: right;\n",
       "    }\n",
       "</style>\n",
       "<table border=\"1\" class=\"dataframe\">\n",
       "  <thead>\n",
       "    <tr style=\"text-align: right;\">\n",
       "      <th></th>\n",
       "      <th>Name</th>\n",
       "      <th>Age</th>\n",
       "      <th>Job</th>\n",
       "    </tr>\n",
       "  </thead>\n",
       "  <tbody>\n",
       "    <tr>\n",
       "      <th>0</th>\n",
       "      <td>seth</td>\n",
       "      <td>51</td>\n",
       "      <td>Engineer</td>\n",
       "    </tr>\n",
       "    <tr>\n",
       "      <th>2</th>\n",
       "      <td>amir</td>\n",
       "      <td>15</td>\n",
       "      <td>Engineer</td>\n",
       "    </tr>\n",
       "  </tbody>\n",
       "</table>\n",
       "</div>"
      ],
      "text/plain": [
       "   Name  Age       Job\n",
       "0  seth   51  Engineer\n",
       "2  amir   15  Engineer"
      ]
     },
     "execution_count": 175,
     "metadata": {},
     "output_type": "execute_result"
    }
   ],
   "source": [
    "engineers = df[df['Job'] == 'Engineer']\n",
    "engineers"
   ]
  },
  {
   "cell_type": "code",
   "execution_count": 176,
   "id": "2f4cae59-6f55-4895-a29b-c5bf6ed60abd",
   "metadata": {},
   "outputs": [],
   "source": [
    "engineers.to_csv('./csv/engineers.csv')"
   ]
  },
  {
   "cell_type": "markdown",
   "id": "51026004-8f49-4e4d-846a-8750242d3445",
   "metadata": {},
   "source": [
    "### **Series**"
   ]
  },
  {
   "cell_type": "markdown",
   "id": "49c6c7d5-f26e-45ae-95d3-2f5dd25fadec",
   "metadata": {},
   "source": [
    "##### **Attributes and Methods**\n",
    "\n",
    "| att/meth | description |\n",
    "| ----- | ----- |\n",
    "| values | Returns the Series data as a NumPy array. |\n",
    "| index | Returns the index (labels) of the Series. |\n",
    "| shape | Returns a tuple representing the dimensions of the Series. |\n",
    "| size | Returns the number of elements in the Series. |\n",
    "| mean(), sum(), min(), max() | Calculate summary statistics of the data. |\n",
    "| unique(), nunique() | Get unique values or the number of unique values. |\n",
    "| sort_values(), sort_index() | Sort the Series by values or index labels. |\n",
    "| isnull(), notnull() | Check for missing (NaN) or non-missing values. |\n",
    "| apply() | Apply a custom function to each element of the Series. |"
   ]
  },
  {
   "cell_type": "code",
   "execution_count": 177,
   "id": "21eb8488-cbf9-4e63-86da-e98e2ad86523",
   "metadata": {},
   "outputs": [
    {
     "name": "stdout",
     "output_type": "stream",
     "text": [
      "0    10\n",
      "1    20\n",
      "2    30\n",
      "3    40\n",
      "4    50\n",
      "dtype: int64\n"
     ]
    }
   ],
   "source": [
    "# Create a Series from a list\n",
    "data = [10, 20, 30, 40, 50]\n",
    "s = pd.Series(data)\n",
    "print(s)"
   ]
  },
  {
   "cell_type": "code",
   "execution_count": 187,
   "id": "b8a28438-a518-4279-b808-d728ec847517",
   "metadata": {},
   "outputs": [
    {
     "name": "stdout",
     "output_type": "stream",
     "text": [
      "30\n",
      "\n",
      "40\n",
      "\n",
      "1    20\n",
      "2    30\n",
      "3    40\n",
      "dtype: int64\n"
     ]
    }
   ],
   "source": [
    "print(s[2])     # Access the element with label 2 (value 30)\n",
    "print()\n",
    "print(s.iloc[3]) # Access the element at position 3 (value 40)\n",
    "print()\n",
    "print(s[1:4])   # Access a range of elements by label"
   ]
  },
  {
   "cell_type": "code",
   "execution_count": 186,
   "id": "382f3032-841b-48ed-a28a-abcb2c90dc89",
   "metadata": {},
   "outputs": [
    {
     "name": "stdout",
     "output_type": "stream",
     "text": [
      "10\n",
      "20\n",
      "30\n",
      "40\n",
      "50\n"
     ]
    }
   ],
   "source": [
    "for item in s:\n",
    "    print(item)"
   ]
  },
  {
   "cell_type": "code",
   "execution_count": 190,
   "id": "cf68a479-72bb-48c5-b3e7-2adabd2952ed",
   "metadata": {},
   "outputs": [
    {
     "name": "stdout",
     "output_type": "stream",
     "text": [
      "40\n"
     ]
    }
   ],
   "source": [
    "print(s.loc[3])"
   ]
  },
  {
   "cell_type": "markdown",
   "id": "2cbe3902-3d00-403a-b32a-fc07e5190cb4",
   "metadata": {},
   "source": [
    "### Pandas Exercise From Class"
   ]
  },
  {
   "cell_type": "code",
   "execution_count": 191,
   "id": "d4c48da1-ec26-4fd5-a03c-9b275e703581",
   "metadata": {},
   "outputs": [
    {
     "data": {
      "text/html": [
       "<div>\n",
       "<style scoped>\n",
       "    .dataframe tbody tr th:only-of-type {\n",
       "        vertical-align: middle;\n",
       "    }\n",
       "\n",
       "    .dataframe tbody tr th {\n",
       "        vertical-align: top;\n",
       "    }\n",
       "\n",
       "    .dataframe thead th {\n",
       "        text-align: right;\n",
       "    }\n",
       "</style>\n",
       "<table border=\"1\" class=\"dataframe\">\n",
       "  <thead>\n",
       "    <tr style=\"text-align: right;\">\n",
       "      <th></th>\n",
       "      <th>Artist</th>\n",
       "      <th>Album</th>\n",
       "      <th>Released</th>\n",
       "      <th>Length</th>\n",
       "      <th>Genre</th>\n",
       "      <th>Music Recording Sales (millions)</th>\n",
       "      <th>Claimed Sales (millions)</th>\n",
       "      <th>Released.1</th>\n",
       "      <th>Soundtrack</th>\n",
       "      <th>Rating</th>\n",
       "    </tr>\n",
       "  </thead>\n",
       "  <tbody>\n",
       "    <tr>\n",
       "      <th>0</th>\n",
       "      <td>Michael Jackson</td>\n",
       "      <td>Thriller</td>\n",
       "      <td>1982</td>\n",
       "      <td>00:42:19</td>\n",
       "      <td>pop, rock, R&amp;B</td>\n",
       "      <td>46.0</td>\n",
       "      <td>65</td>\n",
       "      <td>1982-11-30</td>\n",
       "      <td>NaN</td>\n",
       "      <td>10.0</td>\n",
       "    </tr>\n",
       "    <tr>\n",
       "      <th>1</th>\n",
       "      <td>AC/DC</td>\n",
       "      <td>Back in Black</td>\n",
       "      <td>1980</td>\n",
       "      <td>00:42:11</td>\n",
       "      <td>hard rock</td>\n",
       "      <td>26.1</td>\n",
       "      <td>50</td>\n",
       "      <td>1980-07-25</td>\n",
       "      <td>NaN</td>\n",
       "      <td>9.5</td>\n",
       "    </tr>\n",
       "    <tr>\n",
       "      <th>2</th>\n",
       "      <td>Pink Floyd</td>\n",
       "      <td>The Dark Side of the Moon</td>\n",
       "      <td>1973</td>\n",
       "      <td>00:42:49</td>\n",
       "      <td>progressive rock</td>\n",
       "      <td>24.2</td>\n",
       "      <td>45</td>\n",
       "      <td>1973-03-01</td>\n",
       "      <td>NaN</td>\n",
       "      <td>9.0</td>\n",
       "    </tr>\n",
       "  </tbody>\n",
       "</table>\n",
       "</div>"
      ],
      "text/plain": [
       "            Artist                      Album  Released    Length  \\\n",
       "0  Michael Jackson                   Thriller      1982  00:42:19   \n",
       "1            AC/DC              Back in Black      1980  00:42:11   \n",
       "2       Pink Floyd  The Dark Side of the Moon      1973  00:42:49   \n",
       "\n",
       "              Genre  Music Recording Sales (millions)  \\\n",
       "0    pop, rock, R&B                              46.0   \n",
       "1         hard rock                              26.1   \n",
       "2  progressive rock                              24.2   \n",
       "\n",
       "   Claimed Sales (millions) Released.1 Soundtrack  Rating  \n",
       "0                        65 1982-11-30        NaN    10.0  \n",
       "1                        50 1980-07-25        NaN     9.5  \n",
       "2                        45 1973-03-01        NaN     9.0  "
      ]
     },
     "execution_count": 191,
     "metadata": {},
     "output_type": "execute_result"
    }
   ],
   "source": [
    "xlsx_site = 'https://cf-courses-data.s3.us.cloud-object-storage.appdomain.cloud/'\n",
    "xlsx_path = 'IBMDeveloperSkillsNetwork-PY0101EN-SkillsNetwork/jupyterlite/files/Module%205/data/TopSellingAlbums.xlsx'\n",
    "df = pd.read_excel(xlsx_site+xlsx_path)\n",
    "df.head(3)"
   ]
  },
  {
   "cell_type": "code",
   "execution_count": 192,
   "id": "49f559d2-fdb9-44cc-b57b-2097480a3c48",
   "metadata": {},
   "outputs": [
    {
     "data": {
      "text/html": [
       "<div>\n",
       "<style scoped>\n",
       "    .dataframe tbody tr th:only-of-type {\n",
       "        vertical-align: middle;\n",
       "    }\n",
       "\n",
       "    .dataframe tbody tr th {\n",
       "        vertical-align: top;\n",
       "    }\n",
       "\n",
       "    .dataframe thead th {\n",
       "        text-align: right;\n",
       "    }\n",
       "</style>\n",
       "<table border=\"1\" class=\"dataframe\">\n",
       "  <thead>\n",
       "    <tr style=\"text-align: right;\">\n",
       "      <th></th>\n",
       "      <th>Rating</th>\n",
       "    </tr>\n",
       "  </thead>\n",
       "  <tbody>\n",
       "    <tr>\n",
       "      <th>0</th>\n",
       "      <td>10.0</td>\n",
       "    </tr>\n",
       "    <tr>\n",
       "      <th>1</th>\n",
       "      <td>9.5</td>\n",
       "    </tr>\n",
       "    <tr>\n",
       "      <th>2</th>\n",
       "      <td>9.0</td>\n",
       "    </tr>\n",
       "    <tr>\n",
       "      <th>3</th>\n",
       "      <td>8.5</td>\n",
       "    </tr>\n",
       "    <tr>\n",
       "      <th>4</th>\n",
       "      <td>8.0</td>\n",
       "    </tr>\n",
       "    <tr>\n",
       "      <th>5</th>\n",
       "      <td>7.5</td>\n",
       "    </tr>\n",
       "    <tr>\n",
       "      <th>6</th>\n",
       "      <td>7.0</td>\n",
       "    </tr>\n",
       "    <tr>\n",
       "      <th>7</th>\n",
       "      <td>6.5</td>\n",
       "    </tr>\n",
       "  </tbody>\n",
       "</table>\n",
       "</div>"
      ],
      "text/plain": [
       "   Rating\n",
       "0    10.0\n",
       "1     9.5\n",
       "2     9.0\n",
       "3     8.5\n",
       "4     8.0\n",
       "5     7.5\n",
       "6     7.0\n",
       "7     6.5"
      ]
     },
     "execution_count": 192,
     "metadata": {},
     "output_type": "execute_result"
    }
   ],
   "source": [
    "# Use a variable q to store the column Rating as a dataframe\n",
    "q = df[['Rating']]\n",
    "q"
   ]
  },
  {
   "cell_type": "code",
   "execution_count": 193,
   "id": "db5bf83c-dc84-411f-bc11-52b76e1a86c2",
   "metadata": {},
   "outputs": [
    {
     "data": {
      "text/html": [
       "<div>\n",
       "<style scoped>\n",
       "    .dataframe tbody tr th:only-of-type {\n",
       "        vertical-align: middle;\n",
       "    }\n",
       "\n",
       "    .dataframe tbody tr th {\n",
       "        vertical-align: top;\n",
       "    }\n",
       "\n",
       "    .dataframe thead th {\n",
       "        text-align: right;\n",
       "    }\n",
       "</style>\n",
       "<table border=\"1\" class=\"dataframe\">\n",
       "  <thead>\n",
       "    <tr style=\"text-align: right;\">\n",
       "      <th></th>\n",
       "      <th>Rating</th>\n",
       "      <th>Artist</th>\n",
       "    </tr>\n",
       "  </thead>\n",
       "  <tbody>\n",
       "    <tr>\n",
       "      <th>0</th>\n",
       "      <td>10.0</td>\n",
       "      <td>Michael Jackson</td>\n",
       "    </tr>\n",
       "    <tr>\n",
       "      <th>1</th>\n",
       "      <td>9.5</td>\n",
       "      <td>AC/DC</td>\n",
       "    </tr>\n",
       "    <tr>\n",
       "      <th>2</th>\n",
       "      <td>9.0</td>\n",
       "      <td>Pink Floyd</td>\n",
       "    </tr>\n",
       "    <tr>\n",
       "      <th>3</th>\n",
       "      <td>8.5</td>\n",
       "      <td>Whitney Houston</td>\n",
       "    </tr>\n",
       "    <tr>\n",
       "      <th>4</th>\n",
       "      <td>8.0</td>\n",
       "      <td>Meat Loaf</td>\n",
       "    </tr>\n",
       "    <tr>\n",
       "      <th>5</th>\n",
       "      <td>7.5</td>\n",
       "      <td>Eagles</td>\n",
       "    </tr>\n",
       "    <tr>\n",
       "      <th>6</th>\n",
       "      <td>7.0</td>\n",
       "      <td>Bee Gees</td>\n",
       "    </tr>\n",
       "    <tr>\n",
       "      <th>7</th>\n",
       "      <td>6.5</td>\n",
       "      <td>Fleetwood Mac</td>\n",
       "    </tr>\n",
       "  </tbody>\n",
       "</table>\n",
       "</div>"
      ],
      "text/plain": [
       "   Rating           Artist\n",
       "0    10.0  Michael Jackson\n",
       "1     9.5            AC/DC\n",
       "2     9.0       Pink Floyd\n",
       "3     8.5  Whitney Houston\n",
       "4     8.0        Meat Loaf\n",
       "5     7.5           Eagles\n",
       "6     7.0         Bee Gees\n",
       "7     6.5    Fleetwood Mac"
      ]
     },
     "execution_count": 193,
     "metadata": {},
     "output_type": "execute_result"
    }
   ],
   "source": [
    "# Assign the variable q to the dataframe that is made up of the column Released and Artist:\n",
    "q = df[['Rating','Artist']]\n",
    "q"
   ]
  },
  {
   "cell_type": "code",
   "execution_count": 194,
   "id": "57191a42-192c-42cf-856f-a84bd1c90afe",
   "metadata": {},
   "outputs": [
    {
     "data": {
      "text/plain": [
       "1980"
      ]
     },
     "execution_count": 194,
     "metadata": {},
     "output_type": "execute_result"
    }
   ],
   "source": [
    "# Access the 2nd row and the 3rd column of df:\n",
    "df.iloc[1, 2]"
   ]
  },
  {
   "cell_type": "code",
   "execution_count": 195,
   "id": "fe57ce9b-85e8-4f73-bcb1-5195179e59fa",
   "metadata": {},
   "outputs": [
    {
     "data": {
      "text/plain": [
       "a    Michael Jackson\n",
       "b              AC/DC\n",
       "c         Pink Floyd\n",
       "d    Whitney Houston\n",
       "Name: Artist, dtype: object"
      ]
     },
     "execution_count": 195,
     "metadata": {},
     "output_type": "execute_result"
    }
   ],
   "source": [
    "# Use the following list to convert the dataframe index df to characters and assign it to df_new; \n",
    "# find the element corresponding to the row index a and column 'Artist'. \n",
    "# Then select the rows a through d for the column 'Artist'\n",
    "\n",
    "new_index=['a','b','c','d','e','f','g','h']\n",
    "\n",
    "df_new=df\n",
    "df_new.index=new_index\n",
    "df_new.loc['a':'d', 'Artist']"
   ]
  },
  {
   "cell_type": "code",
   "execution_count": 196,
   "id": "0c1d04c8-9791-4781-9c0b-31b7b5133e9f",
   "metadata": {},
   "outputs": [],
   "source": [
    "df_new.index=range(8)"
   ]
  }
 ],
 "metadata": {
  "kernelspec": {
   "display_name": "Python 3 (ipykernel)",
   "language": "python",
   "name": "python3"
  },
  "language_info": {
   "codemirror_mode": {
    "name": "ipython",
    "version": 3
   },
   "file_extension": ".py",
   "mimetype": "text/x-python",
   "name": "python",
   "nbconvert_exporter": "python",
   "pygments_lexer": "ipython3",
   "version": "3.9.2"
  }
 },
 "nbformat": 4,
 "nbformat_minor": 5
}
