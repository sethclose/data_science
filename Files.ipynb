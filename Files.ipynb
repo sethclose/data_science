{
 "cells": [
  {
   "cell_type": "markdown",
   "id": "8468e925-5e8d-44ad-baa9-e39965b6353a",
   "metadata": {},
   "source": [
    "# **Files**"
   ]
  },
  {
   "cell_type": "markdown",
   "id": "88ade723-803c-494a-89e1-14c0e5975ec0",
   "metadata": {},
   "source": [
    "#### Author:  Seth Close"
   ]
  },
  {
   "cell_type": "markdown",
   "id": "552b7ebe-4079-41f0-b9af-df725a41f49b",
   "metadata": {},
   "source": [
    "#### 31 DEC 2023"
   ]
  },
  {
   "cell_type": "markdown",
   "id": "c2e80810-e19b-403a-aca6-8c3b20f98058",
   "metadata": {},
   "source": [
    "| Mode | Syntax | Description |\n",
    "| --- | --- | --- |\n",
    "|\t‘r’\t|\tr'\t|\tRead mode. Opens an existing file for reading. Raises an error if the file doesn't exist.\t|\n",
    "|\t‘w’\t|\tw'\t|\tWrite mode. Creates a new file for writing. Overwrites the file if it already exists.\t|\n",
    "|\t‘a’\t|\ta'\t|\tAppend mode. Opens a file for appending data. Creates the file if it doesn't exist.\t|\n",
    "|\t‘x’\t|\tx'\t|\tExclusive creation mode. Creates a new file for writing but raises an error if the file already exists.\t|\n",
    "|\t‘rb’\t|\trb'\t|\tRead binary mode. Opens an existing binary file for reading.\t|\n",
    "|\t‘wb’\t|\twb'\t|\tWrite binary mode. Creates a new binary file for writing.\t|\n",
    "|\t‘ab’\t|\tab'\t|\tAppend binary mode. Opens a binary file for appending data.\t|\n",
    "|\t‘xb’\t|\txb'\t|\tExclusive binary creation mode. Creates a new binary file for writing but raises an error if it already exists.\t|\n",
    "|\t‘rt’\t|\trt'\t|\tRead text mode. Opens an existing text file for reading. (Default for text files)\t|\n",
    "|\t‘wt’\t|\twt'\t|\tWrite text mode. Creates a new text file for writing. (Default for text files)\t|\n",
    "|\t‘at’\t|\tat'\t|\tAppend text mode. Opens a text file for appending data. (Default for text files)\t|\n",
    "|\t‘xt’\t|\txt'\t|\tExclusive text creation mode. Creates a new text file for writing but raises an error if it already exists.\t|\n",
    "|\t‘r+’\t|\tr+'\t|\tRead and write mode. Opens an existing file for both reading and writing.\t|\n",
    "|\t‘w+’\t|\tw+'\t|\tWrite and read mode. Creates a new file for reading and writing. Overwrites the file if it already exists.\t|\n",
    "|\t‘a+’\t|\ta+'\t|\tAppend and read mode. Opens a file for both appending and reading. Creates the file if it doesn't exist.\t|\n",
    "|\t‘x+’\t|\tx+'\t|\tExclusive creation and read/write mode. Creates a new file for reading and writing but raises an error if it already exists.\t|"
   ]
  },
  {
   "cell_type": "markdown",
   "id": "64aac7d5-b4e0-419e-a40d-d9e8dfb4af94",
   "metadata": {},
   "source": [
    "| Syntax  | Description |\n",
    "| --- | --- |\n",
    "|  urllib.request.urlretrieve(url, filename) | download file from url |\n",
    "|  open() | open(filename,mode) |\n",
    "| .name | name of file |\n",
    "| .mode | mode (r,w,a) |\n",
    "| .close() | file.close() |\n",
    "| .read() | text = file.read() |\n",
    "| .readable()\t|\tReturns whether the file stream can be read or not\t|\n",
    "| .readline()\t|\tReturns one line from the file\t|\n",
    "| .readlines() | list = file.readlines() |\n",
    "| .writable()\t|\tReturns whether the file can be written to or not\t|\n",
    "| .write() | file.write(text) |\n",
    "| .writelines()\t|\tWrites a list of strings to the file\t|\n",
    "| .append() | file.append(text) |\n",
    "| .tell() | current location in file | \n",
    "| .truncate()\t|\tResizes the file to a specified size\t|\n",
    "| .seek() | file.seek(position,whence) whence: 0, default beg; 1, current; 2, end | \n",
    "| .seekable()\t|\tReturns whether the file allows us to change the file position\t|\n",
    "| .detach()\t|\tReturns the separated raw stream from the buffer\t|\n",
    "| .fileno()\t|\tReturns a number that represents the stream, from the operating system's perspective\t|\n",
    "| .flush()\t|\tFlushes the internal buffer\t|\n",
    "| .isatty()\t|\tReturns whether the file stream is interactive or not\t|\n",
    "\n"
   ]
  },
  {
   "cell_type": "code",
   "execution_count": 67,
   "id": "be16d453-9fdb-4644-85c1-cd7f87d12111",
   "metadata": {},
   "outputs": [],
   "source": [
    "filename = \"textfile.txt\""
   ]
  },
  {
   "cell_type": "code",
   "execution_count": 68,
   "id": "05fe4e25-a263-4f2c-8b88-5117d357f9a5",
   "metadata": {},
   "outputs": [
    {
     "name": "stdout",
     "output_type": "stream",
     "text": [
      "That file does not exist.\n"
     ]
    }
   ],
   "source": [
    "try:\n",
    "    file = open(\"./\"+filename+\"XXX\", \"r\")\n",
    "except FileNotFoundError:\n",
    "    print(\"That file does not exist.\")"
   ]
  },
  {
   "cell_type": "code",
   "execution_count": 69,
   "id": "e0fd1a84-9341-416c-aac3-44fdeac48939",
   "metadata": {},
   "outputs": [],
   "source": [
    "# Open the file to Write (this erases)\n",
    "file = open(\"./\"+filename, \"w\")\n",
    "file.close()"
   ]
  },
  {
   "cell_type": "code",
   "execution_count": 70,
   "id": "f5b31bb5-7ee7-4201-b3d7-42ec9ec560f4",
   "metadata": {},
   "outputs": [],
   "source": [
    "# Open the file to Append\n",
    "file = open(\"./\"+filename, \"a\")\n",
    "file_text = \"\"\n",
    "for x in range(1,4):\n",
    "    file_text = file_text + str(x) + \") This got added by files.ipynb.\\r\"\n",
    "file.write(file_text)\n",
    "file.close()    "
   ]
  },
  {
   "cell_type": "code",
   "execution_count": 71,
   "id": "c30ffc5a-ea60-4558-93f7-88837303d8bc",
   "metadata": {},
   "outputs": [
    {
     "name": "stdout",
     "output_type": "stream",
     "text": [
      "   1) This got added by files.ipynb.\n",
      "\n",
      "   2) This got added by files.ipynb.\n",
      "\n",
      "   3) This got added by files.ipynb.\n",
      "\n"
     ]
    }
   ],
   "source": [
    "# Open the file to Read print a few lines\n",
    "file = open(\"./\"+filename, \"r\")\n",
    "linecount = 0\n",
    "for line in file:\n",
    "    print(\"   \" + line)\n",
    "    linecount += 1\n",
    "    if linecount == 13: \n",
    "        break\n",
    "file.close()"
   ]
  },
  {
   "cell_type": "code",
   "execution_count": 72,
   "id": "a81a8207-219b-4c5d-a368-777d3ef3a553",
   "metadata": {},
   "outputs": [
    {
     "name": "stdout",
     "output_type": "stream",
     "text": [
      "File:    ./textfile.txt  (r)   <class '_io.TextIOWrapper'>\n",
      "Status:  None\n",
      "['1', ')', ' ', 'T', 'h', 'i', 's', ' ', 'g', 'o', 't', ' ', 'a', 'd', 'd', 'e', 'd', ' ', 'b', 'y', ' ', 'f', 'i', 'l', 'e', 's', '.', 'i', 'p', 'y', 'n', 'b', '.', '\\n']\n",
      "\n",
      "['2', ')', ' ', 'T', 'h', 'i', 's', ' ', 'g', 'o', 't', ' ', 'a', 'd', 'd', 'e', 'd', ' ', 'b', 'y', ' ', 'f', 'i', 'l', 'e', 's', '.', 'i', 'p', 'y', 'n', 'b', '.', '\\n']\n",
      "\n",
      "['3', ')', ' ', 'T', 'h', 'i', 's', ' ', 'g', 'o', 't', ' ', 'a', 'd', 'd', 'e', 'd', ' ', 'b', 'y', ' ', 'f', 'i', 'l', 'e', 's', '.', 'i', 'p', 'y', 'n', 'b', '.', '\\n']\n",
      "\n"
     ]
    }
   ],
   "source": [
    "with open(\"./\" + filename, \"r\") as tempfile:\n",
    "    print(\"File:    \" + tempfile.name + '  ('+tempfile.mode+')   ' + str(type(tempfile)))\n",
    "    #file = tempfile.read()\n",
    "    file_lines = tempfile.readlines()\n",
    "print(\"Status:  \" + str(tempfile.close()))\n",
    "#print('\\nFile Text:\\n' + file)\n",
    "for line in file_lines:\n",
    "    linechars = []\n",
    "    for char in line:\n",
    "       linechars.append(char)\n",
    "    print(linechars)\n",
    "    print()\n"
   ]
  },
  {
   "cell_type": "code",
   "execution_count": 104,
   "id": "41abbefe-5ba6-4de0-bac6-b04aa40925f8",
   "metadata": {},
   "outputs": [
    {
     "name": "stdout",
     "output_type": "stream",
     "text": [
      "Downloaded example.txt\n"
     ]
    }
   ],
   "source": [
    "#  Downloading Files - 2 Different Ways?\n",
    "download_option = 'urllib'\n",
    "filename = 'example.txt' # Save As File Name\n",
    "\n",
    "if download_option == 'urllib':\n",
    "\n",
    "    # urllib\n",
    "    import urllib.request\n",
    "    url = 'https://cf-courses-data.s3.us.cloud-object-storage.appdomain.cloud/IBMDeveloperSkillsNetwork-PY0101EN-SkillsNetwork/labs/Module%204/data/example1.txt'\n",
    "    urllib.request.urlretrieve(url, filename)\n",
    "    #!curl EXAMPLE.txt https://cf-courses-data.s3.us.cloud-object-storage.appdomain.cloud/IBMDeveloperSkillsNetwork-PY0101EN-SkillsNetwork/labs/Module%204/data/example1.txt\n",
    "    print(\"Downloaded \" + filename)\n",
    "    \n",
    "elif download_option == 'pandas':\n",
    "    \n",
    "    print(\"Pandas\")\n",
    "    # from pyodide.http import pyfetch\n",
    "    # import pandas as pd\n",
    "    # filename = \"https://cf-courses-data.s3.us.cloud-object-storage.appdomain.cloud/IBMDeveloperSkillsNetwork-PY0101EN-SkillsNetwork/labs/Module%204/data/example1.txt\"\n",
    "    # async def download(url, filename):\n",
    "    #     response = await pyfetch(url)\n",
    "    #     if response.status == 200:\n",
    "    #         with open(filename, \"wb\") as f:\n",
    "    #             f.write(await response.bytes())\n",
    "    # await download(filename, \"example1.txt\")\n",
    "    # print(\"done\")\n",
    "\n",
    "else:\n",
    "    \n",
    "    print(\"Invalid Download Option\")\n",
    "    "
   ]
  },
  {
   "cell_type": "code",
   "execution_count": 106,
   "id": "55398eba-15f1-40e1-ba09-b639934e98e9",
   "metadata": {},
   "outputs": [
    {
     "name": "stdout",
     "output_type": "stream",
     "text": [
      "This\n",
      " is \n",
      "line 1 \n",
      "\n",
      "This is line 2\n"
     ]
    }
   ],
   "source": [
    "with open(\"example1.txt\", \"r\") as file1:\n",
    "    print(file1.read(4))\n",
    "    print(file1.read(4))\n",
    "    print(file1.read(7))\n",
    "    print(file1.read(15))"
   ]
  },
  {
   "cell_type": "code",
   "execution_count": 109,
   "id": "7b69ed62-c4df-401c-abbc-5e5f3cd59f83",
   "metadata": {},
   "outputs": [
    {
     "name": "stdout",
     "output_type": "stream",
     "text": [
      "first line: This is line 1 \n",
      "\n"
     ]
    }
   ],
   "source": [
    "# Read one line\n",
    "with open(\"example1.txt\", \"r\") as file1:\n",
    "    print(\"first line: \" + file1.readline())"
   ]
  },
  {
   "cell_type": "code",
   "execution_count": 110,
   "id": "98486716-68f9-4993-b94e-ccc12eb452d2",
   "metadata": {},
   "outputs": [
    {
     "name": "stdout",
     "output_type": "stream",
     "text": [
      "File:    ./example.txt  (r)   <class '_io.TextIOWrapper'>\n",
      "Status:  None\n",
      "['T', 'h', 'i', 's', ' ', 'i', 's', ' ', 'l', 'i', 'n', 'e', ' ', '1', ' ', '\\n']\n",
      "\n",
      "['T', 'h', 'i', 's', ' ', 'i', 's', ' ', 'l', 'i', 'n', 'e', ' ', '2', '\\n']\n",
      "\n",
      "['T', 'h', 'i', 's', ' ', 'i', 's', ' ', 'l', 'i', 'n', 'e', ' ', '3']\n",
      "\n"
     ]
    }
   ],
   "source": [
    "filename = \"example.txt\"\n",
    "with open(\"./\" + filename, \"r\") as tempfile:\n",
    "    print(\"File:    \" + tempfile.name + '  ('+tempfile.mode+')   ' + str(type(tempfile)))\n",
    "    #file = tempfile.read()\n",
    "    file_lines = tempfile.readlines()\n",
    "print(\"Status:  \" + str(tempfile.close()))\n",
    "#print('\\nFile Text:\\n' + file)\n",
    "for line in file_lines:\n",
    "    linechars = []\n",
    "    for char in line:\n",
    "       linechars.append(char)\n",
    "    print(linechars)\n",
    "    print()"
   ]
  },
  {
   "cell_type": "code",
   "execution_count": 113,
   "id": "b42a38af-f551-4b23-a1d1-a56991a53950",
   "metadata": {},
   "outputs": [
    {
     "name": "stdout",
     "output_type": "stream",
     "text": [
      "example.txt\n"
     ]
    }
   ],
   "source": [
    "# Open the file to Write (this erases)\n",
    "print(filename)\n",
    "file = open(\"./\"+filename, \"w\")\n",
    "file.close()"
   ]
  },
  {
   "cell_type": "code",
   "execution_count": 114,
   "id": "32f9884f-d25c-4c78-a0b3-64ce9503f1c0",
   "metadata": {},
   "outputs": [],
   "source": [
    "# Open the file to Append\n",
    "file = open(\"./\"+filename, \"a\")\n",
    "file_text = \"\"\n",
    "for x in range(1,4):\n",
    "    file_text = file_text + str(x) + \") This got added by Files.ipynb.\\r\"\n",
    "file.write(file_text)\n",
    "file.close()    "
   ]
  },
  {
   "cell_type": "code",
   "execution_count": 121,
   "id": "4ffc3350-afb1-416d-bf76-bad0b9758ce2",
   "metadata": {},
   "outputs": [
    {
     "name": "stdout",
     "output_type": "stream",
     "text": [
      "File:    ./example.txt  (r)   <class '_io.TextIOWrapper'>\n",
      "Status:  None\n",
      "['1', ')', ' ', 'T', 'h', 'i', 's', ' ', 'g', 'o', 't', ' ', 'a', 'd', 'd', 'e', 'd', ' ', 'b', 'y', ' ', 'F', 'i', 'l', 'e', 's', '.', 'i', 'p', 'y', 'n', 'b', '.', '\\n']\n",
      "\n",
      "['2', ')', ' ', 'T', 'h', 'i', 's', ' ', 'g', 'o', 't', ' ', 'a', 'd', 'd', 'e', 'd', ' ', 'b', 'y', ' ', 'F', 'i', 'l', 'e', 's', '.', 'i', 'p', 'y', 'n', 'b', '.', '\\n']\n",
      "\n",
      "['3', ')', ' ', 'T', 'h', 'i', 's', ' ', 'g', 'o', 't', ' ', 'a', 'd', 'd', 'e', 'd', ' ', 'b', 'y', ' ', 'F', 'i', 'l', 'e', 's', '.', 'i', 'p', 'y', 'n', 'b', '.', '\\n']\n",
      "\n"
     ]
    }
   ],
   "source": [
    "try:\n",
    "    with open(\"./\" + filename, \"r\") as tempfile:\n",
    "        print(\"File:    \" + tempfile.name + '  ('+tempfile.mode+')   ' + str(type(tempfile)))\n",
    "        #file = tempfile.read()\n",
    "        file_lines = tempfile.readlines()\n",
    "    print(\"Status:  \" + str(tempfile.close()))\n",
    "    #print('\\nFile Text:\\n' + file)\n",
    "except FileNotFoundError:\n",
    "    print(\"That file does not exist.\")    \n",
    "    file_lines = []\n",
    "    \n",
    "for line in file_lines:\n",
    "    linechars = []\n",
    "    for char in line:\n",
    "       linechars.append(char)\n",
    "    print(linechars)\n",
    "    print()\n"
   ]
  },
  {
   "cell_type": "code",
   "execution_count": 139,
   "id": "80fd24b7-f3e0-4e94-b7b6-044422f10a8b",
   "metadata": {},
   "outputs": [
    {
     "name": "stdout",
     "output_type": "stream",
     "text": [
      "File:    ./example.txt  (a)   <class '_io.TextIOWrapper'>\n",
      "Status:  None\n"
     ]
    }
   ],
   "source": [
    "try:\n",
    "    with open(\"./\" + filename, \"a\") as file:\n",
    "        print(\"File:    \" + file.name + '  ('+file.mode+')   ' + str(type(file)))\n",
    "        file.write('Added a new line.\\n')\n",
    "    print(\"Status:  \" + str(file.close()))\n",
    "except FileNotFoundError:\n",
    "    print(\"That file does not exist.\")    "
   ]
  },
  {
   "cell_type": "code",
   "execution_count": 156,
   "id": "84720df0-056f-4601-b330-8c6b49725c35",
   "metadata": {},
   "outputs": [],
   "source": [
    "# Create/Empty source file\n",
    "filename = 'source.txt'\n",
    "file = open(\"./\" + filename, \"w\")\n",
    "file.write('One\\nTwo\\nThree\\nFour\\n')\n",
    "file.close()\n",
    "\n",
    "# Open the source file for reading\n",
    "with open(filename, 'r') as source_file:\n",
    "    # Open the destination file for writing\n",
    "    with open('destination.txt', 'w') as destination_file:\n",
    "        # Read lines from the source file and copy them to the destination file\n",
    "        for line in source_file:\n",
    "            destination_file.write(line)"
   ]
  },
  {
   "cell_type": "code",
   "execution_count": 180,
   "id": "a624b9ee-ae19-4dd2-967c-79a1ddecd4bf",
   "metadata": {},
   "outputs": [],
   "source": [
    "# Create/Empty source file\n",
    "filename = 'example2.txt'\n",
    "file = open(\"./\" + filename, \"w\")\n",
    "file.write('One\\nTwo\\n')\n",
    "file.close()"
   ]
  },
  {
   "cell_type": "code",
   "execution_count": 183,
   "id": "e0803294-1aa3-4313-9914-b04e1b405e7c",
   "metadata": {},
   "outputs": [
    {
     "name": "stdout",
     "output_type": "stream",
     "text": [
      "Initial Location: 40\n",
      "\n",
      "After Write: 56\n",
      "\n",
      "After Seek: 10\n",
      "is is a line.\n",
      "This is a line.\n",
      "This is a line.\n",
      "\n",
      "\n",
      "After Seek: 0\n",
      "['One\\n', 'Two\\n', 'This is a line.\\n', 'This is a line.\\n', 'This is a line.\\n']\n",
      "\n",
      "After Seek: 56\n",
      "One\n",
      "\n",
      "Two\n",
      "\n",
      "This is a line.\n",
      "\n",
      "This is a line.\n",
      "\n",
      "This is a line.\n",
      "\n"
     ]
    }
   ],
   "source": [
    "# Open the source file for reading\n",
    "with open(filename, 'a+') as testwritefile:\n",
    "    print(\"Initial Location: {}\".format(testwritefile.tell()))\n",
    "    testwritefile.write(\"This is a line.\\n\")\n",
    "    print(\"\\nAfter Write: {}\".format(testwritefile.tell()))\n",
    "    testwritefile.seek(10,0)\n",
    "    print(\"\\nAfter Seek: {}\".format(testwritefile.tell()))\n",
    "    text = testwritefile.read()\n",
    "    print(text)\n",
    "    testwritefile.seek(0,0)\n",
    "    print(\"\\nAfter Seek: {}\".format(testwritefile.tell()))\n",
    "    lines = testwritefile.readlines()\n",
    "    print(lines)  \n",
    "    print(\"\\nAfter Seek: {}\".format(testwritefile.tell()))\n",
    "    for line in lines:\n",
    "        print(line)\n",
    "        pass"
   ]
  },
  {
   "cell_type": "code",
   "execution_count": 140,
   "id": "4c4528f3-900f-41b3-b526-0cc404f8a045",
   "metadata": {},
   "outputs": [],
   "source": [
    "# Open the file to Write (this erases)\n",
    "filename = 'example.txt'\n",
    "file = open(\"./\"+filename, \"w\")\n",
    "file.close()"
   ]
  }
 ],
 "metadata": {
  "kernelspec": {
   "display_name": "Python 3 (ipykernel)",
   "language": "python",
   "name": "python3"
  },
  "language_info": {
   "codemirror_mode": {
    "name": "ipython",
    "version": 3
   },
   "file_extension": ".py",
   "mimetype": "text/x-python",
   "name": "python",
   "nbconvert_exporter": "python",
   "pygments_lexer": "ipython3",
   "version": "3.9.2"
  }
 },
 "nbformat": 4,
 "nbformat_minor": 5
}
