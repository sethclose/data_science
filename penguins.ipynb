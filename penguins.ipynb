{
 "cells": [
  {
   "cell_type": "markdown",
   "id": "13500a30-8f32-47ee-8166-b7d5a7c5b83c",
   "metadata": {},
   "source": [
    "# Penguins"
   ]
  },
  {
   "cell_type": "markdown",
   "id": "9123e6d0-e413-4a5f-8270-1fb7d3063dcf",
   "metadata": {},
   "source": [
    "## Libraries"
   ]
  },
  {
   "cell_type": "code",
   "execution_count": 1,
   "id": "96f0f148-ce7d-4651-a699-31d91dabdba6",
   "metadata": {},
   "outputs": [],
   "source": [
    "import pandas as pd\n",
    "import numpy as np\n",
    "import seaborn as sns\n",
    "\n",
    "from scipy import stats"
   ]
  },
  {
   "cell_type": "markdown",
   "id": "4aff1e61-0820-4780-9ca2-b849250c6461",
   "metadata": {},
   "source": [
    "## Dataset"
   ]
  },
  {
   "cell_type": "code",
   "execution_count": 2,
   "id": "5058c4b4-4845-42ac-a72a-1cc1f668179a",
   "metadata": {},
   "outputs": [],
   "source": [
    "df = sns.load_dataset(\"penguins\", cache=False)"
   ]
  },
  {
   "cell_type": "code",
   "execution_count": 3,
   "id": "5a77fa76-201b-4340-8905-dcc3bfa91d19",
   "metadata": {},
   "outputs": [
    {
     "data": {
      "text/plain": [
       "(344, 7)"
      ]
     },
     "execution_count": 3,
     "metadata": {},
     "output_type": "execute_result"
    }
   ],
   "source": [
    "df.shape"
   ]
  },
  {
   "cell_type": "code",
   "execution_count": 4,
   "id": "9e2aa664-70a5-4260-b817-984c9b26ec31",
   "metadata": {},
   "outputs": [
    {
     "data": {
      "text/html": [
       "<div>\n",
       "<style scoped>\n",
       "    .dataframe tbody tr th:only-of-type {\n",
       "        vertical-align: middle;\n",
       "    }\n",
       "\n",
       "    .dataframe tbody tr th {\n",
       "        vertical-align: top;\n",
       "    }\n",
       "\n",
       "    .dataframe thead th {\n",
       "        text-align: right;\n",
       "    }\n",
       "</style>\n",
       "<table border=\"1\" class=\"dataframe\">\n",
       "  <thead>\n",
       "    <tr style=\"text-align: right;\">\n",
       "      <th></th>\n",
       "      <th>bill_length_mm</th>\n",
       "      <th>bill_depth_mm</th>\n",
       "      <th>flipper_length_mm</th>\n",
       "      <th>body_mass_g</th>\n",
       "    </tr>\n",
       "  </thead>\n",
       "  <tbody>\n",
       "    <tr>\n",
       "      <th>count</th>\n",
       "      <td>342.000000</td>\n",
       "      <td>342.000000</td>\n",
       "      <td>342.000000</td>\n",
       "      <td>342.000000</td>\n",
       "    </tr>\n",
       "    <tr>\n",
       "      <th>mean</th>\n",
       "      <td>43.921930</td>\n",
       "      <td>17.151170</td>\n",
       "      <td>200.915205</td>\n",
       "      <td>4201.754386</td>\n",
       "    </tr>\n",
       "    <tr>\n",
       "      <th>std</th>\n",
       "      <td>5.459584</td>\n",
       "      <td>1.974793</td>\n",
       "      <td>14.061714</td>\n",
       "      <td>801.954536</td>\n",
       "    </tr>\n",
       "    <tr>\n",
       "      <th>min</th>\n",
       "      <td>32.100000</td>\n",
       "      <td>13.100000</td>\n",
       "      <td>172.000000</td>\n",
       "      <td>2700.000000</td>\n",
       "    </tr>\n",
       "    <tr>\n",
       "      <th>25%</th>\n",
       "      <td>39.225000</td>\n",
       "      <td>15.600000</td>\n",
       "      <td>190.000000</td>\n",
       "      <td>3550.000000</td>\n",
       "    </tr>\n",
       "    <tr>\n",
       "      <th>50%</th>\n",
       "      <td>44.450000</td>\n",
       "      <td>17.300000</td>\n",
       "      <td>197.000000</td>\n",
       "      <td>4050.000000</td>\n",
       "    </tr>\n",
       "    <tr>\n",
       "      <th>75%</th>\n",
       "      <td>48.500000</td>\n",
       "      <td>18.700000</td>\n",
       "      <td>213.000000</td>\n",
       "      <td>4750.000000</td>\n",
       "    </tr>\n",
       "    <tr>\n",
       "      <th>max</th>\n",
       "      <td>59.600000</td>\n",
       "      <td>21.500000</td>\n",
       "      <td>231.000000</td>\n",
       "      <td>6300.000000</td>\n",
       "    </tr>\n",
       "  </tbody>\n",
       "</table>\n",
       "</div>"
      ],
      "text/plain": [
       "       bill_length_mm  bill_depth_mm  flipper_length_mm  body_mass_g\n",
       "count      342.000000     342.000000         342.000000   342.000000\n",
       "mean        43.921930      17.151170         200.915205  4201.754386\n",
       "std          5.459584       1.974793          14.061714   801.954536\n",
       "min         32.100000      13.100000         172.000000  2700.000000\n",
       "25%         39.225000      15.600000         190.000000  3550.000000\n",
       "50%         44.450000      17.300000         197.000000  4050.000000\n",
       "75%         48.500000      18.700000         213.000000  4750.000000\n",
       "max         59.600000      21.500000         231.000000  6300.000000"
      ]
     },
     "execution_count": 4,
     "metadata": {},
     "output_type": "execute_result"
    }
   ],
   "source": [
    "df.describe()"
   ]
  },
  {
   "cell_type": "code",
   "execution_count": 5,
   "id": "b9f718d5-b759-4137-ba84-c07746770d0e",
   "metadata": {},
   "outputs": [
    {
     "name": "stdout",
     "output_type": "stream",
     "text": [
      "<class 'pandas.core.frame.DataFrame'>\n",
      "RangeIndex: 344 entries, 0 to 343\n",
      "Data columns (total 7 columns):\n",
      " #   Column             Non-Null Count  Dtype  \n",
      "---  ------             --------------  -----  \n",
      " 0   species            344 non-null    object \n",
      " 1   island             344 non-null    object \n",
      " 2   bill_length_mm     342 non-null    float64\n",
      " 3   bill_depth_mm      342 non-null    float64\n",
      " 4   flipper_length_mm  342 non-null    float64\n",
      " 5   body_mass_g        342 non-null    float64\n",
      " 6   sex                333 non-null    object \n",
      "dtypes: float64(4), object(3)\n",
      "memory usage: 18.9+ KB\n"
     ]
    }
   ],
   "source": [
    "df.info()"
   ]
  },
  {
   "cell_type": "markdown",
   "id": "bb4e6cd5-73b9-46f9-bae0-472b36e80cd2",
   "metadata": {},
   "source": [
    "### categorical"
   ]
  },
  {
   "cell_type": "markdown",
   "id": "1ceed4a2-297e-44f9-8228-343e3412cd24",
   "metadata": {},
   "source": [
    "#### species"
   ]
  },
  {
   "cell_type": "code",
   "execution_count": 6,
   "id": "977f3d23-e982-427a-a473-011846a9ec7c",
   "metadata": {},
   "outputs": [
    {
     "data": {
      "text/plain": [
       "0"
      ]
     },
     "execution_count": 6,
     "metadata": {},
     "output_type": "execute_result"
    }
   ],
   "source": [
    "df.species.isna().sum()"
   ]
  },
  {
   "cell_type": "code",
   "execution_count": 7,
   "id": "c57b63a4-51d9-461c-84ed-11113738ab16",
   "metadata": {},
   "outputs": [
    {
     "data": {
      "text/plain": [
       "array(['Adelie', 'Chinstrap', 'Gentoo'], dtype=object)"
      ]
     },
     "execution_count": 7,
     "metadata": {},
     "output_type": "execute_result"
    }
   ],
   "source": [
    "df.species.unique()"
   ]
  },
  {
   "cell_type": "code",
   "execution_count": 8,
   "id": "e24693ae-2903-4559-afcb-2a0814702eca",
   "metadata": {},
   "outputs": [
    {
     "data": {
      "text/plain": [
       "{'Adelie': 1, 'Chinstrap': 2, 'Gentoo': 3}"
      ]
     },
     "execution_count": 8,
     "metadata": {},
     "output_type": "execute_result"
    }
   ],
   "source": [
    "map_species = dict(zip(df.species.unique(), range(1, len(df.species.unique())+1)))\n",
    "map_species"
   ]
  },
  {
   "cell_type": "code",
   "execution_count": 9,
   "id": "56951fbe-ffcc-41c5-949e-0bacacedaef4",
   "metadata": {},
   "outputs": [
    {
     "data": {
      "text/plain": [
       "{1: 'Adelie', 2: 'Chinstrap', 3: 'Gentoo'}"
      ]
     },
     "execution_count": 9,
     "metadata": {},
     "output_type": "execute_result"
    }
   ],
   "source": [
    "map_species_r = dict([(m,n) for n,m in map_species.items()])\n",
    "map_species_r"
   ]
  },
  {
   "cell_type": "code",
   "execution_count": 10,
   "id": "fce6986a-518f-4e31-bfd7-834ff3ad6120",
   "metadata": {},
   "outputs": [],
   "source": [
    "try:\n",
    "    df.insert(1, 'species_n', df.species.map(map_species))\n",
    "except Exception as exception:\n",
    "    print(exception)"
   ]
  },
  {
   "cell_type": "code",
   "execution_count": 11,
   "id": "803a6c9e-ea0f-4cbf-8585-ee493e69491d",
   "metadata": {},
   "outputs": [
    {
     "data": {
      "text/plain": [
       "species_n\n",
       "1    152\n",
       "3    124\n",
       "2     68\n",
       "Name: count, dtype: int64"
      ]
     },
     "execution_count": 11,
     "metadata": {},
     "output_type": "execute_result"
    }
   ],
   "source": [
    "df.species_n.value_counts()"
   ]
  },
  {
   "cell_type": "code",
   "execution_count": 12,
   "id": "784906ed-c991-4be6-8721-5a6628966a64",
   "metadata": {},
   "outputs": [
    {
     "data": {
      "text/html": [
       "<div>\n",
       "<style scoped>\n",
       "    .dataframe tbody tr th:only-of-type {\n",
       "        vertical-align: middle;\n",
       "    }\n",
       "\n",
       "    .dataframe tbody tr th {\n",
       "        vertical-align: top;\n",
       "    }\n",
       "\n",
       "    .dataframe thead th {\n",
       "        text-align: right;\n",
       "    }\n",
       "</style>\n",
       "<table border=\"1\" class=\"dataframe\">\n",
       "  <thead>\n",
       "    <tr style=\"text-align: right;\">\n",
       "      <th></th>\n",
       "      <th>mean</th>\n",
       "      <th>count</th>\n",
       "      <th>island</th>\n",
       "      <th>sex</th>\n",
       "    </tr>\n",
       "    <tr>\n",
       "      <th>species</th>\n",
       "      <th></th>\n",
       "      <th></th>\n",
       "      <th></th>\n",
       "      <th></th>\n",
       "    </tr>\n",
       "  </thead>\n",
       "  <tbody>\n",
       "    <tr>\n",
       "      <th>Adelie</th>\n",
       "      <td>3700</td>\n",
       "      <td>151</td>\n",
       "      <td>Dream</td>\n",
       "      <td>[Female, Male]</td>\n",
       "    </tr>\n",
       "    <tr>\n",
       "      <th>Chinstrap</th>\n",
       "      <td>3733</td>\n",
       "      <td>68</td>\n",
       "      <td>Dream</td>\n",
       "      <td>[Female, Male]</td>\n",
       "    </tr>\n",
       "    <tr>\n",
       "      <th>Gentoo</th>\n",
       "      <td>5076</td>\n",
       "      <td>123</td>\n",
       "      <td>Biscoe</td>\n",
       "      <td>Male</td>\n",
       "    </tr>\n",
       "  </tbody>\n",
       "</table>\n",
       "</div>"
      ],
      "text/plain": [
       "           mean  count  island             sex\n",
       "species                                       \n",
       "Adelie     3700    151   Dream  [Female, Male]\n",
       "Chinstrap  3733     68   Dream  [Female, Male]\n",
       "Gentoo     5076    123  Biscoe            Male"
      ]
     },
     "execution_count": 12,
     "metadata": {},
     "output_type": "execute_result"
    }
   ],
   "source": [
    "df.groupby(['species']).agg(\n",
    "    mean  = pd.NamedAgg(column='body_mass_g', aggfunc=lambda n: n.mean().astype(int)),\n",
    "    count = pd.NamedAgg(column='body_mass_g', aggfunc='count'),\n",
    "    island = pd.NamedAgg(column='island', aggfunc=lambda n: n.mode()),\n",
    "    sex = pd.NamedAgg(column='sex', aggfunc=lambda n: n.mode()),\n",
    ")"
   ]
  },
  {
   "cell_type": "markdown",
   "id": "7f7d0b93-8a06-407e-b205-44d025f25bc2",
   "metadata": {},
   "source": [
    "#### island"
   ]
  },
  {
   "cell_type": "code",
   "execution_count": 13,
   "id": "fbc5ce84-ed37-4d57-8583-210416ef7972",
   "metadata": {},
   "outputs": [
    {
     "name": "stdout",
     "output_type": "stream",
     "text": [
      "<class 'pandas.core.frame.DataFrame'>\n",
      "RangeIndex: 344 entries, 0 to 343\n",
      "Data columns (total 8 columns):\n",
      " #   Column             Non-Null Count  Dtype  \n",
      "---  ------             --------------  -----  \n",
      " 0   species            344 non-null    object \n",
      " 1   species_n          344 non-null    int64  \n",
      " 2   island             344 non-null    object \n",
      " 3   bill_length_mm     342 non-null    float64\n",
      " 4   bill_depth_mm      342 non-null    float64\n",
      " 5   flipper_length_mm  342 non-null    float64\n",
      " 6   body_mass_g        342 non-null    float64\n",
      " 7   sex                333 non-null    object \n",
      "dtypes: float64(4), int64(1), object(3)\n",
      "memory usage: 21.6+ KB\n"
     ]
    }
   ],
   "source": [
    "df.info()"
   ]
  },
  {
   "cell_type": "code",
   "execution_count": 14,
   "id": "244a4a59-9b48-4f75-9e10-1ad90c5d88c2",
   "metadata": {},
   "outputs": [
    {
     "data": {
      "text/plain": [
       "0"
      ]
     },
     "execution_count": 14,
     "metadata": {},
     "output_type": "execute_result"
    }
   ],
   "source": [
    "df.island.isna().sum()"
   ]
  },
  {
   "cell_type": "code",
   "execution_count": 15,
   "id": "55e5c236-11b6-44e8-9783-2d27a8da700d",
   "metadata": {},
   "outputs": [
    {
     "data": {
      "text/plain": [
       "array(['Torgersen', 'Biscoe', 'Dream'], dtype=object)"
      ]
     },
     "execution_count": 15,
     "metadata": {},
     "output_type": "execute_result"
    }
   ],
   "source": [
    "df.island.unique()"
   ]
  },
  {
   "cell_type": "code",
   "execution_count": 16,
   "id": "c441b98d-3be3-4cde-a8e7-c011afcaf016",
   "metadata": {},
   "outputs": [
    {
     "data": {
      "text/plain": [
       "{'Torgersen': 1, 'Biscoe': 2, 'Dream': 3}"
      ]
     },
     "execution_count": 16,
     "metadata": {},
     "output_type": "execute_result"
    }
   ],
   "source": [
    "map_island = dict(zip(df.island.unique(), range(1, len(df.island.unique())+1)))\n",
    "map_island"
   ]
  },
  {
   "cell_type": "code",
   "execution_count": 17,
   "id": "e3a231f0-3a29-40ee-888b-c7c0d80b3566",
   "metadata": {},
   "outputs": [
    {
     "data": {
      "text/plain": [
       "{1: 'Torgersen', 2: 'Biscoe', 3: 'Dream'}"
      ]
     },
     "execution_count": 17,
     "metadata": {},
     "output_type": "execute_result"
    }
   ],
   "source": [
    "map_island_r = dict([(m,n) for n,m in map_island.items()])\n",
    "map_island_r"
   ]
  },
  {
   "cell_type": "code",
   "execution_count": 18,
   "id": "a9c721b7-edea-4516-892d-ddd3cfcba045",
   "metadata": {},
   "outputs": [],
   "source": [
    "try:\n",
    "    df.insert(3, 'island_n', df.island.map(map_island))\n",
    "except Exception as exception:\n",
    "    print(exception)"
   ]
  },
  {
   "cell_type": "code",
   "execution_count": 19,
   "id": "6beb7eac-342e-42a2-b3f5-e35a05062ddb",
   "metadata": {},
   "outputs": [
    {
     "data": {
      "text/html": [
       "<div>\n",
       "<style scoped>\n",
       "    .dataframe tbody tr th:only-of-type {\n",
       "        vertical-align: middle;\n",
       "    }\n",
       "\n",
       "    .dataframe tbody tr th {\n",
       "        vertical-align: top;\n",
       "    }\n",
       "\n",
       "    .dataframe thead th {\n",
       "        text-align: right;\n",
       "    }\n",
       "</style>\n",
       "<table border=\"1\" class=\"dataframe\">\n",
       "  <thead>\n",
       "    <tr style=\"text-align: right;\">\n",
       "      <th></th>\n",
       "      <th>mean</th>\n",
       "      <th>count</th>\n",
       "      <th>species</th>\n",
       "      <th>species_n</th>\n",
       "      <th>sex</th>\n",
       "    </tr>\n",
       "    <tr>\n",
       "      <th>island</th>\n",
       "      <th></th>\n",
       "      <th></th>\n",
       "      <th></th>\n",
       "      <th></th>\n",
       "      <th></th>\n",
       "    </tr>\n",
       "  </thead>\n",
       "  <tbody>\n",
       "    <tr>\n",
       "      <th>Biscoe</th>\n",
       "      <td>4716</td>\n",
       "      <td>167</td>\n",
       "      <td>Gentoo</td>\n",
       "      <td>3</td>\n",
       "      <td>Male</td>\n",
       "    </tr>\n",
       "    <tr>\n",
       "      <th>Dream</th>\n",
       "      <td>3712</td>\n",
       "      <td>124</td>\n",
       "      <td>Chinstrap</td>\n",
       "      <td>2</td>\n",
       "      <td>Male</td>\n",
       "    </tr>\n",
       "    <tr>\n",
       "      <th>Torgersen</th>\n",
       "      <td>3706</td>\n",
       "      <td>51</td>\n",
       "      <td>Adelie</td>\n",
       "      <td>1</td>\n",
       "      <td>Female</td>\n",
       "    </tr>\n",
       "  </tbody>\n",
       "</table>\n",
       "</div>"
      ],
      "text/plain": [
       "           mean  count    species  species_n     sex\n",
       "island                                              \n",
       "Biscoe     4716    167     Gentoo          3    Male\n",
       "Dream      3712    124  Chinstrap          2    Male\n",
       "Torgersen  3706     51     Adelie          1  Female"
      ]
     },
     "execution_count": 19,
     "metadata": {},
     "output_type": "execute_result"
    }
   ],
   "source": [
    "df.groupby(['island']).agg(\n",
    "    mean  = pd.NamedAgg(column='body_mass_g', aggfunc=lambda n: n.mean().astype(int)),\n",
    "    count = pd.NamedAgg(column='body_mass_g', aggfunc='count'),\n",
    "    species = pd.NamedAgg(column='species', aggfunc=lambda n: n.mode()),\n",
    "    species_n = pd.NamedAgg(column='species_n', aggfunc=lambda n: n.mode()),\n",
    "    sex = pd.NamedAgg(column='sex', aggfunc=lambda n: n.mode()),\n",
    ")"
   ]
  },
  {
   "cell_type": "markdown",
   "id": "25a4cd6e-ab44-44a9-b1df-2965f62feebd",
   "metadata": {},
   "source": [
    "#### sex"
   ]
  },
  {
   "cell_type": "code",
   "execution_count": 20,
   "id": "d1d43adb-2a15-430b-b0fe-0440679965e3",
   "metadata": {},
   "outputs": [
    {
     "name": "stdout",
     "output_type": "stream",
     "text": [
      "<class 'pandas.core.frame.DataFrame'>\n",
      "RangeIndex: 344 entries, 0 to 343\n",
      "Data columns (total 9 columns):\n",
      " #   Column             Non-Null Count  Dtype  \n",
      "---  ------             --------------  -----  \n",
      " 0   species            344 non-null    object \n",
      " 1   species_n          344 non-null    int64  \n",
      " 2   island             344 non-null    object \n",
      " 3   island_n           344 non-null    int64  \n",
      " 4   bill_length_mm     342 non-null    float64\n",
      " 5   bill_depth_mm      342 non-null    float64\n",
      " 6   flipper_length_mm  342 non-null    float64\n",
      " 7   body_mass_g        342 non-null    float64\n",
      " 8   sex                333 non-null    object \n",
      "dtypes: float64(4), int64(2), object(3)\n",
      "memory usage: 24.3+ KB\n"
     ]
    }
   ],
   "source": [
    "df.info()"
   ]
  },
  {
   "cell_type": "code",
   "execution_count": 21,
   "id": "393d54e5-3620-4eb8-a171-3fab305288ac",
   "metadata": {},
   "outputs": [
    {
     "data": {
      "text/plain": [
       "11"
      ]
     },
     "execution_count": 21,
     "metadata": {},
     "output_type": "execute_result"
    }
   ],
   "source": [
    "df.sex.isna().sum()"
   ]
  },
  {
   "cell_type": "code",
   "execution_count": 22,
   "id": "8c4e0a92-5ba3-4591-9a71-3207d1995d59",
   "metadata": {},
   "outputs": [],
   "source": [
    "df = df[~df.sex.isna()]"
   ]
  },
  {
   "cell_type": "code",
   "execution_count": 23,
   "id": "fafb20b2-3f61-4d9f-ae76-dc17cc32c863",
   "metadata": {},
   "outputs": [],
   "source": [
    "df.reset_index(inplace=True, drop=True)"
   ]
  },
  {
   "cell_type": "code",
   "execution_count": 24,
   "id": "70025acd-5345-4585-95ef-03b4921d3946",
   "metadata": {},
   "outputs": [],
   "source": [
    "temp = df.sex\n",
    "df.drop(['sex'], axis=1, inplace=True)\n",
    "df.insert(4, 'sex', temp)"
   ]
  },
  {
   "cell_type": "code",
   "execution_count": 25,
   "id": "cf4aca8a-3980-4e84-a248-910181e5f6dc",
   "metadata": {},
   "outputs": [
    {
     "data": {
      "text/plain": [
       "array(['Male', 'Female'], dtype=object)"
      ]
     },
     "execution_count": 25,
     "metadata": {},
     "output_type": "execute_result"
    }
   ],
   "source": [
    "df.sex.unique()"
   ]
  },
  {
   "cell_type": "code",
   "execution_count": 26,
   "id": "a7778d15-42c1-4349-9792-3874a7ee261f",
   "metadata": {},
   "outputs": [
    {
     "data": {
      "text/plain": [
       "{'Male': 1, 'Female': 2}"
      ]
     },
     "execution_count": 26,
     "metadata": {},
     "output_type": "execute_result"
    }
   ],
   "source": [
    "map_sex = dict(zip(df.sex.unique(), range(1, len(df.sex.unique())+1)))\n",
    "map_sex"
   ]
  },
  {
   "cell_type": "code",
   "execution_count": 27,
   "id": "653afc22-43ed-404b-b9af-f370ee6c1545",
   "metadata": {},
   "outputs": [
    {
     "data": {
      "text/plain": [
       "{1: 'Male', 2: 'Female'}"
      ]
     },
     "execution_count": 27,
     "metadata": {},
     "output_type": "execute_result"
    }
   ],
   "source": [
    "map_sex_r = dict([(m,n) for n,m in map_sex.items()])\n",
    "map_sex_r"
   ]
  },
  {
   "cell_type": "code",
   "execution_count": 28,
   "id": "d88a2d56-9beb-484e-8c36-8147bb9da75d",
   "metadata": {},
   "outputs": [],
   "source": [
    "try:\n",
    "    df.insert(5, 'sex_n', df.sex.map(map_sex))\n",
    "except Exception as exception:\n",
    "    print(exception)"
   ]
  },
  {
   "cell_type": "code",
   "execution_count": 29,
   "id": "a7bda1b1-b0ed-4aa3-b7ac-c7bfb48ba644",
   "metadata": {},
   "outputs": [
    {
     "data": {
      "text/html": [
       "<div>\n",
       "<style scoped>\n",
       "    .dataframe tbody tr th:only-of-type {\n",
       "        vertical-align: middle;\n",
       "    }\n",
       "\n",
       "    .dataframe tbody tr th {\n",
       "        vertical-align: top;\n",
       "    }\n",
       "\n",
       "    .dataframe thead th {\n",
       "        text-align: right;\n",
       "    }\n",
       "</style>\n",
       "<table border=\"1\" class=\"dataframe\">\n",
       "  <thead>\n",
       "    <tr style=\"text-align: right;\">\n",
       "      <th></th>\n",
       "      <th>mean</th>\n",
       "      <th>count</th>\n",
       "      <th>species</th>\n",
       "      <th>species_n</th>\n",
       "      <th>island</th>\n",
       "      <th>island_n</th>\n",
       "    </tr>\n",
       "    <tr>\n",
       "      <th>sex</th>\n",
       "      <th></th>\n",
       "      <th></th>\n",
       "      <th></th>\n",
       "      <th></th>\n",
       "      <th></th>\n",
       "      <th></th>\n",
       "    </tr>\n",
       "  </thead>\n",
       "  <tbody>\n",
       "    <tr>\n",
       "      <th>Female</th>\n",
       "      <td>3862</td>\n",
       "      <td>165</td>\n",
       "      <td>Adelie</td>\n",
       "      <td>1</td>\n",
       "      <td>Biscoe</td>\n",
       "      <td>2</td>\n",
       "    </tr>\n",
       "    <tr>\n",
       "      <th>Male</th>\n",
       "      <td>4545</td>\n",
       "      <td>168</td>\n",
       "      <td>Adelie</td>\n",
       "      <td>1</td>\n",
       "      <td>Biscoe</td>\n",
       "      <td>2</td>\n",
       "    </tr>\n",
       "  </tbody>\n",
       "</table>\n",
       "</div>"
      ],
      "text/plain": [
       "        mean  count species  species_n  island  island_n\n",
       "sex                                                     \n",
       "Female  3862    165  Adelie          1  Biscoe         2\n",
       "Male    4545    168  Adelie          1  Biscoe         2"
      ]
     },
     "execution_count": 29,
     "metadata": {},
     "output_type": "execute_result"
    }
   ],
   "source": [
    "df.groupby(['sex']).agg(\n",
    "    mean  = pd.NamedAgg(column='body_mass_g', aggfunc=lambda n: n.mean().astype(int)),\n",
    "    count = pd.NamedAgg(column='body_mass_g', aggfunc='count'),\n",
    "    species = pd.NamedAgg(column='species', aggfunc=lambda n: n.mode()),\n",
    "    species_n = pd.NamedAgg(column='species_n', aggfunc=lambda n: n.mode()),\n",
    "    island = pd.NamedAgg(column='island', aggfunc=lambda n: n.mode()),\n",
    "    island_n = pd.NamedAgg(column='island_n', aggfunc=lambda n: n.mode()),\n",
    ")"
   ]
  },
  {
   "cell_type": "markdown",
   "id": "d8682c31-8e7b-40ce-9c44-d68e87965ede",
   "metadata": {},
   "source": [
    "### continuous"
   ]
  },
  {
   "cell_type": "code",
   "execution_count": 30,
   "id": "dbb2f8f7-ddd7-4808-88a2-df15b5d26dbb",
   "metadata": {},
   "outputs": [
    {
     "data": {
      "text/html": [
       "<div>\n",
       "<style scoped>\n",
       "    .dataframe tbody tr th:only-of-type {\n",
       "        vertical-align: middle;\n",
       "    }\n",
       "\n",
       "    .dataframe tbody tr th {\n",
       "        vertical-align: top;\n",
       "    }\n",
       "\n",
       "    .dataframe thead th {\n",
       "        text-align: right;\n",
       "    }\n",
       "</style>\n",
       "<table border=\"1\" class=\"dataframe\">\n",
       "  <thead>\n",
       "    <tr style=\"text-align: right;\">\n",
       "      <th></th>\n",
       "      <th>species</th>\n",
       "      <th>species_n</th>\n",
       "      <th>island</th>\n",
       "      <th>island_n</th>\n",
       "      <th>sex</th>\n",
       "      <th>sex_n</th>\n",
       "      <th>bill_length_mm</th>\n",
       "      <th>bill_depth_mm</th>\n",
       "      <th>flipper_length_mm</th>\n",
       "      <th>body_mass_g</th>\n",
       "    </tr>\n",
       "  </thead>\n",
       "  <tbody>\n",
       "    <tr>\n",
       "      <th>0</th>\n",
       "      <td>Adelie</td>\n",
       "      <td>1</td>\n",
       "      <td>Torgersen</td>\n",
       "      <td>1</td>\n",
       "      <td>Male</td>\n",
       "      <td>1</td>\n",
       "      <td>39.1</td>\n",
       "      <td>18.7</td>\n",
       "      <td>181.0</td>\n",
       "      <td>3750.0</td>\n",
       "    </tr>\n",
       "  </tbody>\n",
       "</table>\n",
       "</div>"
      ],
      "text/plain": [
       "  species  species_n     island  island_n   sex  sex_n  bill_length_mm  \\\n",
       "0  Adelie          1  Torgersen         1  Male      1            39.1   \n",
       "\n",
       "   bill_depth_mm  flipper_length_mm  body_mass_g  \n",
       "0           18.7              181.0       3750.0  "
      ]
     },
     "execution_count": 30,
     "metadata": {},
     "output_type": "execute_result"
    }
   ],
   "source": [
    "df.head(1)"
   ]
  },
  {
   "cell_type": "code",
   "execution_count": 31,
   "id": "0b974c7f-96dc-4b9d-8f41-91b38dcee9a9",
   "metadata": {},
   "outputs": [
    {
     "data": {
      "text/plain": [
       "species              0\n",
       "species_n            0\n",
       "island               0\n",
       "island_n             0\n",
       "sex                  0\n",
       "sex_n                0\n",
       "bill_length_mm       0\n",
       "bill_depth_mm        0\n",
       "flipper_length_mm    0\n",
       "body_mass_g          0\n",
       "dtype: int64"
      ]
     },
     "execution_count": 31,
     "metadata": {},
     "output_type": "execute_result"
    }
   ],
   "source": [
    "df.isna().sum()"
   ]
  },
  {
   "cell_type": "markdown",
   "id": "2df57390-eb4d-42ba-9a97-9dbf8957d70d",
   "metadata": {},
   "source": [
    "## Correlation"
   ]
  },
  {
   "cell_type": "code",
   "execution_count": 1,
   "id": "3fffaf45-48e0-4bd3-a4e0-18ba446b532b",
   "metadata": {},
   "outputs": [],
   "source": [
    "def df_correlation (df_test, target, percent=40):\n",
    "    types=['int64', 'float64', 'int32', 'float32', 'int', 'float']\n",
    "    dict_corr = {}\n",
    "    percent = 10 if percent < 10 else percent\n",
    "    df_corr = df_test[list(df_test.select_dtypes(include=types).columns)].corr()\n",
    "    row_index = 0\n",
    "    for row in df_corr.iterrows():\n",
    "        if row[0] in target or len(target) == 0:\n",
    "            col_index = 0\n",
    "            for col in df_corr.columns:\n",
    "                value = df_corr.loc[row[0], col]\n",
    "                if (value > percent/100 or value < -percent/100) and value != 1.0:\n",
    "                    if row_index <= col_index or len(target) != 0:\n",
    "                        sign = '+' if value > 0 else ''\n",
    "                        print(f'{sign}{100*value:.1f}% [{row_index}] {row[0]} to [{col_index}] {col}') # {-math.log10(p_value):.0f}p\n",
    "                        dict_corr[col] = np.abs(np.round(value,4))\n",
    "                col_index += 1\n",
    "        row_index += 1  \n",
    "    dict_corr = dict(sorted(dict_corr.items(), key=lambda item: -item[1]))\n",
    "    features = list(dict_corr.keys())\n",
    "    return features"
   ]
  },
  {
   "cell_type": "code",
   "execution_count": 33,
   "id": "ac643fdb-e9b9-4857-adb1-5c3df1af307e",
   "metadata": {},
   "outputs": [
    {
     "name": "stdout",
     "output_type": "stream",
     "text": [
      "+75.0% [6] body_mass_g to [0] species_n\n",
      "-42.5% [6] body_mass_g to [2] sex_n\n",
      "+58.9% [6] body_mass_g to [3] bill_length_mm\n",
      "-47.2% [6] body_mass_g to [4] bill_depth_mm\n",
      "+87.3% [6] body_mass_g to [5] flipper_length_mm\n"
     ]
    }
   ],
   "source": [
    "features = df_correlation(df, 'body_mass_g')"
   ]
  },
  {
   "cell_type": "code",
   "execution_count": 34,
   "id": "0b994b3a-9c31-4942-a6c8-847e3a49cbd6",
   "metadata": {},
   "outputs": [
    {
     "data": {
      "text/plain": [
       "['flipper_length_mm', 'species_n', 'bill_length_mm', 'bill_depth_mm', 'sex_n']"
      ]
     },
     "execution_count": 34,
     "metadata": {},
     "output_type": "execute_result"
    }
   ],
   "source": [
    "features"
   ]
  },
  {
   "cell_type": "code",
   "execution_count": 35,
   "id": "547a918a-0dfe-4ffd-8d47-109dc940eb73",
   "metadata": {},
   "outputs": [
    {
     "data": {
      "text/plain": [
       "<seaborn.axisgrid.PairGrid at 0x194b3ec1c70>"
      ]
     },
     "execution_count": 35,
     "metadata": {},
     "output_type": "execute_result"
    },
    {
     "data": {
      "image/png": "[encoded data removed]",
      "text/plain": [
       "<Figure size 750x750 with 12 Axes>"
      ]
     },
     "metadata": {},
     "output_type": "display_data"
    }
   ],
   "source": [
    "sns.pairplot(df[['flipper_length_mm', 'bill_length_mm', 'bill_depth_mm']])"
   ]
  },
  {
   "cell_type": "markdown",
   "id": "83f57686-b76e-4bbc-9db9-a4eb03982838",
   "metadata": {},
   "source": [
    "## Model"
   ]
  },
  {
   "cell_type": "markdown",
   "id": "980278d1-6904-41de-b6ff-54d45d1213f0",
   "metadata": {},
   "source": [
    "### Libraries"
   ]
  },
  {
   "cell_type": "code",
   "execution_count": 36,
   "id": "6814ca1b-c576-4276-961f-37e118837b42",
   "metadata": {},
   "outputs": [],
   "source": [
    "from sklearn.model_selection import train_test_split\n",
    "from sklearn.linear_model import LinearRegression\n",
    "from sklearn.metrics import mean_squared_error, r2_score\n",
    "import matplotlib.pyplot as plt\n",
    "#from matplotlib.colors import to_rgba_array\n",
    "from mycolorpy import colorlist as mcp"
   ]
  },
  {
   "cell_type": "markdown",
   "id": "87f071ef-093b-4ec8-9a09-32075dcd6a3f",
   "metadata": {},
   "source": [
    "### Data"
   ]
  },
  {
   "cell_type": "code",
   "execution_count": 37,
   "id": "70088c2b-c3b5-450d-82cd-bf08aae261f2",
   "metadata": {},
   "outputs": [],
   "source": [
    "x_data = df[['flipper_length_mm', 'bill_length_mm', 'species_n']]\n",
    "y_data = df['body_mass_g']"
   ]
  },
  {
   "cell_type": "code",
   "execution_count": 38,
   "id": "7df32c20-4365-4ca7-af96-782159775a75",
   "metadata": {},
   "outputs": [
    {
     "data": {
      "text/html": [
       "<div>\n",
       "<style scoped>\n",
       "    .dataframe tbody tr th:only-of-type {\n",
       "        vertical-align: middle;\n",
       "    }\n",
       "\n",
       "    .dataframe tbody tr th {\n",
       "        vertical-align: top;\n",
       "    }\n",
       "\n",
       "    .dataframe thead th {\n",
       "        text-align: right;\n",
       "    }\n",
       "</style>\n",
       "<table border=\"1\" class=\"dataframe\">\n",
       "  <thead>\n",
       "    <tr style=\"text-align: right;\">\n",
       "      <th></th>\n",
       "      <th>flipper_length_mm</th>\n",
       "      <th>bill_length_mm</th>\n",
       "      <th>species_n</th>\n",
       "      <th>body_mass_g</th>\n",
       "    </tr>\n",
       "  </thead>\n",
       "  <tbody>\n",
       "    <tr>\n",
       "      <th>0</th>\n",
       "      <td>181.0</td>\n",
       "      <td>39.1</td>\n",
       "      <td>1</td>\n",
       "      <td>3750.0</td>\n",
       "    </tr>\n",
       "    <tr>\n",
       "      <th>1</th>\n",
       "      <td>186.0</td>\n",
       "      <td>39.5</td>\n",
       "      <td>1</td>\n",
       "      <td>3800.0</td>\n",
       "    </tr>\n",
       "  </tbody>\n",
       "</table>\n",
       "</div>"
      ],
      "text/plain": [
       "   flipper_length_mm  bill_length_mm  species_n  body_mass_g\n",
       "0              181.0            39.1          1       3750.0\n",
       "1              186.0            39.5          1       3800.0"
      ]
     },
     "execution_count": 38,
     "metadata": {},
     "output_type": "execute_result"
    }
   ],
   "source": [
    "x_data.merge(y_data, how='outer', left_index=True, right_index=True).head(2)"
   ]
  },
  {
   "cell_type": "code",
   "execution_count": 39,
   "id": "af9efe5e-8116-4e4c-928c-e92dba063006",
   "metadata": {},
   "outputs": [
    {
     "data": {
      "text/html": [
       "<div>\n",
       "<style scoped>\n",
       "    .dataframe tbody tr th:only-of-type {\n",
       "        vertical-align: middle;\n",
       "    }\n",
       "\n",
       "    .dataframe tbody tr th {\n",
       "        vertical-align: top;\n",
       "    }\n",
       "\n",
       "    .dataframe thead th {\n",
       "        text-align: right;\n",
       "    }\n",
       "</style>\n",
       "<table border=\"1\" class=\"dataframe\">\n",
       "  <thead>\n",
       "    <tr style=\"text-align: right;\">\n",
       "      <th></th>\n",
       "      <th>flipper_length_mm</th>\n",
       "      <th>bill_length_mm</th>\n",
       "      <th>species_n</th>\n",
       "      <th>body_mass_g</th>\n",
       "    </tr>\n",
       "  </thead>\n",
       "  <tbody>\n",
       "    <tr>\n",
       "      <th>0</th>\n",
       "      <td>181.0</td>\n",
       "      <td>39.1</td>\n",
       "      <td>1</td>\n",
       "      <td>3750.0</td>\n",
       "    </tr>\n",
       "    <tr>\n",
       "      <th>1</th>\n",
       "      <td>186.0</td>\n",
       "      <td>39.5</td>\n",
       "      <td>1</td>\n",
       "      <td>3800.0</td>\n",
       "    </tr>\n",
       "  </tbody>\n",
       "</table>\n",
       "</div>"
      ],
      "text/plain": [
       "   flipper_length_mm  bill_length_mm  species_n  body_mass_g\n",
       "0              181.0            39.1          1       3750.0\n",
       "1              186.0            39.5          1       3800.0"
      ]
     },
     "execution_count": 39,
     "metadata": {},
     "output_type": "execute_result"
    }
   ],
   "source": [
    "x_data.join(y_data, how='outer').head(2)"
   ]
  },
  {
   "cell_type": "code",
   "execution_count": 40,
   "id": "93a932e4-6980-4bf9-81d6-a00e5e1f0087",
   "metadata": {},
   "outputs": [],
   "source": [
    "x_train, x_test, y_train, y_test = train_test_split(x_data, y_data, test_size=0.15)"
   ]
  },
  {
   "cell_type": "code",
   "execution_count": 41,
   "id": "b73239b0-345f-4148-a424-6a5494748b82",
   "metadata": {},
   "outputs": [],
   "source": [
    "model = LinearRegression()"
   ]
  },
  {
   "cell_type": "code",
   "execution_count": 42,
   "id": "09a3349c-4332-43d0-9495-74e109fde5a5",
   "metadata": {},
   "outputs": [],
   "source": [
    "model.fit(x_train, y_train)\n",
    "y_hat = model.predict(x_test)\n",
    "r_squared = model.score(x_test, y_test)\n",
    "mse = mean_squared_error(y_test, y_hat)"
   ]
  },
  {
   "cell_type": "code",
   "execution_count": 43,
   "id": "b45c6ba3-f196-4993-b00d-48b2318c8567",
   "metadata": {},
   "outputs": [
    {
     "name": "stdout",
     "output_type": "stream",
     "text": [
      "r_squared = 85% mse = 98835\n"
     ]
    }
   ],
   "source": [
    "print(f'{r_squared = :.0%} {mse = :.0f}')"
   ]
  },
  {
   "cell_type": "markdown",
   "id": "d09725e8-22e6-40ee-8d87-0d3df6db0556",
   "metadata": {},
   "source": [
    "### Results"
   ]
  },
  {
   "cell_type": "markdown",
   "id": "3ca09e48-b1fa-4d16-9060-bd48c9b54c58",
   "metadata": {},
   "source": [
    "see `05_03_01_Multiple_Linear.ipynb`"
   ]
  },
  {
   "cell_type": "markdown",
   "id": "dfe527cd-1cca-4643-847e-f6e66ea5dbdc",
   "metadata": {},
   "source": [
    "#### Equation"
   ]
  },
  {
   "cell_type": "code",
   "execution_count": 44,
   "id": "ae761a93-082b-4e63-a55d-2cfa735459b8",
   "metadata": {},
   "outputs": [],
   "source": [
    "def df_equation(model, y_name, data):\n",
    "    equation = y_name + ' = '\n",
    "    for c, coef in enumerate(model.coef_):\n",
    "        equation += f'{'+' if coef >= 0 else ''}{coef:.1f}*{data.columns[c]} '\n",
    "    equation += f'{'+' if model.intercept_ >= 0 else ''}{model.intercept_:.1f}'\n",
    "    return equation   "
   ]
  },
  {
   "cell_type": "code",
   "execution_count": 45,
   "id": "0abc51eb-862d-45c4-846c-9f5471f13451",
   "metadata": {},
   "outputs": [
    {
     "name": "stdout",
     "output_type": "stream",
     "text": [
      "body_mass_g = +48.9*flipper_length_mm +5.3*bill_length_mm +5.3*species_n -5859.4\n"
     ]
    }
   ],
   "source": [
    "equation = df_equation(model, y_data.name, x_data)\n",
    "print(equation)"
   ]
  },
  {
   "cell_type": "markdown",
   "id": "14877000-d919-4cbb-8f77-dbad84ea749f",
   "metadata": {},
   "source": [
    "#### Data"
   ]
  },
  {
   "cell_type": "code",
   "execution_count": 46,
   "id": "76e19982-8999-40a9-86d1-0e0227b90e5c",
   "metadata": {},
   "outputs": [
    {
     "name": "stdout",
     "output_type": "stream",
     "text": [
      "<class 'pandas.core.frame.DataFrame'>\n",
      "Index: 50 entries, 96 to 286\n",
      "Data columns (total 3 columns):\n",
      " #   Column             Non-Null Count  Dtype  \n",
      "---  ------             --------------  -----  \n",
      " 0   flipper_length_mm  50 non-null     float64\n",
      " 1   bill_length_mm     50 non-null     float64\n",
      " 2   species_n          50 non-null     int64  \n",
      "dtypes: float64(2), int64(1)\n",
      "memory usage: 1.6 KB\n"
     ]
    }
   ],
   "source": [
    "x_test.info()"
   ]
  },
  {
   "cell_type": "code",
   "execution_count": 47,
   "id": "9ecf7971-ccd4-4f1f-b450-bac91995d616",
   "metadata": {},
   "outputs": [
    {
     "data": {
      "text/plain": [
       "((50, 3), (50,), (50,))"
      ]
     },
     "execution_count": 47,
     "metadata": {},
     "output_type": "execute_result"
    }
   ],
   "source": [
    "x_test.shape, y_test.shape, y_hat.shape"
   ]
  },
  {
   "cell_type": "code",
   "execution_count": 48,
   "id": "64f553e8-c557-4356-a250-1f45465ef923",
   "metadata": {},
   "outputs": [],
   "source": [
    "df_test = x_test[:]\n",
    "df_test.insert(3, 'body_mass_g', np.round(y_test,1))\n",
    "df_test.insert(4, 'prediction',  np.round(y_hat,1))\n",
    "df_test.insert(5, 'residual',    np.round((df_test.prediction - df_test.body_mass_g),1))"
   ]
  },
  {
   "cell_type": "code",
   "execution_count": 49,
   "id": "0f753495-ef81-42fb-9cb0-732b0931fa93",
   "metadata": {},
   "outputs": [
    {
     "data": {
      "text/html": [
       "<div>\n",
       "<style scoped>\n",
       "    .dataframe tbody tr th:only-of-type {\n",
       "        vertical-align: middle;\n",
       "    }\n",
       "\n",
       "    .dataframe tbody tr th {\n",
       "        vertical-align: top;\n",
       "    }\n",
       "\n",
       "    .dataframe thead th {\n",
       "        text-align: right;\n",
       "    }\n",
       "</style>\n",
       "<table border=\"1\" class=\"dataframe\">\n",
       "  <thead>\n",
       "    <tr style=\"text-align: right;\">\n",
       "      <th></th>\n",
       "      <th>flipper_length_mm</th>\n",
       "      <th>bill_length_mm</th>\n",
       "      <th>species_n</th>\n",
       "      <th>body_mass_g</th>\n",
       "      <th>prediction</th>\n",
       "      <th>residual</th>\n",
       "    </tr>\n",
       "  </thead>\n",
       "  <tbody>\n",
       "    <tr>\n",
       "      <th>96</th>\n",
       "      <td>183.0</td>\n",
       "      <td>37.7</td>\n",
       "      <td>1</td>\n",
       "      <td>3075.0</td>\n",
       "      <td>3299.9</td>\n",
       "      <td>224.9</td>\n",
       "    </tr>\n",
       "    <tr>\n",
       "      <th>194</th>\n",
       "      <td>187.0</td>\n",
       "      <td>51.5</td>\n",
       "      <td>2</td>\n",
       "      <td>3250.0</td>\n",
       "      <td>3574.6</td>\n",
       "      <td>324.6</td>\n",
       "    </tr>\n",
       "  </tbody>\n",
       "</table>\n",
       "</div>"
      ],
      "text/plain": [
       "     flipper_length_mm  bill_length_mm  species_n  body_mass_g  prediction  \\\n",
       "96               183.0            37.7          1       3075.0      3299.9   \n",
       "194              187.0            51.5          2       3250.0      3574.6   \n",
       "\n",
       "     residual  \n",
       "96      224.9  \n",
       "194     324.6  "
      ]
     },
     "execution_count": 49,
     "metadata": {},
     "output_type": "execute_result"
    }
   ],
   "source": [
    "df_test.head(2)"
   ]
  },
  {
   "cell_type": "markdown",
   "id": "bdbfec7c-9d99-4280-9cb1-0dc52ed7e5f7",
   "metadata": {},
   "source": [
    "#### Plot"
   ]
  },
  {
   "cell_type": "code",
   "execution_count": 68,
   "id": "93983872-90ad-49b7-9eec-d22f29f7a20d",
   "metadata": {},
   "outputs": [
    {
     "data": {
      "image/png": "[encoded data removed]",
      "text/plain": [
       "<Figure size 640x480 with 1 Axes>"
      ]
     },
     "metadata": {},
     "output_type": "display_data"
    }
   ],
   "source": [
    "species_color_map = dict(zip(df_test.species_n.unique(),\n",
    "                             mcp.gen_color(cmap = 'hot', \n",
    "                                           n = len(df_test.species_n.unique()))))\n",
    "plt.style.use('dark_background') \n",
    "#plt.figure(figsize=plt.figaspect(0.5))\n",
    "fig, ax = plt.subplots(nrows=1, ncols=1, subplot_kw=dict(projection=\"3d\"))\n",
    "fig.suptitle('Penguin Mass:\\nby Bill, Flipper,\\nand Species')\n",
    "\n",
    "# Data Sliced and Plotted (by Species)\n",
    "for n, species_n in enumerate(df_test.species_n.unique()):\n",
    "    \n",
    "        # body mass data (circles)\n",
    "        df_species = df_test[df_test.species_n==species_n]\n",
    "        xs = df_species.flipper_length_mm \n",
    "        ys = df_species.bill_length_mm    \n",
    "        zs = df_species.body_mass_g        \n",
    "        ax.scatter(xs, ys, zs, marker='o', color=species_color_map[species_n])\n",
    "        \n",
    "        # prediction (triangles)\n",
    "        df_species = df_test[df_test.species_n==species_n]\n",
    "        xs = df_species.flipper_length_mm \n",
    "        ys = df_species.bill_length_mm    \n",
    "        zs = df_species.prediction          \n",
    "        ax.scatter(xs, ys, zs, marker='^', color=species_color_map[species_n])\n",
    "    \n",
    "        # equation plane\n",
    "        ##  body_mass_g = 48.3*flipper_length_mm + 7.0*bill_length_mm + 4.8*species_n - 5824.2\n",
    "        xx, yy = np.meshgrid(range(155,245,6), range(30,75,3))\n",
    "        zz =  48*xx + 7*yy + 5*species_n - 5824\n",
    "        ax.plot_surface(xx, yy, zz, \n",
    "                        color='white', #species_color_map[species_n], \n",
    "                        alpha=0.12)\n",
    "\n",
    "        # other plot params\n",
    "        ax.set_box_aspect(aspect=None, zoom=0.8)\n",
    "        ax.tick_params(axis='both', which='major', labelsize=6)\n",
    "        ax.set_title('')\n",
    "        ax.set_xlabel('flipper [mm]', fontsize=9)\n",
    "        ax.set_ylabel('bill [mm]', fontsize=9)\n",
    "        ax.set_zlabel('   mass [g]', fontsize=9)\n",
    "\n",
    "plt.show()"
   ]
  }
 ],
 "metadata": {
  "kernelspec": {
   "display_name": "Python 3 (ipykernel)",
   "language": "python",
   "name": "python3"
  },
  "language_info": {
   "codemirror_mode": {
    "name": "ipython",
    "version": 3
   },
   "file_extension": ".py",
   "mimetype": "text/x-python",
   "name": "python",
   "nbconvert_exporter": "python",
   "pygments_lexer": "ipython3",
   "version": "3.12.4"
  }
 },
 "nbformat": 4,
 "nbformat_minor": 5
}
