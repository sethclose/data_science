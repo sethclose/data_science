{
 "cells": [
  {
   "cell_type": "markdown",
   "id": "2d776b9b-855a-4d24-bb3b-c3788c9d7c6c",
   "metadata": {},
   "source": [
    "# Data Science Tools and Ecosystem"
   ]
  },
  {
   "cell_type": "markdown",
   "id": "79ded31f-4068-451e-b610-454cda6c7489",
   "metadata": {},
   "source": [
    "## Summary of Data Science Tools and Ecosystem"
   ]
  },
  {
   "cell_type": "markdown",
   "id": "813d6093-6af1-4f02-a8ce-d7aba20e4c50",
   "metadata": {},
   "source": [
    "### Popular Data Science Languages:\n",
    "\n",
    "1. Python\n",
    "2. SQL\n",
    "3. R\n",
    "4. Java\n",
    "5. JavaScript\n",
    "6. Scala\n",
    "7. Julia\n",
    "8. Matlab"
   ]
  },
  {
   "cell_type": "markdown",
   "id": "092cd30f-c95a-4e56-acbc-5753735aa642",
   "metadata": {},
   "source": [
    "### Commonly Used Data Science Libraries:\n",
    "\n",
    "1. Pandas\n",
    "2. Matplotlib\n",
    "3. GGPlot\n",
    "4. Scikit-learn\n",
    "5. Caret\n",
    "6. Stringr\n",
    "7. NumPy\n",
    "8. SciPy\n",
    "9. PyTorch\n",
    "10. Scrapy"
   ]
  },
  {
   "cell_type": "markdown",
   "id": "0ad2a83d-98c8-4160-9122-924e531ad553",
   "metadata": {},
   "source": [
    "| Data Science Tools |\n",
    "| ----------- |\n",
    "| Jupyter |\n",
    "| R Studio |\n",
    "| Apache Spark |"
   ]
  },
  {
   "cell_type": "markdown",
   "id": "7d34dbef-76a4-42d1-abc9-457ae05665d9",
   "metadata": {},
   "source": [
    "### Examples of Evaluating Arithmetic Expressions in Python"
   ]
  },
  {
   "cell_type": "code",
   "execution_count": 10,
   "id": "c99e17c5-40ee-4524-ba5c-e3675255521d",
   "metadata": {},
   "outputs": [
    {
     "data": {
      "text/plain": [
       "17"
      ]
     },
     "execution_count": 10,
     "metadata": {},
     "output_type": "execute_result"
    }
   ],
   "source": [
    "# Basic Arithmetic Expression evaluated in Python:  \n",
    "(3 * 4) + 5"
   ]
  },
  {
   "cell_type": "code",
   "execution_count": 8,
   "id": "cb1015af-b7bb-408b-ab97-3f4cdf054c94",
   "metadata": {},
   "outputs": [
    {
     "name": "stdout",
     "output_type": "stream",
     "text": [
      "200 minutes is around 3.3 hours.\n"
     ]
    }
   ],
   "source": [
    "# This will convert 200 minutes to hours by dividing by 60.\n",
    "minutes = 200\n",
    "hours = minutes / 60\n",
    "print(f\"{minutes} minutes is around {round(hours,1)} hours.\")"
   ]
  },
  {
   "attachments": {},
   "cell_type": "markdown",
   "id": "bad4f6c6-c226-4ab9-a33a-275813410187",
   "metadata": {},
   "source": [
    "**Objectives:**\n",
    "\n",
    "- List popular data science languages\n",
    "- List common data science libraries\n",
    "- List a few data science tools\n",
    "- Show some simple, executed python code"
   ]
  },
  {
   "cell_type": "markdown",
   "id": "ca5e3769-fb15-4867-b549-a12ff056a31d",
   "metadata": {},
   "source": [
    "## Author\n",
    "Seth Close"
   ]
  },
  {
   "cell_type": "code",
   "execution_count": null,
   "id": "90eb63e8-da65-41e3-9707-1f6f690fca3c",
   "metadata": {},
   "outputs": [],
   "source": []
  }
 ],
 "metadata": {
  "kernelspec": {
   "display_name": "Python 3 (ipykernel)",
   "language": "python",
   "name": "python3"
  },
  "language_info": {
   "codemirror_mode": {
    "name": "ipython",
    "version": 3
   },
   "file_extension": ".py",
   "mimetype": "text/x-python",
   "name": "python",
   "nbconvert_exporter": "python",
   "pygments_lexer": "ipython3",
   "version": "3.9.2"
  }
 },
 "nbformat": 4,
 "nbformat_minor": 5
}
