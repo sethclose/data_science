{
 "cells": [
  {
   "cell_type": "markdown",
   "id": "beaac298-0771-49d5-aee3-b64ce44a005e",
   "metadata": {},
   "source": [
    "## **API Joke**"
   ]
  },
  {
   "cell_type": "markdown",
   "id": "a68d5bc2-29dc-43b0-94cc-0950f6909edb",
   "metadata": {},
   "source": [
    "#### 01 Januray 2024"
   ]
  },
  {
   "cell_type": "markdown",
   "id": "8d1551fd-baa8-460f-ae18-7633e891e37d",
   "metadata": {},
   "source": [
    "#### Seth Close"
   ]
  },
  {
   "cell_type": "markdown",
   "id": "059fce8c-08e6-4078-aab3-5856928a5731",
   "metadata": {},
   "source": [
    "### **Joke**"
   ]
  },
  {
   "cell_type": "code",
   "execution_count": 2,
   "id": "15aabf42-8d51-4a96-aaef-9d9fe0538f48",
   "metadata": {},
   "outputs": [],
   "source": [
    "import requests\n",
    "import json\n",
    "import pandas as pd"
   ]
  },
  {
   "cell_type": "code",
   "execution_count": 3,
   "id": "cf6fdb08-b401-4bf8-ad16-d673097a4039",
   "metadata": {},
   "outputs": [],
   "source": [
    "data = requests.get(\"https://official-joke-api.appspot.com/jokes/ten\")"
   ]
  },
  {
   "cell_type": "code",
   "execution_count": 4,
   "id": "4c1f2710-2b2a-4823-a150-fa901ef81d65",
   "metadata": {},
   "outputs": [],
   "source": [
    "results = json.loads(data.text)"
   ]
  },
  {
   "cell_type": "code",
   "execution_count": 5,
   "id": "aefcbc6d-fc84-40af-ba6a-7c11c3d99465",
   "metadata": {},
   "outputs": [],
   "source": [
    "df_jokes = pd.DataFrame(results)"
   ]
  },
  {
   "cell_type": "code",
   "execution_count": 6,
   "id": "04513965-6c92-4908-8ddf-125cf9dfc51f",
   "metadata": {},
   "outputs": [
    {
     "data": {
      "text/html": [
       "<div>\n",
       "<style scoped>\n",
       "    .dataframe tbody tr th:only-of-type {\n",
       "        vertical-align: middle;\n",
       "    }\n",
       "\n",
       "    .dataframe tbody tr th {\n",
       "        vertical-align: top;\n",
       "    }\n",
       "\n",
       "    .dataframe thead th {\n",
       "        text-align: right;\n",
       "    }\n",
       "</style>\n",
       "<table border=\"1\" class=\"dataframe\">\n",
       "  <thead>\n",
       "    <tr style=\"text-align: right;\">\n",
       "      <th></th>\n",
       "      <th>type</th>\n",
       "      <th>setup</th>\n",
       "      <th>punchline</th>\n",
       "      <th>id</th>\n",
       "    </tr>\n",
       "  </thead>\n",
       "  <tbody>\n",
       "    <tr>\n",
       "      <th>0</th>\n",
       "      <td>general</td>\n",
       "      <td>What did the judge say to the dentist?</td>\n",
       "      <td>Do you swear to pull the tooth, the whole toot...</td>\n",
       "      <td>176</td>\n",
       "    </tr>\n",
       "    <tr>\n",
       "      <th>1</th>\n",
       "      <td>general</td>\n",
       "      <td>What is the tallest building in the world?</td>\n",
       "      <td>The library, it’s got the most stories!</td>\n",
       "      <td>253</td>\n",
       "    </tr>\n",
       "    <tr>\n",
       "      <th>2</th>\n",
       "      <td>general</td>\n",
       "      <td>Why did the butcher work extra hours at the shop?</td>\n",
       "      <td>To make ends meat.</td>\n",
       "      <td>63</td>\n",
       "    </tr>\n",
       "    <tr>\n",
       "      <th>3</th>\n",
       "      <td>general</td>\n",
       "      <td>What did the digital clock say to the grandfat...</td>\n",
       "      <td>Look, no hands!</td>\n",
       "      <td>171</td>\n",
       "    </tr>\n",
       "    <tr>\n",
       "      <th>4</th>\n",
       "      <td>general</td>\n",
       "      <td>How do you get two whales in a car?</td>\n",
       "      <td>Start in England and drive West.</td>\n",
       "      <td>126</td>\n",
       "    </tr>\n",
       "  </tbody>\n",
       "</table>\n",
       "</div>"
      ],
      "text/plain": [
       "      type                                              setup  \\\n",
       "0  general             What did the judge say to the dentist?   \n",
       "1  general         What is the tallest building in the world?   \n",
       "2  general  Why did the butcher work extra hours at the shop?   \n",
       "3  general  What did the digital clock say to the grandfat...   \n",
       "4  general                How do you get two whales in a car?   \n",
       "\n",
       "                                           punchline   id  \n",
       "0  Do you swear to pull the tooth, the whole toot...  176  \n",
       "1            The library, it’s got the most stories!  253  \n",
       "2                                 To make ends meat.   63  \n",
       "3                                    Look, no hands!  171  \n",
       "4                   Start in England and drive West.  126  "
      ]
     },
     "execution_count": 6,
     "metadata": {},
     "output_type": "execute_result"
    }
   ],
   "source": [
    "df_jokes.loc[0:4][:]"
   ]
  },
  {
   "cell_type": "code",
   "execution_count": 12,
   "id": "c9d2894b-3912-4d07-86b0-211b5c14a078",
   "metadata": {},
   "outputs": [
    {
     "name": "stdin",
     "output_type": "stream",
     "text": [
      "What did the judge say to the dentist? \n"
     ]
    },
    {
     "name": "stdout",
     "output_type": "stream",
     "text": [
      "!?!?  Do you swear to pull the tooth, the whole tooth and nothing but the tooth?\n"
     ]
    },
    {
     "name": "stdin",
     "output_type": "stream",
     "text": [
      "What is the tallest building in the world? \n"
     ]
    },
    {
     "name": "stdout",
     "output_type": "stream",
     "text": [
      "!?!?  The library, it’s got the most stories!\n"
     ]
    },
    {
     "name": "stdin",
     "output_type": "stream",
     "text": [
      "Why did the butcher work extra hours at the shop? \n"
     ]
    },
    {
     "name": "stdout",
     "output_type": "stream",
     "text": [
      "!?!?  To make ends meat.\n"
     ]
    }
   ],
   "source": [
    "for i in range(3):\n",
    "    response = input(df_jokes.iloc[i]['setup'])\n",
    "    print(response.upper() + \"!?!?  \" + df_jokes.iloc[i]['punchline'])"
   ]
  }
 ],
 "metadata": {
  "kernelspec": {
   "display_name": "Python 3 (ipykernel)",
   "language": "python",
   "name": "python3"
  },
  "language_info": {
   "codemirror_mode": {
    "name": "ipython",
    "version": 3
   },
   "file_extension": ".py",
   "mimetype": "text/x-python",
   "name": "python",
   "nbconvert_exporter": "python",
   "pygments_lexer": "ipython3",
   "version": "3.9.2"
  }
 },
 "nbformat": 4,
 "nbformat_minor": 5
}
