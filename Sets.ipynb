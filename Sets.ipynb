{
 "cells": [
  {
   "cell_type": "markdown",
   "id": "0a906f34-fc0d-4859-beec-286359e0967b",
   "metadata": {},
   "source": [
    "# **Sets**"
   ]
  },
  {
   "cell_type": "markdown",
   "id": "ed1fca4e-4bdd-4623-908a-4f0168866e09",
   "metadata": {},
   "source": [
    "### Keyless Dictionaries with No Duplicates"
   ]
  },
  {
   "cell_type": "markdown",
   "id": "8eb2e2ce-a41d-49ff-874f-eeb8951da44e",
   "metadata": {},
   "source": [
    "#### Author:  Seth Close"
   ]
  },
  {
   "cell_type": "markdown",
   "id": "342e6d2c-91a8-4186-8e87-3f768f5018ef",
   "metadata": {},
   "source": [
    "#### 30 DEC 2023"
   ]
  },
  {
   "cell_type": "markdown",
   "id": "c05b48bc-d1ff-4af3-a149-d086db9444ae",
   "metadata": {},
   "source": [
    "| Function | Description |\n",
    "| ----------- | ----------- |\n",
    "| set(list) | returns set of non-duplicates in list |\n",
    "| .add() | appends arg value to end of set |\n",
    "| .update() | appends arg set to end of set |\n",
    "| .copy() | makes a copy/clone of set (no arg) |\n",
    "| .pop() | removes and returns first element (no arg) |\n",
    "| .remove() | removes arg value from set if it exists, else error |\n",
    "| .discard() | removes arg value from set if it exists |"
   ]
  },
  {
   "cell_type": "code",
   "execution_count": 22,
   "id": "3adac947-772c-4895-98ca-f78dc0537a78",
   "metadata": {},
   "outputs": [
    {
     "name": "stdout",
     "output_type": "stream",
     "text": [
      "<class 'list'> = [0, 1, 2, 3, 3, 2, 3, 4, 3, 6]\n"
     ]
    }
   ],
   "source": [
    "nums = [0, 1, 2, 3, 3, 2, 3, 4, 3, 6]\n",
    "numbers = set(nums.copy()) # Make a copy of the nums list into a set\n",
    "print(f'{type(nums)} = {nums}') # Show the original list"
   ]
  },
  {
   "cell_type": "code",
   "execution_count": 23,
   "id": "7c5aa116-b068-4470-82b3-58b916866e45",
   "metadata": {},
   "outputs": [
    {
     "name": "stdout",
     "output_type": "stream",
     "text": [
      "<class 'set'> = {0, 1, 2, 3, 4, 6}\n"
     ]
    }
   ],
   "source": [
    "print(f'{type(numbers)} = {numbers}') # Show the new set"
   ]
  },
  {
   "cell_type": "code",
   "execution_count": 24,
   "id": "09a51b3a-88d4-40ac-b028-f09bba50f5b3",
   "metadata": {},
   "outputs": [
    {
     "name": "stdout",
     "output_type": "stream",
     "text": [
      "0\n"
     ]
    }
   ],
   "source": [
    "print(numbers.pop())"
   ]
  },
  {
   "cell_type": "code",
   "execution_count": 25,
   "id": "181bfd7a-90b3-4e32-83dc-c20532adb77b",
   "metadata": {},
   "outputs": [
    {
     "data": {
      "text/plain": [
       "{1, 2, 3, 4, 6}"
      ]
     },
     "execution_count": 25,
     "metadata": {},
     "output_type": "execute_result"
    }
   ],
   "source": [
    "numbers"
   ]
  },
  {
   "cell_type": "code",
   "execution_count": 26,
   "id": "8368b3e7-cab2-4e3e-9d47-bc6efa686ea1",
   "metadata": {},
   "outputs": [
    {
     "data": {
      "text/plain": [
       "{1, 2, 3, 4, 6}"
      ]
     },
     "execution_count": 26,
     "metadata": {},
     "output_type": "execute_result"
    }
   ],
   "source": [
    "numbers.discard(7)\n",
    "numbers"
   ]
  },
  {
   "cell_type": "code",
   "execution_count": 27,
   "id": "f08c7dc1-d2af-4cea-83b2-12006bca3851",
   "metadata": {},
   "outputs": [
    {
     "data": {
      "text/plain": [
       "{1, 2, 3, 4}"
      ]
     },
     "execution_count": 27,
     "metadata": {},
     "output_type": "execute_result"
    }
   ],
   "source": [
    "numbers.remove(6)\n",
    "numbers"
   ]
  },
  {
   "cell_type": "code",
   "execution_count": 28,
   "id": "b5b76b27-058f-490b-b1ef-7537775dcb98",
   "metadata": {},
   "outputs": [
    {
     "data": {
      "text/plain": [
       "{1, 2, 3, 4, 5}"
      ]
     },
     "execution_count": 28,
     "metadata": {},
     "output_type": "execute_result"
    }
   ],
   "source": [
    "numbers.add(5)\n",
    "numbers"
   ]
  },
  {
   "cell_type": "code",
   "execution_count": 29,
   "id": "7cd7c64c-29e7-47be-9c6f-0c5aecb069a8",
   "metadata": {},
   "outputs": [
    {
     "data": {
      "text/plain": [
       "{1, 2, 3, 4, 5, 6, 7}"
      ]
     },
     "execution_count": 29,
     "metadata": {},
     "output_type": "execute_result"
    }
   ],
   "source": [
    "numbers.update(set({6,7}))\n",
    "numbers"
   ]
  },
  {
   "cell_type": "markdown",
   "id": "6b1089e8-f4d1-4d7d-8f39-fecdf409bfd0",
   "metadata": {},
   "source": [
    "| Function | Description |\n",
    "| ----------- | ----------- |\n",
    "| .intersection() | common elements (also done with &) |\n",
    "| .union() | combined elements (also done with \\|) |\n",
    "| .issubset() | contained within (also done with in) |\n",
    "| .issuperset() | contains |\n",
    "| .isdisjoint() | contains no common elements |\n",
    "| .difference() | |\n",
    "| .symmetricdifference() | |"
   ]
  },
  {
   "cell_type": "code",
   "execution_count": 30,
   "id": "d2673033-3aa9-48d7-a54d-c8e304f7327a",
   "metadata": {},
   "outputs": [
    {
     "data": {
      "text/plain": [
       "{1, 2, 3, 4, 5, 6, 7, 8}"
      ]
     },
     "execution_count": 30,
     "metadata": {},
     "output_type": "execute_result"
    }
   ],
   "source": [
    "numbers.add(8)\n",
    "numbers"
   ]
  },
  {
   "cell_type": "code",
   "execution_count": 31,
   "id": "fe4bbbaf-4c81-498e-b228-e762d200089e",
   "metadata": {},
   "outputs": [
    {
     "data": {
      "text/plain": [
       "{2, 4, 6, 8}"
      ]
     },
     "execution_count": 31,
     "metadata": {},
     "output_type": "execute_result"
    }
   ],
   "source": [
    "others = {2, 4, 6, 8}\n",
    "others"
   ]
  },
  {
   "cell_type": "code",
   "execution_count": 32,
   "id": "ad507eac-09ed-46b1-9696-c2971be17aa4",
   "metadata": {},
   "outputs": [
    {
     "name": "stdout",
     "output_type": "stream",
     "text": [
      "{1, 2, 3, 4, 5, 6, 7, 8} == {1, 2, 3, 4, 5, 6, 7, 8}? True\n"
     ]
    }
   ],
   "source": [
    "numbers.union(others) == numbers | others # In numbers or others\n",
    "print(f'{numbers.union(others)} == {numbers | others}? {numbers.union(others) == numbers | others}')"
   ]
  },
  {
   "cell_type": "code",
   "execution_count": 33,
   "id": "68b3bab8-094a-49a0-8cd6-cb234748ae29",
   "metadata": {},
   "outputs": [
    {
     "name": "stdout",
     "output_type": "stream",
     "text": [
      "{8, 2, 4, 6} == {8, 2, 4, 6}? True\n"
     ]
    }
   ],
   "source": [
    "numbers.intersection(others) == numbers & others # In numbers or others\n",
    "print(f'{numbers.intersection(others)} == {numbers & others}? {numbers.intersection(others) == numbers & others}')"
   ]
  },
  {
   "cell_type": "code",
   "execution_count": 34,
   "id": "bf364e6c-eaed-4f24-97d5-dbc60aff0018",
   "metadata": {},
   "outputs": [
    {
     "data": {
      "text/plain": [
       "True"
      ]
     },
     "execution_count": 34,
     "metadata": {},
     "output_type": "execute_result"
    }
   ],
   "source": [
    "others.issubset(numbers)"
   ]
  },
  {
   "cell_type": "code",
   "execution_count": 35,
   "id": "6bacc730-d348-448e-93b7-d2dcbc2f9587",
   "metadata": {},
   "outputs": [
    {
     "data": {
      "text/plain": [
       "True"
      ]
     },
     "execution_count": 35,
     "metadata": {},
     "output_type": "execute_result"
    }
   ],
   "source": [
    "numbers.issuperset(others)"
   ]
  },
  {
   "cell_type": "code",
   "execution_count": 36,
   "id": "c8811d45-390d-4763-8691-305b2bf43191",
   "metadata": {},
   "outputs": [
    {
     "data": {
      "text/plain": [
       "False"
      ]
     },
     "execution_count": 36,
     "metadata": {},
     "output_type": "execute_result"
    }
   ],
   "source": [
    "numbers.isdisjoint(others)"
   ]
  },
  {
   "cell_type": "code",
   "execution_count": 37,
   "id": "10ba905e-4408-4f13-8ddd-5060c0f3c314",
   "metadata": {},
   "outputs": [
    {
     "data": {
      "text/plain": [
       "{1, 3, 5, 7}"
      ]
     },
     "execution_count": 37,
     "metadata": {},
     "output_type": "execute_result"
    }
   ],
   "source": [
    "numbers.difference(others)    # Same as numbers - others"
   ]
  },
  {
   "cell_type": "code",
   "execution_count": 38,
   "id": "edf5d8ef-4b64-46e2-a5c2-044bc3799888",
   "metadata": {},
   "outputs": [
    {
     "data": {
      "text/plain": [
       "set()"
      ]
     },
     "execution_count": 38,
     "metadata": {},
     "output_type": "execute_result"
    }
   ],
   "source": [
    "others.difference(numbers)   # others - numbers"
   ]
  },
  {
   "cell_type": "code",
   "execution_count": 39,
   "id": "ecd04727-8397-4df2-a34d-0e75a88ed0ca",
   "metadata": {},
   "outputs": [
    {
     "data": {
      "text/plain": [
       "{2, 4, 6, 8, 10, 12, 14}"
      ]
     },
     "execution_count": 39,
     "metadata": {},
     "output_type": "execute_result"
    }
   ],
   "source": [
    "others.update({10,12,14})\n",
    "others"
   ]
  },
  {
   "cell_type": "code",
   "execution_count": 40,
   "id": "1df5f75b-fb84-4ad0-b7f2-ad98a1964062",
   "metadata": {},
   "outputs": [
    {
     "data": {
      "text/plain": [
       "{1, 3, 5, 7, 10, 12, 14}"
      ]
     },
     "execution_count": 40,
     "metadata": {},
     "output_type": "execute_result"
    }
   ],
   "source": [
    "numbers.symmetric_difference(others)"
   ]
  },
  {
   "cell_type": "code",
   "execution_count": 41,
   "id": "e33cb514-afa6-4483-9735-cf824f978add",
   "metadata": {},
   "outputs": [
    {
     "data": {
      "text/plain": [
       "{1, 3, 5, 7, 10, 12, 14}"
      ]
     },
     "execution_count": 41,
     "metadata": {},
     "output_type": "execute_result"
    }
   ],
   "source": [
    "numbers.union(others) - numbers.intersection(others)"
   ]
  }
 ],
 "metadata": {
  "kernelspec": {
   "display_name": "Python 3 (ipykernel)",
   "language": "python",
   "name": "python3"
  },
  "language_info": {
   "codemirror_mode": {
    "name": "ipython",
    "version": 3
   },
   "file_extension": ".py",
   "mimetype": "text/x-python",
   "name": "python",
   "nbconvert_exporter": "python",
   "pygments_lexer": "ipython3",
   "version": "3.9.2"
  }
 },
 "nbformat": 4,
 "nbformat_minor": 5
}
