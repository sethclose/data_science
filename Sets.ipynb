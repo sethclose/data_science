{
 "cells": [
  {
   "cell_type": "markdown",
   "id": "0a906f34-fc0d-4859-beec-286359e0967b",
   "metadata": {},
   "source": [
    "# **Sets**"
   ]
  },
  {
   "cell_type": "markdown",
   "id": "ed1fca4e-4bdd-4623-908a-4f0168866e09",
   "metadata": {},
   "source": [
    "### Keyless Dictionaries with No Duplicates"
   ]
  },
  {
   "cell_type": "markdown",
   "id": "8eb2e2ce-a41d-49ff-874f-eeb8951da44e",
   "metadata": {},
   "source": [
    "#### Author:  Seth Close"
   ]
  },
  {
   "cell_type": "markdown",
   "id": "342e6d2c-91a8-4186-8e87-3f768f5018ef",
   "metadata": {},
   "source": [
    "#### 30 DEC 2023"
   ]
  },
  {
   "cell_type": "markdown",
   "id": "c05b48bc-d1ff-4af3-a149-d086db9444ae",
   "metadata": {},
   "source": [
    "| Function | Description |\n",
    "| ----------- | ----------- |\n",
    "| set() |  returns a set from a list or tuple |\n",
    "| .add() | adds an item to the set |\n",
    "| .clear() | removes all elements |\n",
    "| .copy() | copies set |\n",
    "| .discard() ||\n",
    "| .pop() ||\n",
    "| .remove() ||\n",
    "| .update() ||\n",
    "| .intersection() | common elements (also done with &) |\n",
    "| .union() | combined elements (alson done with |) |\n",
    "| .issubset() | contained within (also done with in) |\n",
    "| .issuperset() | contains |\n",
    "| .isdisjoint() | contains no common elements |\n",
    "| .difference() | |\n",
    "| .symmetricdifference() | |"
   ]
  }
 ],
 "metadata": {
  "kernelspec": {
   "display_name": "Python 3 (ipykernel)",
   "language": "python",
   "name": "python3"
  },
  "language_info": {
   "codemirror_mode": {
    "name": "ipython",
    "version": 3
   },
   "file_extension": ".py",
   "mimetype": "text/x-python",
   "name": "python",
   "nbconvert_exporter": "python",
   "pygments_lexer": "ipython3",
   "version": "3.9.2"
  }
 },
 "nbformat": 4,
 "nbformat_minor": 5
}
