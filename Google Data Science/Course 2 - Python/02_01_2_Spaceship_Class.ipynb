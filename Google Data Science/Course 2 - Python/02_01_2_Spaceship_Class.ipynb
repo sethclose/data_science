{
 "cells": [
  {
   "cell_type": "code",
   "execution_count": 1,
   "id": "38e0dc77-bfe1-46ee-bb54-a472374e2570",
   "metadata": {},
   "outputs": [],
   "source": [
    "class Spaceship:\n",
    "   # Class attribute\n",
    "   tractor_beam = 'off'\n",
    "\n",
    "   # Instance attributes\n",
    "   def __init__(self, name, kind):\n",
    "       self.name = name\n",
    "       self.kind = kind\n",
    "       self.speed = None\n",
    "\n",
    "  # Instance methods\n",
    "   def warp(self, warp):\n",
    "       self.speed = warp\n",
    "       print(f'Warp {warp}, engage!')\n",
    "\n",
    "   def tractor(self):\n",
    "       if self.tractor_beam == 'off':\n",
    "           self.tractor_beam = 'on'\n",
    "           print('Tractor beam on.')\n",
    "       else:\n",
    "           self.tractor_beam = 'off'\n",
    "           print('Tractor beam off')"
   ]
  },
  {
   "cell_type": "code",
   "execution_count": 3,
   "id": "207c7783-099f-428f-947d-ce260310e42a",
   "metadata": {},
   "outputs": [],
   "source": [
    "my_ship = Spaceship('Heart of Gold', 'Improbable')"
   ]
  },
  {
   "cell_type": "code",
   "execution_count": 5,
   "id": "3e6d5f45-d413-40a7-bea0-426b0e869c2b",
   "metadata": {},
   "outputs": [
    {
     "data": {
      "text/plain": [
       "'Heart of Gold'"
      ]
     },
     "execution_count": 5,
     "metadata": {},
     "output_type": "execute_result"
    }
   ],
   "source": [
    "my_ship.name"
   ]
  },
  {
   "cell_type": "code",
   "execution_count": 8,
   "id": "2ab7b1fd-9a44-4610-92ad-7312e9bb15a5",
   "metadata": {},
   "outputs": [
    {
     "name": "stdout",
     "output_type": "stream",
     "text": [
      "Warp 5, engage!\n"
     ]
    }
   ],
   "source": [
    "my_ship.warp(5)"
   ]
  },
  {
   "cell_type": "code",
   "execution_count": 10,
   "id": "8a7dba41-dc03-4ed4-b2c7-bddcc34fa112",
   "metadata": {},
   "outputs": [
    {
     "name": "stdout",
     "output_type": "stream",
     "text": [
      "Tractor beam off\n"
     ]
    }
   ],
   "source": [
    "my_ship.tractor()"
   ]
  },
  {
   "cell_type": "code",
   "execution_count": null,
   "id": "2c21c259-31ce-42c1-9499-ebfde712cf45",
   "metadata": {},
   "outputs": [],
   "source": []
  }
 ],
 "metadata": {
  "kernelspec": {
   "display_name": "Python 3 (ipykernel)",
   "language": "python",
   "name": "python3"
  },
  "language_info": {
   "codemirror_mode": {
    "name": "ipython",
    "version": 3
   },
   "file_extension": ".py",
   "mimetype": "text/x-python",
   "name": "python",
   "nbconvert_exporter": "python",
   "pygments_lexer": "ipython3",
   "version": "3.12.3"
  }
 },
 "nbformat": 4,
 "nbformat_minor": 5
}
