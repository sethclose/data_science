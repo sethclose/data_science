{
 "cells": [
  {
   "cell_type": "markdown",
   "id": "0a906f34-fc0d-4859-beec-286359e0967b",
   "metadata": {},
   "source": [
    "# **Regex**"
   ]
  },
  {
   "cell_type": "markdown",
   "id": "8eb2e2ce-a41d-49ff-874f-eeb8951da44e",
   "metadata": {},
   "source": [
    "#### Author:  Seth Close"
   ]
  },
  {
   "cell_type": "markdown",
   "id": "342e6d2c-91a8-4186-8e87-3f768f5018ef",
   "metadata": {},
   "source": [
    "#### 30 DEC 2023"
   ]
  },
  {
   "cell_type": "code",
   "execution_count": 2,
   "id": "da3f65a2-a26c-4866-82c0-d46df9e9d324",
   "metadata": {},
   "outputs": [],
   "source": [
    "import re  # regex"
   ]
  },
  {
   "cell_type": "markdown",
   "id": "c05b48bc-d1ff-4af3-a149-d086db9444ae",
   "metadata": {},
   "source": [
    "| Code | Description | Example |\n",
    "| ----------- | ----------- |---------- |\n",
    "| **\\d** |  Matches any digit character (0-9)  | \"123\" matches \"\\d\\d\\d\" |   \n",
    "| **\\D** | Matches any non-digit character\t  | \"hello\" matches \"\\D\\D\\D\\D\\D\" |\n",
    "| **\\w** | Matches any word character (a-z, A-Z, 0-9, and _) | \"hello_world\" matches \"\\w\\w\\w\\w\\w\\w\\w\\w\\w\" |\n",
    "| **\\W** | Matches any non-word character | \"@#$%\" matches \"\\W\\W\\W\\W\" |\n",
    "| **\\s** | Matches any whitespace character (space, tab, newline, etc.) | \"hello world\" matches \"\\w\\s\\w\\w\\w\\w\\w\" |\n",
    "| **\\S** | Matches any non-whitespace character | \"hello_world\" matches \"\\S\\S\\S\\S\\S\\S\\S\\S\\S\" |\n",
    "| **\\b** | Matches the boundary between a word character and a non-word character\t | \"cat\" matches \"\\bcat\\b\" in \"The cat sat on the mat\" |\n",
    "| **\\B** | Matches any position that is not a word boundary | \"cat\" matches \"\\Bcat\\B\" in \"category\" but not in \"The cat sat on the mat\" |"
   ]
  },
  {
   "cell_type": "code",
   "execution_count": null,
   "id": "86d50cbb-5b29-4350-8c4a-33a63ee26f74",
   "metadata": {},
   "outputs": [],
   "source": []
  },
  {
   "cell_type": "code",
   "execution_count": 3,
   "id": "ec694b55-83b8-4cb5-8b62-852527642532",
   "metadata": {},
   "outputs": [
    {
     "name": "stdout",
     "output_type": "stream",
     "text": [
      "ring\n"
     ]
    }
   ],
   "source": [
    "string = \"This is a sample string.\"\n",
    "pattern = r\"ring\"\n",
    "result = re.search(pattern,string)\n",
    "print(result.group()) # "
   ]
  },
  {
   "cell_type": "code",
   "execution_count": 4,
   "id": "9a9dde23-3071-4713-8b98-f400b7755d91",
   "metadata": {},
   "outputs": [
    {
     "name": "stdout",
     "output_type": "stream",
     "text": [
      "123\n"
     ]
    }
   ],
   "source": [
    "print(re.search(r\"\\d\\d\\d\", \"I like 123.\").group())"
   ]
  },
  {
   "cell_type": "code",
   "execution_count": 5,
   "id": "6042b687-68e7-4ff6-828a-014884920d4f",
   "metadata": {},
   "outputs": [
    {
     "name": "stdout",
     "output_type": "stream",
     "text": [
      "[',', ' ', '!']\n"
     ]
    }
   ],
   "source": [
    "print(re.findall(r\"\\W\", \"Hello, world!\"))"
   ]
  },
  {
   "cell_type": "code",
   "execution_count": 6,
   "id": "e49b6b7d-12a2-4a3a-b264-ca6d8cd2832c",
   "metadata": {},
   "outputs": [
    {
     "name": "stdout",
     "output_type": "stream",
     "text": [
      "['What', 'time', 'is', 'it?']\n"
     ]
    }
   ],
   "source": [
    "print(re.split(r\"\\s\", \"What time is it?\"))"
   ]
  },
  {
   "cell_type": "code",
   "execution_count": 8,
   "id": "13a80efd-0366-4906-a4c9-03c130b597d2",
   "metadata": {},
   "outputs": [
    {
     "name": "stdout",
     "output_type": "stream",
     "text": [
      "THEY are not here.\n"
     ]
    }
   ],
   "source": [
    "print(re.sub(r\"they\", \"THEY\", \"They are not here.\", flags=re.IGNORECASE))"
   ]
  },
  {
   "cell_type": "code",
   "execution_count": 1,
   "id": "27fc4f60-f8ce-4b57-afb0-2d414574e884",
   "metadata": {},
   "outputs": [
    {
     "name": "stdout",
     "output_type": "stream",
     "text": [
      "Found '^The.*Spain$' in 'The rain in Spain'\n",
      "Starts with 'The', then some characters, Ending with 'Spain'\n",
      "Found 'ai' in 'The rain in Spain':  ['ai', 'ai']\n"
     ]
    }
   ],
   "source": [
    "import re\n",
    "def regexes():\n",
    "    \"\"\"\n",
    "    Function for experimenting with regular expressions (regex's)\n",
    "    \"\"\"\n",
    "    \n",
    "    txt = \"The rain in Spain\"\n",
    "    \n",
    "    if \"re.Match\" in str(re.search(\"^The.*Spain$\", txt)): \n",
    "        print(f\"Found '^The.*Spain$' in '{txt}'\")\n",
    "        print(\"Starts with 'The', then some characters, Ending with 'Spain'\")\n",
    "\n",
    "    search = \"ai\"\n",
    "    found = re.findall(search, txt)\n",
    "    if len(search) > 0:\n",
    "        print(f\"Found '{search}' in '{txt}':  {found}\")\n",
    "    \n",
    "    return\n",
    "regexes()"
   ]
  }
 ],
 "metadata": {
  "kernelspec": {
   "display_name": "Python 3 (ipykernel)",
   "language": "python",
   "name": "python3"
  },
  "language_info": {
   "codemirror_mode": {
    "name": "ipython",
    "version": 3
   },
   "file_extension": ".py",
   "mimetype": "text/x-python",
   "name": "python",
   "nbconvert_exporter": "python",
   "pygments_lexer": "ipython3",
   "version": "3.9.2"
  }
 },
 "nbformat": 4,
 "nbformat_minor": 5
}
