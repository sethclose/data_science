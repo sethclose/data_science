{
 "cells": [
  {
   "cell_type": "markdown",
   "id": "b9f598ed-ab6f-4861-a63d-2f95fe351db3",
   "metadata": {},
   "source": [
    "# **Exception Handling**"
   ]
  },
  {
   "cell_type": "markdown",
   "id": "fa981b6e-cc6e-473a-b3ff-1c2ae7109f9a",
   "metadata": {},
   "source": [
    "#### Author:  Seth Close"
   ]
  },
  {
   "cell_type": "markdown",
   "id": "4ac6be98-bfe3-4c52-8b2f-b2807804715f",
   "metadata": {},
   "source": [
    "#### 30 DEC 2023"
   ]
  },
  {
   "cell_type": "markdown",
   "id": "fbe9ccb4-6cdd-4c22-a6bf-37d0d6a5d07c",
   "metadata": {},
   "source": [
    "#### **Common Exceptions in Python**\n",
    "\n",
    "##### Here are a few examples of exceptions we often run into and can handle using this tool:\n",
    "\n",
    "##### **ZeroDivisionError**: This error arises when an attempt is made to divide a number by zero. Division by zero is undefined in mathematics, causing an arithmetic error. For instance:\n",
    "> For example:\n",
    "  result = 10 / 0 # Raises ZeroDivisionError\n",
    "\n",
    "##### **ValueError**: This error occurs when an inappropriate value is used within the code. An example of this is when trying to convert a non-numeric string to an integer:\n",
    "> For example:\n",
    "  num = int(\"abc\") # Raises ValueError\n",
    "\n",
    "##### **NameError**: This error occurs a variable is used that has not been defined.\n",
    "> For example:\n",
    "  num = x + 5 # Raises NameError\n",
    "\n",
    "##### **FileNotFoundError**: This exception is encountered when an attempt is made to access a file that does not exist.\n",
    "> For example:\n",
    "  with open(\"nonexistent_file.txt\", \"r\") as file:\n",
    "  content = file.read() # Raises FileNotFoundError\n",
    "\n",
    "##### **IndexError**: An IndexError occurs when an index is used to access an element in a list that is outside the valid index range.\n",
    "> For example:\n",
    "  my_list = [1, 2, 3]\n",
    "  value = my_list[1] # No IndexError, within range\n",
    "  missing = my_list[5] # Raises IndexError\n",
    "\n",
    "##### **KeyError**: The KeyError arises when an attempt is made to access a non-existent key in a dictionary.\n",
    "> For example:\n",
    "  my_dict = {\"name\": \"Alice\", \"age\": 30}\n",
    "  value = my_dict.get(\"city\") # No KeyError, using .get() method\n",
    "  missing = my_dict[\"city\"] # Raises KeyError\n",
    "\n",
    "##### **TypeError**: The TypeError occurs when an object is used in an incompatible manner. An example includes trying to concatenate a string and an integer:\n",
    "> For example:\n",
    "  result = \"hello\" + 5 # Raises TypeError\n",
    "\n",
    "##### **AttributeError**: An AttributeError occurs when an attribute or method is accessed on an object that doesn’t possess that specific attribute or method. For instance:\n",
    "> For example:\n",
    "  text = \"example\"\n",
    "  length = len(text) # No AttributeError, correct method usage\n",
    "  missing = text.some_method() # Raises AttributeError\n",
    "\n",
    "##### **ImportError**: This error is encountered when an attempt is made to import a module that is unavailable.\n",
    "> For example: import non_existent_module # Raises ImportError\n",
    "\n",
    "##### **Note**: Please remember, the exceptions you will encounter are not limited to just these. There are many more in Python. However, there is no need to worry. By using the technique provided below and following the correct syntax, you will be able to handle any exceptions that come your way.\n",
    "\n",
    "###### This section was (mostly) copied from Akansha Yadav (python-for-applied-data-science-ai, IBM)\n"
   ]
  },
  {
   "cell_type": "code",
   "execution_count": 1,
   "id": "20c356f1-f83d-45bc-8c2a-2c0b851532db",
   "metadata": {},
   "outputs": [
    {
     "name": "stdout",
     "output_type": "stream",
     "text": [
      "Try: 1/0\n",
      "Caught Exception(s):['Zero division error', 'Finally']\n"
     ]
    }
   ],
   "source": [
    "    # Different Math Types of Exceptions\n",
    "    catches = []\n",
    "    try:\n",
    "        print(\"Try: 1/0\")\n",
    "        1 / 0\n",
    "    except ZeroDivisionError:\n",
    "        catches.append(\"Zero division error\")\n",
    "    except ArithmeticError:\n",
    "        catches.append(\"Arithmetic error\")\n",
    "    except Exception as e:\n",
    "        catches.append(\"Exception:  \" + str(e))\n",
    "    else:\n",
    "        catches.append(\"Else\")\n",
    "    finally:\n",
    "        catches.append(\"Finally\")\n",
    "    print(\"Caught Exception(s):\" + str(catches))"
   ]
  }
 ],
 "metadata": {
  "kernelspec": {
   "display_name": "Python 3 (ipykernel)",
   "language": "python",
   "name": "python3"
  },
  "language_info": {
   "codemirror_mode": {
    "name": "ipython",
    "version": 3
   },
   "file_extension": ".py",
   "mimetype": "text/x-python",
   "name": "python",
   "nbconvert_exporter": "python",
   "pygments_lexer": "ipython3",
   "version": "3.9.2"
  }
 },
 "nbformat": 4,
 "nbformat_minor": 5
}
