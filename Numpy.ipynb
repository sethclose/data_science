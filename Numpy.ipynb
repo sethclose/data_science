{
 "cells": [
  {
   "cell_type": "markdown",
   "id": "e41e9dd6-4645-45db-8da9-cf8e6434af52",
   "metadata": {},
   "source": [
    "## ![](./images/numpy.jpg)             **Numpy** "
   ]
  },
  {
   "cell_type": "markdown",
   "id": "330b5ab5-3a2d-479c-91ab-f1bb0e8df860",
   "metadata": {},
   "source": [
    "#### **Author:  Seth Close**"
   ]
  },
  {
   "cell_type": "markdown",
   "id": "c186cc87-20d1-4984-8b19-ac8f142a815e",
   "metadata": {},
   "source": [
    "#### 31 DEC 2023"
   ]
  },
  {
   "cell_type": "code",
   "execution_count": 6,
   "id": "8fd6fe73-abe4-4f1c-9493-4988d618ef2b",
   "metadata": {},
   "outputs": [],
   "source": [
    "import numpy as np"
   ]
  },
  {
   "cell_type": "markdown",
   "id": "e595a699-e00a-402a-b39b-770622cff35a",
   "metadata": {},
   "source": [
    "### Basics and Array Creation"
   ]
  },
  {
   "cell_type": "code",
   "execution_count": null,
   "id": "321efa12-26a7-45b4-8e67-c27c4f3d1428",
   "metadata": {},
   "outputs": [],
   "source": []
  },
  {
   "cell_type": "code",
   "execution_count": 24,
   "id": "6780b9e2-dd5e-4632-be84-741906f5dd18",
   "metadata": {},
   "outputs": [],
   "source": [
    "a = np.array([1,2,3,4,5])"
   ]
  },
  {
   "cell_type": "code",
   "execution_count": 11,
   "id": "57d677b5-c38c-417e-8a19-a6d06893314e",
   "metadata": {},
   "outputs": [
    {
     "data": {
      "text/plain": [
       "numpy.ndarray"
      ]
     },
     "execution_count": 11,
     "metadata": {},
     "output_type": "execute_result"
    }
   ],
   "source": [
    "type(a)"
   ]
  },
  {
   "cell_type": "code",
   "execution_count": 14,
   "id": "1d1921e1-66f9-4206-bb97-f6f64ac504fb",
   "metadata": {},
   "outputs": [
    {
     "data": {
      "text/plain": [
       "dtype('int64')"
      ]
     },
     "execution_count": 14,
     "metadata": {},
     "output_type": "execute_result"
    }
   ],
   "source": [
    "a.dtype"
   ]
  },
  {
   "cell_type": "code",
   "execution_count": 25,
   "id": "191f516b-b3fd-4cab-bda5-bd75914db57c",
   "metadata": {},
   "outputs": [
    {
     "data": {
      "text/plain": [
       "array([1, 2, 3, 4, 5])"
      ]
     },
     "execution_count": 25,
     "metadata": {},
     "output_type": "execute_result"
    }
   ],
   "source": [
    "a\n"
   ]
  },
  {
   "cell_type": "markdown",
   "id": "ccefb806-37eb-4d3c-8564-57c61b8d5b8e",
   "metadata": {},
   "source": [
    "### Indexing and Slicing"
   ]
  },
  {
   "cell_type": "code",
   "execution_count": 26,
   "id": "bb5f53ff-d31a-4233-8452-606b5e33b48d",
   "metadata": {},
   "outputs": [
    {
     "data": {
      "text/plain": [
       "array([2, 3])"
      ]
     },
     "execution_count": 26,
     "metadata": {},
     "output_type": "execute_result"
    }
   ],
   "source": [
    "b = a[1:-2]\n",
    "b"
   ]
  },
  {
   "cell_type": "code",
   "execution_count": 29,
   "id": "b3050bb3-3c7e-4fb4-a41a-4f34720531bb",
   "metadata": {},
   "outputs": [
    {
     "data": {
      "text/plain": [
       "array([1, 6, 7, 8, 5])"
      ]
     },
     "execution_count": 29,
     "metadata": {},
     "output_type": "execute_result"
    }
   ],
   "source": [
    "a[1:-1] = [6,7,8]\n",
    "a"
   ]
  },
  {
   "cell_type": "code",
   "execution_count": 83,
   "id": "654e938a-ee7d-48d8-a2ad-91e5bad255b6",
   "metadata": {},
   "outputs": [
    {
     "data": {
      "text/plain": [
       "array([10, 30, 50])"
      ]
     },
     "execution_count": 83,
     "metadata": {},
     "output_type": "execute_result"
    }
   ],
   "source": [
    "d = np.array([10, 20, 30, 40, 50, 60])\n",
    "select = [0, 2, 4]\n",
    "d[select]\n"
   ]
  },
  {
   "cell_type": "markdown",
   "id": "202d7b91-2081-42a0-825f-ad396a1bcd9e",
   "metadata": {},
   "source": [
    "### Basic Operations"
   ]
  },
  {
   "cell_type": "code",
   "execution_count": 31,
   "id": "1350c27d-3567-44e4-856b-f41458d6e88e",
   "metadata": {},
   "outputs": [
    {
     "data": {
      "text/plain": [
       "[1, 1]"
      ]
     },
     "execution_count": 31,
     "metadata": {},
     "output_type": "execute_result"
    }
   ],
   "source": [
    "# Basic Vector Addition with Arrays \n",
    "u = [1,0]\n",
    "v = [0,1]\n",
    "z = []\n",
    "for n, m in zip(u,v):\n",
    "    z.append(n+m)\n",
    "z"
   ]
  },
  {
   "cell_type": "code",
   "execution_count": 32,
   "id": "69ff5ce1-b7e9-444a-b6ca-ac2adb25b95b",
   "metadata": {},
   "outputs": [
    {
     "data": {
      "text/plain": [
       "[1, 0, 0, 1]"
      ]
     },
     "execution_count": 32,
     "metadata": {},
     "output_type": "execute_result"
    }
   ],
   "source": [
    "u + v"
   ]
  },
  {
   "cell_type": "code",
   "execution_count": 40,
   "id": "97502bcb-331a-4414-beb8-281cba5b240b",
   "metadata": {},
   "outputs": [
    {
     "data": {
      "text/plain": [
       "[1, 0, 1, 0]"
      ]
     },
     "execution_count": 40,
     "metadata": {},
     "output_type": "execute_result"
    }
   ],
   "source": [
    "2*u"
   ]
  },
  {
   "cell_type": "code",
   "execution_count": 37,
   "id": "9dc19dac-c3ce-437d-aa8e-21a55e90853f",
   "metadata": {},
   "outputs": [
    {
     "data": {
      "text/plain": [
       "array([1, 1])"
      ]
     },
     "execution_count": 37,
     "metadata": {},
     "output_type": "execute_result"
    }
   ],
   "source": [
    "# Numpy Vector Arithmetic\n",
    "U = np.array(u)\n",
    "V = np.array(v)\n",
    "U + V"
   ]
  },
  {
   "cell_type": "code",
   "execution_count": 36,
   "id": "00bee58e-e686-4b79-9fe5-652d93ed146b",
   "metadata": {},
   "outputs": [
    {
     "data": {
      "text/plain": [
       "array([ 1, -1])"
      ]
     },
     "execution_count": 36,
     "metadata": {},
     "output_type": "execute_result"
    }
   ],
   "source": [
    "U - V"
   ]
  },
  {
   "cell_type": "code",
   "execution_count": 41,
   "id": "ee6e6f60-cc46-4cce-a74f-b2635dc7c06f",
   "metadata": {},
   "outputs": [
    {
     "data": {
      "text/plain": [
       "array([2, 0])"
      ]
     },
     "execution_count": 41,
     "metadata": {},
     "output_type": "execute_result"
    }
   ],
   "source": [
    "2*U"
   ]
  },
  {
   "cell_type": "code",
   "execution_count": 42,
   "id": "dbeaae3a-3a4b-4682-8289-3fd650ad50b2",
   "metadata": {},
   "outputs": [
    {
     "data": {
      "text/plain": [
       "array([0, 0])"
      ]
     },
     "execution_count": 42,
     "metadata": {},
     "output_type": "execute_result"
    }
   ],
   "source": [
    "U*V  # Hadamard Product"
   ]
  },
  {
   "cell_type": "code",
   "execution_count": 43,
   "id": "ab4a08c4-fac7-4d5c-a7bf-a7e991eda3cb",
   "metadata": {},
   "outputs": [
    {
     "data": {
      "text/plain": [
       "0"
      ]
     },
     "execution_count": 43,
     "metadata": {},
     "output_type": "execute_result"
    }
   ],
   "source": [
    "np.dot(U,V) # Dot Product"
   ]
  },
  {
   "cell_type": "code",
   "execution_count": 45,
   "id": "628a94ca-838c-43e8-8b4d-874c574c97a5",
   "metadata": {},
   "outputs": [
    {
     "data": {
      "text/plain": [
       "array([4, 3])"
      ]
     },
     "execution_count": 45,
     "metadata": {},
     "output_type": "execute_result"
    }
   ],
   "source": [
    "U + 3 # Broadcasting"
   ]
  },
  {
   "cell_type": "markdown",
   "id": "5b28c2e5-949f-4a58-980b-32d2fbe6e1f2",
   "metadata": {},
   "source": [
    "### Universal Functions"
   ]
  },
  {
   "cell_type": "markdown",
   "id": "92665634-9a3c-4776-977c-c13c7235107b",
   "metadata": {},
   "source": [
    "| method | example |\n",
    "| --- | --- |\n",
    "| .mean() | |\n",
    "| .std() | Standard Deviation |\n",
    "| .max() | |\n",
    "| .min() | |\n",
    "| .sin(), .cos(), .tan() | | \n",
    "| .linspace(start,end,n) | n evenly spaced numbers in (start,end) | "
   ]
  },
  {
   "cell_type": "code",
   "execution_count": 47,
   "id": "68df7e1c-cff6-4cb6-ba6f-e0dec34a7a7a",
   "metadata": {},
   "outputs": [
    {
     "data": {
      "text/plain": [
       "3.141592653589793"
      ]
     },
     "execution_count": 47,
     "metadata": {},
     "output_type": "execute_result"
    }
   ],
   "source": [
    "np.pi"
   ]
  },
  {
   "cell_type": "code",
   "execution_count": 57,
   "id": "8a02d6b8-6de2-4d2b-98c8-f45a087f0ad3",
   "metadata": {},
   "outputs": [
    {
     "data": {
      "text/plain": [
       "array([0.        , 1.57079633, 3.14159265])"
      ]
     },
     "execution_count": 57,
     "metadata": {},
     "output_type": "execute_result"
    }
   ],
   "source": [
    "np.array([0, np.pi/2, np.pi])"
   ]
  },
  {
   "cell_type": "code",
   "execution_count": 64,
   "id": "9f340f35-3c7b-4171-857b-e8b6f9ba8dd6",
   "metadata": {},
   "outputs": [
    {
     "data": {
      "text/plain": [
       "array([0.0000000e+00, 1.0000000e+00, 1.2246468e-16])"
      ]
     },
     "execution_count": 64,
     "metadata": {},
     "output_type": "execute_result"
    }
   ],
   "source": [
    "np.sin(np.array([0, np.pi/2, np.pi]))"
   ]
  },
  {
   "cell_type": "code",
   "execution_count": 50,
   "id": "e92265b5-2e7a-42e7-a935-9d4ff51a1b4b",
   "metadata": {},
   "outputs": [
    {
     "data": {
      "text/plain": [
       "0.5"
      ]
     },
     "execution_count": 50,
     "metadata": {},
     "output_type": "execute_result"
    }
   ],
   "source": [
    "round(np.sin(np.pi/6),3)"
   ]
  },
  {
   "cell_type": "code",
   "execution_count": 52,
   "id": "fd2372c3-0d34-42ba-ad5c-91200449fdcb",
   "metadata": {},
   "outputs": [
    {
     "data": {
      "text/plain": [
       "0.5"
      ]
     },
     "execution_count": 52,
     "metadata": {},
     "output_type": "execute_result"
    }
   ],
   "source": [
    "round(np.cos(np.pi/3),3)"
   ]
  },
  {
   "cell_type": "code",
   "execution_count": 66,
   "id": "5acf6ddc-c5fc-403e-b401-41f878f98338",
   "metadata": {},
   "outputs": [
    {
     "data": {
      "text/plain": [
       "array([-10. ,  -7.5,  -5. ,  -2.5,   0. ,   2.5,   5. ,   7.5,  10. ])"
      ]
     },
     "execution_count": 66,
     "metadata": {},
     "output_type": "execute_result"
    }
   ],
   "source": [
    "np.linspace(-10,10,9)"
   ]
  },
  {
   "cell_type": "markdown",
   "id": "a5c34c28-83c8-428e-a912-e7e351b4877e",
   "metadata": {},
   "source": [
    "### Statistical Functions"
   ]
  },
  {
   "cell_type": "code",
   "execution_count": 108,
   "id": "745a857e-c876-43c5-8418-4748cedb1adc",
   "metadata": {},
   "outputs": [],
   "source": [
    "a = np.array([1, -2, 1, -1])"
   ]
  },
  {
   "cell_type": "code",
   "execution_count": 109,
   "id": "7520a0cb-2d36-4b3b-b3ad-ab1ce06f254e",
   "metadata": {},
   "outputs": [
    {
     "data": {
      "text/plain": [
       "-0.25"
      ]
     },
     "execution_count": 109,
     "metadata": {},
     "output_type": "execute_result"
    }
   ],
   "source": [
    "mean = a.mean() \n",
    "mean"
   ]
  },
  {
   "cell_type": "code",
   "execution_count": 110,
   "id": "33d30e58-beab-4316-ab77-e0b3fad96de3",
   "metadata": {},
   "outputs": [
    {
     "data": {
      "text/plain": [
       "1.3"
      ]
     },
     "execution_count": 110,
     "metadata": {},
     "output_type": "execute_result"
    }
   ],
   "source": [
    "standard_deviation=round(a.std(),2)\n",
    "standard_deviation"
   ]
  },
  {
   "cell_type": "code",
   "execution_count": 111,
   "id": "d9da5055-4204-45ac-a2b4-7ad50ca38eef",
   "metadata": {},
   "outputs": [
    {
     "name": "stdout",
     "output_type": "stream",
     "text": [
      "1   -2\n"
     ]
    }
   ],
   "source": [
    "print(max(a), \" \", min(a))"
   ]
  },
  {
   "cell_type": "markdown",
   "id": "cb6cb1bb-305b-4f67-9c40-3e17c2fe6ffd",
   "metadata": {},
   "source": [
    "### matplotlib.plotxy"
   ]
  },
  {
   "cell_type": "code",
   "execution_count": 72,
   "id": "3038d858-2398-4a0c-a1ff-99e390da97ee",
   "metadata": {},
   "outputs": [
    {
     "data": {
      "text/plain": [
       "[<matplotlib.lines.Line2D at 0x78e9e4c23d90>]"
      ]
     },
     "execution_count": 72,
     "metadata": {},
     "output_type": "execute_result"
    },
    {
     "data": {
      "image/png": "[encoded data removed]",
      "text/plain": [
       "<Figure size 640x480 with 1 Axes>"
      ]
     },
     "metadata": {},
     "output_type": "display_data"
    }
   ],
   "source": [
    "x = np.linspace(0, 2*np.pi, 100)\n",
    "y = np.sin(x)\n",
    "import matplotlib.pyplot as plt\n",
    "#%matplotlib inline\n",
    "plt.plot(x,y)"
   ]
  },
  {
   "cell_type": "markdown",
   "id": "4a99189b-1094-4866-881e-cf06658e1f40",
   "metadata": {},
   "source": [
    "#### More Plotting"
   ]
  },
  {
   "cell_type": "code",
   "execution_count": 106,
   "id": "53ea0838-d909-4d8f-9e51-d5462e975122",
   "metadata": {},
   "outputs": [
    {
     "data": {
      "image/png": "[encoded data removed]",
      "text/plain": [
       "<Figure size 640x480 with 1 Axes>"
      ]
     },
     "metadata": {},
     "output_type": "display_data"
    }
   ],
   "source": [
    "import time \n",
    "import sys\n",
    "\n",
    "def plot_vector(u, z, v):\n",
    "    \n",
    "    ax = plt.axes() # to generate the full window axes\n",
    "    plt.ylim(-0.5, 1.5)#set the ylim to bottom(-2), top(2)\n",
    "    plt.xlim(-0.5, 1.5)#set the xlim to left(-2), right(2)\n",
    "    \n",
    "    ax.arrow(0, 0, *u, head_width=0.05, color='r', head_length=0.1)# Add an arrow to the  U Axes with arrow head width 0.05, color red and arrow head length 0.1\n",
    "    plt.text(*(u + 0.1), 'u')#Adds the text u to the Axes \n",
    "    \n",
    "    ax.arrow(0, 0, *v, head_width=0.05, color='b', head_length=0.1)# Add an arrow to the  v Axes with arrow head width 0.05, color red and arrow head length 0.1\n",
    "    plt.text(*(v + 0.1), 'v')#Adds the text v to the Axes \n",
    "    \n",
    "    ax.arrow(0, 0, *z, head_width=0.05, head_length=0.1)\n",
    "    plt.text(*(z + 0.1), 'z')#Adds the text z to the Axes \n",
    "    \n",
    "u = np.array([1, 0])\n",
    "v = np.array([0, 1])\n",
    "z = np.add(u,v) # Or z = u + v\n",
    "\n",
    "plot_vector(u, z, v)\n"
   ]
  },
  {
   "cell_type": "markdown",
   "id": "6507c98a-ca89-4c36-bd2d-6d7e9e0fd174",
   "metadata": {},
   "source": [
    "### **Two Dimensional Arrays**"
   ]
  },
  {
   "cell_type": "code",
   "execution_count": 112,
   "id": "dff55f31-ce86-4f8c-9921-04d31c7bbac8",
   "metadata": {},
   "outputs": [],
   "source": [
    "# Creating a 2D array\n",
    "arr_2d = np.array([[1, 2, 3], [4, 5, 6], [7, 8, 9]])"
   ]
  },
  {
   "cell_type": "code",
   "execution_count": 114,
   "id": "f568749f-85b8-4133-b676-6d3337b8c802",
   "metadata": {},
   "outputs": [
    {
     "name": "stdout",
     "output_type": "stream",
     "text": [
      "2\n",
      "(3, 3)\n",
      "9\n"
     ]
    }
   ],
   "source": [
    "# Array attributes\n",
    "print(arr_2d.ndim)  # ndim : Represents the number of dimensions or \"rank\" of the array.\n",
    "print(arr_2d.shape)  # shape : Returns a tuple indicating the number of rows and columns in the array.\n",
    "print(arr_2d.size) # size: Provides the total number of elements in the array.  "
   ]
  },
  {
   "cell_type": "code",
   "execution_count": 115,
   "id": "1b2d5529-bc09-4bd4-8c24-97896171e102",
   "metadata": {},
   "outputs": [
    {
     "name": "stdout",
     "output_type": "stream",
     "text": [
      "6\n"
     ]
    }
   ],
   "source": [
    "print(arr_2d[1, 2])       # Accessing an element (2nd row, 3rd column)"
   ]
  },
  {
   "cell_type": "code",
   "execution_count": 116,
   "id": "3e61cb8f-8447-4565-abe8-17a0e9218080",
   "metadata": {},
   "outputs": [
    {
     "name": "stdout",
     "output_type": "stream",
     "text": [
      "[4 5 6]\n"
     ]
    }
   ],
   "source": [
    "print(arr_2d[1])          # Accessing a row (2nd row)"
   ]
  },
  {
   "cell_type": "code",
   "execution_count": 117,
   "id": "fb433b24-b980-4a50-ae20-7c053b23b928",
   "metadata": {},
   "outputs": [
    {
     "name": "stdout",
     "output_type": "stream",
     "text": [
      "[2 5 8]\n"
     ]
    }
   ],
   "source": [
    "print(arr_2d[:, 1])       # Accessing a column (2nd column)"
   ]
  }
 ],
 "metadata": {
  "kernelspec": {
   "display_name": "Python 3 (ipykernel)",
   "language": "python",
   "name": "python3"
  },
  "language_info": {
   "codemirror_mode": {
    "name": "ipython",
    "version": 3
   },
   "file_extension": ".py",
   "mimetype": "text/x-python",
   "name": "python",
   "nbconvert_exporter": "python",
   "pygments_lexer": "ipython3",
   "version": "3.9.2"
  }
 },
 "nbformat": 4,
 "nbformat_minor": 5
}
